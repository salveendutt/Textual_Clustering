{
 "cells": [
  {
   "cell_type": "code",
   "execution_count": 1,
   "metadata": {},
   "outputs": [],
   "source": [
    "import pandas as pd\n",
    "from topic_modeling import *"
   ]
  },
  {
   "cell_type": "markdown",
   "metadata": {},
   "source": [
    "## AG News Dataset"
   ]
  },
  {
   "cell_type": "code",
   "execution_count": 2,
   "metadata": {},
   "outputs": [],
   "source": [
    "ag_test = pd.read_csv('../data/AG News/test.csv')\n",
    "ag_train = pd.read_csv('../data/AG News/train.csv')\n",
    "\n",
    "# Define the mapping\n",
    "class_mapping = {1: \"World\", 2: \"Sports\", 3: \"Business\", 4: \"Science\"}\n",
    "\n",
    "# Apply the mapping to the class column\n",
    "ag_test['Class'] = ag_test['Class Index'].replace(class_mapping)\n",
    "ag_train['Class'] = ag_train['Class Index'].replace(class_mapping)\n",
    "ag_test['Preprocessed'] = ag_test['Description'].apply(process_text)\n",
    "ag_news_input_doc = ag_test['Description']\n",
    "ag_news_true_labels = ag_test['Class Index']\n"
   ]
  },
  {
   "cell_type": "code",
   "execution_count": null,
   "metadata": {},
   "outputs": [],
   "source": [
    "lda_pipeline = TopicModelPipeline(LDAModel(n_topics=4))\n",
    "ag_news_lda = lda_pipeline.evaluate(ag_news_input_doc, ag_news_true_labels)\n",
    "print(\"AG News LDA\")\n",
    "print(ag_news_lda)"
   ]
  },
  {
   "cell_type": "code",
   "execution_count": 4,
   "metadata": {},
   "outputs": [
    {
     "name": "stdout",
     "output_type": "stream",
     "text": [
      "AG News LSI\n",
      "{'ARI Score': 0.11134767794495651, 'Topic Coherence': 0.631263547809811, 'Cosine Similarity': 0.5643098305187467, 'Reconstruction Error': None}\n"
     ]
    }
   ],
   "source": [
    "lsi_pipeline = TopicModelPipeline(LSIModel(n_topics=4))\n",
    "ag_news_lsi = lsi_pipeline.evaluate(ag_news_input_doc, ag_news_true_labels)\n",
    "print(\"AG News LSI\")\n",
    "print(ag_news_lsi)"
   ]
  },
  {
   "cell_type": "code",
   "execution_count": 5,
   "metadata": {},
   "outputs": [
    {
     "name": "stdout",
     "output_type": "stream",
     "text": [
      "AG News NMF\n",
      "{'ARI Score': 0.40505035116278554, 'Topic Coherence': 0.7225958953060797, 'Cosine Similarity': 0.473902145695756, 'Reconstruction Error': 86.28456028949256}\n"
     ]
    }
   ],
   "source": [
    "# Running NMF\n",
    "nmf_pipeline = TopicModelPipeline(NMFModel(n_topics=4))\n",
    "ag_news_nmf = nmf_pipeline.evaluate(ag_news_input_doc, ag_news_true_labels)\n",
    "print(\"AG News NMF\")\n",
    "print(ag_news_nmf)\n"
   ]
  },
  {
   "cell_type": "code",
   "execution_count": null,
   "metadata": {},
   "outputs": [],
   "source": []
  }
 ],
 "metadata": {
  "kernelspec": {
   "display_name": "base",
   "language": "python",
   "name": "python3"
  },
  "language_info": {
   "codemirror_mode": {
    "name": "ipython",
    "version": 3
   },
   "file_extension": ".py",
   "mimetype": "text/x-python",
   "name": "python",
   "nbconvert_exporter": "python",
   "pygments_lexer": "ipython3",
   "version": "3.11.7"
  }
 },
 "nbformat": 4,
 "nbformat_minor": 2
}
