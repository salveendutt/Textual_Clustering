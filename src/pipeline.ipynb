{
 "cells": [
  {
   "cell_type": "code",
   "execution_count": null,
   "metadata": {},
   "outputs": [],
   "source": [
    "# # RUN BELOW WHEN RUNNING FOR THE FIRST TIME\n",
    "# import nltk\n",
    "# nltk.download('punkt_tab')\n",
    "# nltk.download('averaged_perceptron_tagger_eng')\n",
    "# nltk.download('wordnet')"
   ]
  },
  {
   "cell_type": "markdown",
   "metadata": {},
   "source": [
    "### Core Assumptions:\n",
    "* Business wants to classify incoming textual data\n",
    "* Minimal labeling needed. Zero to 20 labels per classification "
   ]
  },
  {
   "cell_type": "code",
   "execution_count": 1,
   "metadata": {},
   "outputs": [],
   "source": [
    "import pandas as pd\n",
    "import random\n",
    "from topic_modeling_pipeline import *\n",
    "from classification_pipeline import *\n",
    "random.seed(42)"
   ]
  },
  {
   "cell_type": "markdown",
   "metadata": {},
   "source": [
    "## AG News Dataset"
   ]
  },
  {
   "cell_type": "code",
   "execution_count": 2,
   "metadata": {},
   "outputs": [],
   "source": [
    "taking_sample = True"
   ]
  },
  {
   "cell_type": "code",
   "execution_count": 3,
   "metadata": {},
   "outputs": [],
   "source": [
    "test_sample_size = 5\n",
    "train_sample_size_per_class = 20"
   ]
  },
  {
   "cell_type": "code",
   "execution_count": 4,
   "metadata": {},
   "outputs": [],
   "source": [
    "ag_test = pd.read_csv('../data/AG News/test.csv')\n",
    "ag_train = pd.read_csv('../data/AG News/train_from_llm.csv')\n",
    "\n",
    "ag_train.dropna(subset=['Predicted Topic Index'], inplace=True)\n",
    "\n",
    "# CREATING A SAMPLE TEST SET\n",
    "if taking_sample == True:\n",
    "    ag_test = ag_test.sample(test_sample_size, random_state=42)\n",
    "\n",
    "ag_test_sample_desc = ag_test['Description']\n",
    "ag_test_sample_labels = ag_test['Class Index']\n",
    "\n",
    "\n",
    "# CREATING A BALANCED TRAINING SET\n",
    "ag_train_world_10 = ag_train[ag_train['Class Index'] == 1].sample(train_sample_size_per_class, random_state=42)\n",
    "ag_train_sports_10 = ag_train[ag_train['Class Index'] == 2].sample(train_sample_size_per_class, random_state=42)\n",
    "ag_train_business_10 = ag_train[ag_train['Class Index'] == 3].sample(train_sample_size_per_class, random_state=42)\n",
    "ag_train_science_10 = ag_train[ag_train['Class Index'] == 4].sample(train_sample_size_per_class, random_state=42)\n",
    "\n",
    "# Combine the four dataframes of different categories\n",
    "ag_news_baseline_combined = pd.concat([\n",
    "    ag_train_world_10, \n",
    "    ag_train_sports_10, \n",
    "    ag_train_business_10, \n",
    "    ag_train_science_10\n",
    "])\n",
    "\n",
    "# Shuffle the combined dataframe\n",
    "ag_news_baseline_combined = ag_news_baseline_combined.sample(frac=1, random_state=42)\n",
    "# Reset the index\n",
    "ag_news_baseline_combined = ag_news_baseline_combined.reset_index(drop=True)\n",
    "\n",
    "ag_train_40_desc = ag_news_baseline_combined['Description']\n",
    "ag_train_40_labels = ag_news_baseline_combined['Class Index']\n",
    "\n",
    "ag_train_llm_desc = ag_train['Description']\n",
    "ag_train_llm_labels = ag_train['Predicted Topic Index']"
   ]
  },
  {
   "cell_type": "markdown",
   "metadata": {},
   "source": [
    "### BBC"
   ]
  },
  {
   "cell_type": "code",
   "execution_count": 5,
   "metadata": {},
   "outputs": [],
   "source": [
    "bbc_full = pd.read_csv('../data/BBC News/BBC News Train.csv')\n",
    "bbc_full = bbc_full.rename(columns={'Category': 'Class', 'Text': 'Description'})\n",
    "bbc_class_to_index = {\n",
    "    'business': 1,\n",
    "    'tech': 2,\n",
    "    'entertainment': 3,\n",
    "    'politics': 4,\n",
    "    'sport': 5\n",
    "}\n",
    "\n",
    "bbc_index_to_class = {\n",
    "    1: 'business',\n",
    "    2: 'tech',\n",
    "    3: 'entertainment',\n",
    "    4: 'politics',\n",
    "    5: 'sport'\n",
    "}\n",
    "\n",
    "bbc_full['Class Index'] = bbc_full['Class'].map(bbc_class_to_index)\n",
    "\n",
    "bbc_train = bbc_full.sample(n=400, random_state=42)\n",
    "bbc_test = bbc_full.drop(bbc_train.index)\n",
    "\n",
    "if taking_sample == True:\n",
    "    bbc_test = bbc_test.sample(test_sample_size, random_state=42)\n",
    "\n",
    "bbc_test_sample_desc = bbc_test['Description']\n",
    "bbc_test_sample_labels = bbc_test['Class Index']\n",
    "\n",
    "bbc_train_business_40 = bbc_train[bbc_train['Class Index'] == 1].sample(train_sample_size_per_class, random_state=42)\n",
    "bbc_train_tech_40 = bbc_train[bbc_train['Class Index'] == 2].sample(train_sample_size_per_class, random_state=42)\n",
    "bbc_train_entertainment_40 = bbc_train[bbc_train['Class Index'] == 3].sample(train_sample_size_per_class, random_state=42)\n",
    "bbc_train_politics_40 = bbc_train[bbc_train['Class Index'] == 4].sample(train_sample_size_per_class, random_state=42)\n",
    "bbc_train_sport_40 = bbc_train[bbc_train['Class Index'] == 5].sample(train_sample_size_per_class, random_state=42)\n",
    "\n",
    "# Combine the four dataframes of different categories\n",
    "bbc_news_baseline_combined = pd.concat([\n",
    "    bbc_train_business_40, \n",
    "    bbc_train_tech_40, \n",
    "    bbc_train_entertainment_40, \n",
    "    bbc_train_politics_40, \n",
    "    bbc_train_sport_40\n",
    "])\n",
    "\n",
    "# Shuffle the combined dataframe\n",
    "bbc_news_baseline_combined = bbc_news_baseline_combined.sample(frac=1, random_state=42)\n",
    "# Reset the index\n",
    "bbc_news_baseline_combined = bbc_news_baseline_combined.reset_index(drop=True)\n",
    "\n",
    "bbc_train_40_desc = bbc_news_baseline_combined['Description']\n",
    "bbc_train_40_labels = bbc_news_baseline_combined['Class Index']\n"
   ]
  },
  {
   "cell_type": "code",
   "execution_count": 6,
   "metadata": {},
   "outputs": [
    {
     "data": {
      "text/plain": [
       "(5, 5, 5, 5)"
      ]
     },
     "execution_count": 6,
     "metadata": {},
     "output_type": "execute_result"
    }
   ],
   "source": [
    "len(bbc_test_sample_desc), len(bbc_test_sample_labels), len(ag_test_sample_desc), len(ag_test_sample_labels)"
   ]
  },
  {
   "cell_type": "code",
   "execution_count": 7,
   "metadata": {},
   "outputs": [],
   "source": [
    "# For pipelines that works with all datasets\n",
    "datasets_test = {\n",
    "    \"AG News Full\": (ag_test_sample_desc, ag_test_sample_labels),\n",
    "    \"AG News LLM labels\": (ag_test_sample_desc, ag_test_sample_labels),\n",
    "    \"BBC News Full\": (bbc_test_sample_desc, bbc_test_sample_labels),\n",
    "}\n",
    "\n",
    "datasets_train = {\n",
    "    \"AG News Full\":(ag_train_40_desc, ag_train_40_labels),\n",
    "    \"AG News LLM labels\":(ag_train_llm_desc, ag_train_llm_labels),\n",
    "    \"BBC News Full\": (bbc_train_40_desc, bbc_train_40_labels),\n",
    "}\n",
    "\n",
    "# For pipelines that works with AG News only\n",
    "datasets_test_ag_news = {\n",
    "    \"AG News Full\": (ag_test_sample_desc, ag_test_sample_labels),\n",
    "    \"AG News LLM labels\": (ag_test_sample_desc, ag_test_sample_labels),\n",
    "}\n",
    "\n",
    "datasets_train_ag_news = {\n",
    "    \"AG News Full\":(ag_train_40_desc, ag_train_40_labels),\n",
    "    \"AG News LLM labels\":(ag_train_llm_desc, ag_train_llm_labels),\n",
    "}\n",
    "\n",
    "# For pipelines that works with BBC News only\n",
    "datasets_test_bbc_news = {\n",
    "    \"BBC News Full\": (bbc_test_sample_desc, bbc_test_sample_labels),\n",
    "    # \"BBC News LLM labels\": (bbc_test_sample_desc, bbc_test_sample_labels),\n",
    "}\n",
    "\n",
    "datasets_train_bbc_news = {\n",
    "    \"BBC News Full\": (bbc_train_40_desc, bbc_train_40_labels),\n",
    "    # \"BBC News LLM labels\": (bbc_train_40_desc, bbc_train_40_labels),\n",
    "}"
   ]
  },
  {
   "cell_type": "code",
   "execution_count": 8,
   "metadata": {},
   "outputs": [
    {
     "data": {
      "text/plain": [
       "['LDA_5', 'LSI_5', 'NMF_5']"
      ]
     },
     "execution_count": 8,
     "metadata": {},
     "output_type": "execute_result"
    }
   ],
   "source": [
    "topic_modelling_orchestrator_ag_news = TopicModelingPipelineOrchestrator()\n",
    "topic_modelling_orchestrator_bbc_news = TopicModelingPipelineOrchestrator()\n",
    "topic_modelling_orchestrator_ag_news.add_models_grid(\n",
    "    model_types=[\n",
    "        'LDA', \n",
    "        'LSI',\n",
    "        'NMF'\n",
    "        ],\n",
    "    param_grid={'n_topics': [4]}\n",
    ")\n",
    "topic_modelling_orchestrator_bbc_news.add_models_grid(\n",
    "    model_types=[\n",
    "        'LDA', \n",
    "        'LSI', \n",
    "        'NMF'\n",
    "        ],\n",
    "    param_grid={'n_topics': [5]}\n",
    ")"
   ]
  },
  {
   "cell_type": "code",
   "execution_count": 9,
   "metadata": {},
   "outputs": [
    {
     "name": "stdout",
     "output_type": "stream",
     "text": [
      "2025-06-02 22:27:36,395 TARS initialized without a task. You need to call .add_and_switch_to_new_task() before training this model\n"
     ]
    },
    {
     "data": {
      "text/plain": [
       "['SVM',\n",
       " 'XGBoost',\n",
       " 'LightGBM',\n",
       " 'RandomForest',\n",
       " 'SVMRoberta',\n",
       " 'XGBoostRoberta',\n",
       " 'LightGBMRoberta',\n",
       " 'RandomForestRoberta']"
      ]
     },
     "execution_count": 9,
     "metadata": {},
     "output_type": "execute_result"
    }
   ],
   "source": [
    "class_orchestrator_zero_shot = ClassificationPipelineOrchestrator()\n",
    "class_orchestrator_sup = ClassificationPipelineOrchestrator()\n",
    "class_orchestrator_zero_shot.add_models_grid(\n",
    "    model_types=[\n",
    "        'LLMClassifier',\n",
    "        'TARSZeroShot',\n",
    "    ]\n",
    ")\n",
    "class_orchestrator_sup.add_models_grid(\n",
    "    model_types=[\n",
    "        'SVM',\n",
    "        'XGBoost',\n",
    "        'LightGBM',\n",
    "        'RandomForest',\n",
    "        'SVMRoberta', \n",
    "        'XGBoostRoberta',\n",
    "        'LightGBMRoberta',\n",
    "        'RandomForestRoberta'\n",
    "    ]\n",
    "    # param_grid={'SVMRoberta': [{}], 'SVM': [{}]}  # Empty dictionary means default parameters\n",
    ")"
   ]
  },
  {
   "cell_type": "code",
   "execution_count": 10,
   "metadata": {},
   "outputs": [],
   "source": [
    "from noise_strategy import *\n",
    "noise_strategies = [\n",
    "    NoNoise(),\n",
    "    # AddRandomCharsNoise(), \n",
    "    # AddRandomWordsNoise(), \n",
    "    # DeleteRandomWordsNoise(), \n",
    "    # ShuffleSentencesNoise(noise_level=0.7), \n",
    "    # ReplaceWithSynonymsNoise(), \n",
    "    # ReplaceWithAntonymsNoise()\n",
    "]"
   ]
  },
  {
   "cell_type": "markdown",
   "metadata": {},
   "source": [
    "#### Running pipelines for classification"
   ]
  },
  {
   "cell_type": "code",
   "execution_count": null,
   "metadata": {},
   "outputs": [],
   "source": [
    "class_orchestrator_sup.evaluate_with_training(datasets_train, datasets_test, noise_strategies).round(2)"
   ]
  },
  {
   "cell_type": "code",
   "execution_count": null,
   "metadata": {},
   "outputs": [],
   "source": [
    "class_orchestrator_sup.results.round(2).to_csv('../outputs/final/results_classification_supervised.csv', index=False)"
   ]
  },
  {
   "cell_type": "code",
   "execution_count": 11,
   "metadata": {},
   "outputs": [
    {
     "data": {
      "application/vnd.jupyter.widget-view+json": {
       "model_id": "92f3f044641e4755a6b3b716fad0b173",
       "version_major": 2,
       "version_minor": 0
      },
      "text/plain": [
       "Datasets:   0%|          | 0/3 [00:00<?, ?it/s]"
      ]
     },
     "metadata": {},
     "output_type": "display_data"
    },
    {
     "name": "stderr",
     "output_type": "stream",
     "text": [
      "2025-06-02 22:27:39,112 [INFO] root: Processing dataset: AG News Full\n"
     ]
    },
    {
     "data": {
      "application/vnd.jupyter.widget-view+json": {
       "model_id": "d833484dbb77462ca0da3969099e5790",
       "version_major": 2,
       "version_minor": 0
      },
      "text/plain": [
       "Models:   0%|          | 0/2 [00:00<?, ?it/s]"
      ]
     },
     "metadata": {},
     "output_type": "display_data"
    },
    {
     "data": {
      "application/vnd.jupyter.widget-view+json": {
       "model_id": "f0f55e4578b843da891cd85e4e393a0f",
       "version_major": 2,
       "version_minor": 0
      },
      "text/plain": [
       "Noise Strategies:   0%|          | 0/1 [00:00<?, ?it/s]"
      ]
     },
     "metadata": {},
     "output_type": "display_data"
    },
    {
     "data": {
      "application/vnd.jupyter.widget-view+json": {
       "model_id": "d6a8062fd2304dd6bc6d19c1a7f7ae35",
       "version_major": 2,
       "version_minor": 0
      },
      "text/plain": [
       "Classifying with LLM:   0%|          | 0/5 [00:00<?, ?it/s]"
      ]
     },
     "metadata": {},
     "output_type": "display_data"
    },
    {
     "name": "stderr",
     "output_type": "stream",
     "text": [
      "/opt/anaconda3/lib/python3.11/site-packages/sklearn/metrics/_classification.py:1344: UndefinedMetricWarning: Precision is ill-defined and being set to 0.0 in labels with no predicted samples. Use `zero_division` parameter to control this behavior.\n",
      "  _warn_prf(average, modifier, msg_start, len(result))\n"
     ]
    },
    {
     "data": {
      "application/vnd.jupyter.widget-view+json": {
       "model_id": "4aee9cada2644802adcae53de79ffe0c",
       "version_major": 2,
       "version_minor": 0
      },
      "text/plain": [
       "Noise Strategies:   0%|          | 0/1 [00:00<?, ?it/s]"
      ]
     },
     "metadata": {},
     "output_type": "display_data"
    },
    {
     "name": "stderr",
     "output_type": "stream",
     "text": [
      "/opt/anaconda3/lib/python3.11/site-packages/sklearn/metrics/_classification.py:1344: UndefinedMetricWarning: Precision is ill-defined and being set to 0.0 in labels with no predicted samples. Use `zero_division` parameter to control this behavior.\n",
      "  _warn_prf(average, modifier, msg_start, len(result))\n",
      "/opt/anaconda3/lib/python3.11/site-packages/sklearn/metrics/_classification.py:1344: UndefinedMetricWarning: Recall is ill-defined and being set to 0.0 in labels with no true samples. Use `zero_division` parameter to control this behavior.\n",
      "  _warn_prf(average, modifier, msg_start, len(result))\n",
      "2025-06-02 22:27:44,194 [INFO] root: Processing dataset: AG News LLM labels\n"
     ]
    },
    {
     "data": {
      "application/vnd.jupyter.widget-view+json": {
       "model_id": "e68884169acf4c7ca2f5f2f1116644f8",
       "version_major": 2,
       "version_minor": 0
      },
      "text/plain": [
       "Models:   0%|          | 0/2 [00:00<?, ?it/s]"
      ]
     },
     "metadata": {},
     "output_type": "display_data"
    },
    {
     "data": {
      "application/vnd.jupyter.widget-view+json": {
       "model_id": "02f02f0392ae4a65954ecbaacd09ad1d",
       "version_major": 2,
       "version_minor": 0
      },
      "text/plain": [
       "Noise Strategies:   0%|          | 0/1 [00:00<?, ?it/s]"
      ]
     },
     "metadata": {},
     "output_type": "display_data"
    },
    {
     "data": {
      "application/vnd.jupyter.widget-view+json": {
       "model_id": "759ca930e6164303b23592dd26a8aab6",
       "version_major": 2,
       "version_minor": 0
      },
      "text/plain": [
       "Classifying with LLM:   0%|          | 0/5 [00:00<?, ?it/s]"
      ]
     },
     "metadata": {},
     "output_type": "display_data"
    },
    {
     "name": "stderr",
     "output_type": "stream",
     "text": [
      "/opt/anaconda3/lib/python3.11/site-packages/sklearn/metrics/_classification.py:1344: UndefinedMetricWarning: Precision is ill-defined and being set to 0.0 in labels with no predicted samples. Use `zero_division` parameter to control this behavior.\n",
      "  _warn_prf(average, modifier, msg_start, len(result))\n"
     ]
    },
    {
     "data": {
      "application/vnd.jupyter.widget-view+json": {
       "model_id": "87cd4bdaa2ed4ea08b4681a0ae6ad9f3",
       "version_major": 2,
       "version_minor": 0
      },
      "text/plain": [
       "Noise Strategies:   0%|          | 0/1 [00:00<?, ?it/s]"
      ]
     },
     "metadata": {},
     "output_type": "display_data"
    },
    {
     "name": "stderr",
     "output_type": "stream",
     "text": [
      "/opt/anaconda3/lib/python3.11/site-packages/sklearn/metrics/_classification.py:1344: UndefinedMetricWarning: Precision is ill-defined and being set to 0.0 in labels with no predicted samples. Use `zero_division` parameter to control this behavior.\n",
      "  _warn_prf(average, modifier, msg_start, len(result))\n",
      "/opt/anaconda3/lib/python3.11/site-packages/sklearn/metrics/_classification.py:1344: UndefinedMetricWarning: Recall is ill-defined and being set to 0.0 in labels with no true samples. Use `zero_division` parameter to control this behavior.\n",
      "  _warn_prf(average, modifier, msg_start, len(result))\n",
      "2025-06-02 22:27:45,954 [INFO] root: Processing dataset: BBC News Full\n"
     ]
    },
    {
     "data": {
      "application/vnd.jupyter.widget-view+json": {
       "model_id": "4ac6f594caee465aabcd68dfa0834d6e",
       "version_major": 2,
       "version_minor": 0
      },
      "text/plain": [
       "Models:   0%|          | 0/2 [00:00<?, ?it/s]"
      ]
     },
     "metadata": {},
     "output_type": "display_data"
    },
    {
     "data": {
      "application/vnd.jupyter.widget-view+json": {
       "model_id": "b7f3d31fd88747a4812d0ffcb68a6299",
       "version_major": 2,
       "version_minor": 0
      },
      "text/plain": [
       "Noise Strategies:   0%|          | 0/1 [00:00<?, ?it/s]"
      ]
     },
     "metadata": {},
     "output_type": "display_data"
    },
    {
     "data": {
      "application/vnd.jupyter.widget-view+json": {
       "model_id": "ed6894f44542416a9d784a8b5693dd55",
       "version_major": 2,
       "version_minor": 0
      },
      "text/plain": [
       "Classifying with LLM:   0%|          | 0/5 [00:00<?, ?it/s]"
      ]
     },
     "metadata": {},
     "output_type": "display_data"
    },
    {
     "data": {
      "application/vnd.jupyter.widget-view+json": {
       "model_id": "05558e161b234e72aa4d44bd3f50118e",
       "version_major": 2,
       "version_minor": 0
      },
      "text/plain": [
       "Noise Strategies:   0%|          | 0/1 [00:00<?, ?it/s]"
      ]
     },
     "metadata": {},
     "output_type": "display_data"
    },
    {
     "data": {
      "text/html": [
       "<div>\n",
       "<style scoped>\n",
       "    .dataframe tbody tr th:only-of-type {\n",
       "        vertical-align: middle;\n",
       "    }\n",
       "\n",
       "    .dataframe tbody tr th {\n",
       "        vertical-align: top;\n",
       "    }\n",
       "\n",
       "    .dataframe thead th {\n",
       "        text-align: right;\n",
       "    }\n",
       "</style>\n",
       "<table border=\"1\" class=\"dataframe\">\n",
       "  <thead>\n",
       "    <tr style=\"text-align: right;\">\n",
       "      <th></th>\n",
       "      <th>Dataset</th>\n",
       "      <th>Noise</th>\n",
       "      <th>Model</th>\n",
       "      <th>Accuracy</th>\n",
       "      <th>F1 Score</th>\n",
       "      <th>Precision</th>\n",
       "      <th>Recall</th>\n",
       "    </tr>\n",
       "  </thead>\n",
       "  <tbody>\n",
       "    <tr>\n",
       "      <th>0</th>\n",
       "      <td>AG News Full</td>\n",
       "      <td>NoNoise</td>\n",
       "      <td>LLMClassifier</td>\n",
       "      <td>0.6</td>\n",
       "      <td>0.5</td>\n",
       "      <td>0.47</td>\n",
       "      <td>0.6</td>\n",
       "    </tr>\n",
       "    <tr>\n",
       "      <th>1</th>\n",
       "      <td>AG News Full</td>\n",
       "      <td>NoNoise</td>\n",
       "      <td>TARSZeroShot</td>\n",
       "      <td>0.4</td>\n",
       "      <td>0.3</td>\n",
       "      <td>0.27</td>\n",
       "      <td>0.4</td>\n",
       "    </tr>\n",
       "    <tr>\n",
       "      <th>2</th>\n",
       "      <td>AG News LLM labels</td>\n",
       "      <td>NoNoise</td>\n",
       "      <td>LLMClassifier</td>\n",
       "      <td>0.6</td>\n",
       "      <td>0.5</td>\n",
       "      <td>0.47</td>\n",
       "      <td>0.6</td>\n",
       "    </tr>\n",
       "    <tr>\n",
       "      <th>3</th>\n",
       "      <td>AG News LLM labels</td>\n",
       "      <td>NoNoise</td>\n",
       "      <td>TARSZeroShot</td>\n",
       "      <td>0.4</td>\n",
       "      <td>0.3</td>\n",
       "      <td>0.27</td>\n",
       "      <td>0.4</td>\n",
       "    </tr>\n",
       "    <tr>\n",
       "      <th>4</th>\n",
       "      <td>BBC News Full</td>\n",
       "      <td>NoNoise</td>\n",
       "      <td>LLMClassifier</td>\n",
       "      <td>1.0</td>\n",
       "      <td>1.0</td>\n",
       "      <td>1.00</td>\n",
       "      <td>1.0</td>\n",
       "    </tr>\n",
       "    <tr>\n",
       "      <th>5</th>\n",
       "      <td>BBC News Full</td>\n",
       "      <td>NoNoise</td>\n",
       "      <td>TARSZeroShot</td>\n",
       "      <td>1.0</td>\n",
       "      <td>1.0</td>\n",
       "      <td>1.00</td>\n",
       "      <td>1.0</td>\n",
       "    </tr>\n",
       "  </tbody>\n",
       "</table>\n",
       "</div>"
      ],
      "text/plain": [
       "              Dataset    Noise          Model  Accuracy  F1 Score  Precision  \\\n",
       "0        AG News Full  NoNoise  LLMClassifier       0.6       0.5       0.47   \n",
       "1        AG News Full  NoNoise   TARSZeroShot       0.4       0.3       0.27   \n",
       "2  AG News LLM labels  NoNoise  LLMClassifier       0.6       0.5       0.47   \n",
       "3  AG News LLM labels  NoNoise   TARSZeroShot       0.4       0.3       0.27   \n",
       "4       BBC News Full  NoNoise  LLMClassifier       1.0       1.0       1.00   \n",
       "5       BBC News Full  NoNoise   TARSZeroShot       1.0       1.0       1.00   \n",
       "\n",
       "   Recall  \n",
       "0     0.6  \n",
       "1     0.4  \n",
       "2     0.6  \n",
       "3     0.4  \n",
       "4     1.0  \n",
       "5     1.0  "
      ]
     },
     "execution_count": 11,
     "metadata": {},
     "output_type": "execute_result"
    }
   ],
   "source": [
    "class_orchestrator_zero_shot.evaluate_with_training(datasets_train, datasets_test, noise_strategies).round(2)"
   ]
  },
  {
   "cell_type": "code",
   "execution_count": 12,
   "metadata": {},
   "outputs": [],
   "source": [
    "class_orchestrator_zero_shot.results.round(2).to_csv('../outputs/final/results_classification_zero_shot.csv', index=False)"
   ]
  },
  {
   "cell_type": "markdown",
   "metadata": {},
   "source": [
    "#### Running pipelines for Topic Modeling"
   ]
  },
  {
   "cell_type": "code",
   "execution_count": 21,
   "metadata": {},
   "outputs": [
    {
     "data": {
      "application/vnd.jupyter.widget-view+json": {
       "model_id": "a4f5ab43705342fdb222a19aa0dbf461",
       "version_major": 2,
       "version_minor": 0
      },
      "text/plain": [
       "Datasets:   0%|          | 0/2 [00:00<?, ?it/s]"
      ]
     },
     "metadata": {},
     "output_type": "display_data"
    },
    {
     "data": {
      "application/vnd.jupyter.widget-view+json": {
       "model_id": "35567c7e9ab74d7a913a6567d4a981d1",
       "version_major": 2,
       "version_minor": 0
      },
      "text/plain": [
       "Models:   0%|          | 0/3 [00:00<?, ?it/s]"
      ]
     },
     "metadata": {},
     "output_type": "display_data"
    },
    {
     "data": {
      "application/vnd.jupyter.widget-view+json": {
       "model_id": "947f2f3a11394934bb543325148e16ef",
       "version_major": 2,
       "version_minor": 0
      },
      "text/plain": [
       "Noise Strategies:   0%|          | 0/1 [00:00<?, ?it/s]"
      ]
     },
     "metadata": {},
     "output_type": "display_data"
    },
    {
     "data": {
      "application/vnd.jupyter.widget-view+json": {
       "model_id": "d3a43cddc621428e9533cead98ec54c1",
       "version_major": 2,
       "version_minor": 0
      },
      "text/plain": [
       "Noise Strategies:   0%|          | 0/1 [00:00<?, ?it/s]"
      ]
     },
     "metadata": {},
     "output_type": "display_data"
    },
    {
     "data": {
      "application/vnd.jupyter.widget-view+json": {
       "model_id": "510671a8190a4233a1b32d5314c948db",
       "version_major": 2,
       "version_minor": 0
      },
      "text/plain": [
       "Noise Strategies:   0%|          | 0/1 [00:00<?, ?it/s]"
      ]
     },
     "metadata": {},
     "output_type": "display_data"
    },
    {
     "data": {
      "application/vnd.jupyter.widget-view+json": {
       "model_id": "85173dae3f6745d79aacef2ec42f5137",
       "version_major": 2,
       "version_minor": 0
      },
      "text/plain": [
       "Models:   0%|          | 0/3 [00:00<?, ?it/s]"
      ]
     },
     "metadata": {},
     "output_type": "display_data"
    },
    {
     "data": {
      "application/vnd.jupyter.widget-view+json": {
       "model_id": "ca3877e53b67447da67ec56748ec7cb0",
       "version_major": 2,
       "version_minor": 0
      },
      "text/plain": [
       "Noise Strategies:   0%|          | 0/1 [00:00<?, ?it/s]"
      ]
     },
     "metadata": {},
     "output_type": "display_data"
    },
    {
     "data": {
      "application/vnd.jupyter.widget-view+json": {
       "model_id": "8aa3a2b901484889b9bcdd1b25c919be",
       "version_major": 2,
       "version_minor": 0
      },
      "text/plain": [
       "Noise Strategies:   0%|          | 0/1 [00:00<?, ?it/s]"
      ]
     },
     "metadata": {},
     "output_type": "display_data"
    },
    {
     "data": {
      "application/vnd.jupyter.widget-view+json": {
       "model_id": "9b38069f36ca4307bc83f56ed34daec3",
       "version_major": 2,
       "version_minor": 0
      },
      "text/plain": [
       "Noise Strategies:   0%|          | 0/1 [00:00<?, ?it/s]"
      ]
     },
     "metadata": {},
     "output_type": "display_data"
    },
    {
     "data": {
      "text/html": [
       "<div>\n",
       "<style scoped>\n",
       "    .dataframe tbody tr th:only-of-type {\n",
       "        vertical-align: middle;\n",
       "    }\n",
       "\n",
       "    .dataframe tbody tr th {\n",
       "        vertical-align: top;\n",
       "    }\n",
       "\n",
       "    .dataframe thead th {\n",
       "        text-align: right;\n",
       "    }\n",
       "</style>\n",
       "<table border=\"1\" class=\"dataframe\">\n",
       "  <thead>\n",
       "    <tr style=\"text-align: right;\">\n",
       "      <th></th>\n",
       "      <th>Dataset</th>\n",
       "      <th>Noise</th>\n",
       "      <th>Model</th>\n",
       "      <th>ARI Score</th>\n",
       "      <th>Topics Coherence</th>\n",
       "      <th>Cosine Similarity</th>\n",
       "      <th>Reconstruction Error</th>\n",
       "    </tr>\n",
       "  </thead>\n",
       "  <tbody>\n",
       "    <tr>\n",
       "      <th>0</th>\n",
       "      <td>AG News Full</td>\n",
       "      <td>NoNoise</td>\n",
       "      <td>LDA_4</td>\n",
       "      <td>0.001984</td>\n",
       "      <td>0.297714</td>\n",
       "      <td>0.349004</td>\n",
       "      <td>None</td>\n",
       "    </tr>\n",
       "    <tr>\n",
       "      <th>1</th>\n",
       "      <td>AG News Full</td>\n",
       "      <td>NoNoise</td>\n",
       "      <td>LSI_4</td>\n",
       "      <td>0.006250</td>\n",
       "      <td>0.515767</td>\n",
       "      <td>0.525510</td>\n",
       "      <td>None</td>\n",
       "    </tr>\n",
       "    <tr>\n",
       "      <th>2</th>\n",
       "      <td>AG News Full</td>\n",
       "      <td>NoNoise</td>\n",
       "      <td>NMF_4</td>\n",
       "      <td>0.150541</td>\n",
       "      <td>0.646560</td>\n",
       "      <td>0.529178</td>\n",
       "      <td>21.989044</td>\n",
       "    </tr>\n",
       "    <tr>\n",
       "      <th>3</th>\n",
       "      <td>AG News LLM labels</td>\n",
       "      <td>NoNoise</td>\n",
       "      <td>LDA_4</td>\n",
       "      <td>0.001984</td>\n",
       "      <td>0.297714</td>\n",
       "      <td>0.349004</td>\n",
       "      <td>None</td>\n",
       "    </tr>\n",
       "    <tr>\n",
       "      <th>4</th>\n",
       "      <td>AG News LLM labels</td>\n",
       "      <td>NoNoise</td>\n",
       "      <td>LSI_4</td>\n",
       "      <td>0.006250</td>\n",
       "      <td>0.515767</td>\n",
       "      <td>0.525510</td>\n",
       "      <td>None</td>\n",
       "    </tr>\n",
       "    <tr>\n",
       "      <th>5</th>\n",
       "      <td>AG News LLM labels</td>\n",
       "      <td>NoNoise</td>\n",
       "      <td>NMF_4</td>\n",
       "      <td>0.150541</td>\n",
       "      <td>0.646560</td>\n",
       "      <td>0.529178</td>\n",
       "      <td>21.989044</td>\n",
       "    </tr>\n",
       "  </tbody>\n",
       "</table>\n",
       "</div>"
      ],
      "text/plain": [
       "              Dataset    Noise  Model  ARI Score  Topics Coherence  \\\n",
       "0        AG News Full  NoNoise  LDA_4   0.001984          0.297714   \n",
       "1        AG News Full  NoNoise  LSI_4   0.006250          0.515767   \n",
       "2        AG News Full  NoNoise  NMF_4   0.150541          0.646560   \n",
       "3  AG News LLM labels  NoNoise  LDA_4   0.001984          0.297714   \n",
       "4  AG News LLM labels  NoNoise  LSI_4   0.006250          0.515767   \n",
       "5  AG News LLM labels  NoNoise  NMF_4   0.150541          0.646560   \n",
       "\n",
       "   Cosine Similarity Reconstruction Error  \n",
       "0           0.349004                 None  \n",
       "1           0.525510                 None  \n",
       "2           0.529178            21.989044  \n",
       "3           0.349004                 None  \n",
       "4           0.525510                 None  \n",
       "5           0.529178            21.989044  "
      ]
     },
     "execution_count": 21,
     "metadata": {},
     "output_type": "execute_result"
    }
   ],
   "source": [
    "topic_modelling_orchestrator_ag_news.evaluate(datasets_test_ag_news, noise_strategies)\n",
    "topic_modelling_orchestrator_ag_news.results"
   ]
  },
  {
   "cell_type": "code",
   "execution_count": null,
   "metadata": {},
   "outputs": [],
   "source": [
    "topic_modelling_orchestrator_ag_news.results.round(2).to_csv('../outputs/final/results_topic_modelling_ag_news.csv', index=False)"
   ]
  },
  {
   "cell_type": "code",
   "execution_count": 22,
   "metadata": {},
   "outputs": [
    {
     "data": {
      "application/vnd.jupyter.widget-view+json": {
       "model_id": "adc0ef0529d44c4b9632aa260f8f3137",
       "version_major": 2,
       "version_minor": 0
      },
      "text/plain": [
       "Datasets:   0%|          | 0/1 [00:00<?, ?it/s]"
      ]
     },
     "metadata": {},
     "output_type": "display_data"
    },
    {
     "data": {
      "application/vnd.jupyter.widget-view+json": {
       "model_id": "8f3856788bb048229ba177e11cad97c5",
       "version_major": 2,
       "version_minor": 0
      },
      "text/plain": [
       "Models:   0%|          | 0/3 [00:00<?, ?it/s]"
      ]
     },
     "metadata": {},
     "output_type": "display_data"
    },
    {
     "data": {
      "application/vnd.jupyter.widget-view+json": {
       "model_id": "2cbfe037f96e452794d824bb1a280acd",
       "version_major": 2,
       "version_minor": 0
      },
      "text/plain": [
       "Noise Strategies:   0%|          | 0/1 [00:00<?, ?it/s]"
      ]
     },
     "metadata": {},
     "output_type": "display_data"
    },
    {
     "data": {
      "application/vnd.jupyter.widget-view+json": {
       "model_id": "b07ab416d55144d688c87c7989b4bb98",
       "version_major": 2,
       "version_minor": 0
      },
      "text/plain": [
       "Noise Strategies:   0%|          | 0/1 [00:00<?, ?it/s]"
      ]
     },
     "metadata": {},
     "output_type": "display_data"
    },
    {
     "data": {
      "application/vnd.jupyter.widget-view+json": {
       "model_id": "db140d828f6e4bb9bccca18c8a32bf4d",
       "version_major": 2,
       "version_minor": 0
      },
      "text/plain": [
       "Noise Strategies:   0%|          | 0/1 [00:00<?, ?it/s]"
      ]
     },
     "metadata": {},
     "output_type": "display_data"
    },
    {
     "data": {
      "text/html": [
       "<div>\n",
       "<style scoped>\n",
       "    .dataframe tbody tr th:only-of-type {\n",
       "        vertical-align: middle;\n",
       "    }\n",
       "\n",
       "    .dataframe tbody tr th {\n",
       "        vertical-align: top;\n",
       "    }\n",
       "\n",
       "    .dataframe thead th {\n",
       "        text-align: right;\n",
       "    }\n",
       "</style>\n",
       "<table border=\"1\" class=\"dataframe\">\n",
       "  <thead>\n",
       "    <tr style=\"text-align: right;\">\n",
       "      <th></th>\n",
       "      <th>Dataset</th>\n",
       "      <th>Noise</th>\n",
       "      <th>Model</th>\n",
       "      <th>ARI Score</th>\n",
       "      <th>Topics Coherence</th>\n",
       "      <th>Cosine Similarity</th>\n",
       "      <th>Reconstruction Error</th>\n",
       "    </tr>\n",
       "  </thead>\n",
       "  <tbody>\n",
       "    <tr>\n",
       "      <th>0</th>\n",
       "      <td>BBC News Full</td>\n",
       "      <td>NoNoise</td>\n",
       "      <td>LDA_5</td>\n",
       "      <td>0.000000</td>\n",
       "      <td>0.425420</td>\n",
       "      <td>0.985345</td>\n",
       "      <td>None</td>\n",
       "    </tr>\n",
       "    <tr>\n",
       "      <th>1</th>\n",
       "      <td>BBC News Full</td>\n",
       "      <td>NoNoise</td>\n",
       "      <td>LSI_5</td>\n",
       "      <td>0.113801</td>\n",
       "      <td>0.599215</td>\n",
       "      <td>0.502251</td>\n",
       "      <td>None</td>\n",
       "    </tr>\n",
       "    <tr>\n",
       "      <th>2</th>\n",
       "      <td>BBC News Full</td>\n",
       "      <td>NoNoise</td>\n",
       "      <td>NMF_5</td>\n",
       "      <td>0.754366</td>\n",
       "      <td>0.753770</td>\n",
       "      <td>0.357812</td>\n",
       "      <td>21.425575</td>\n",
       "    </tr>\n",
       "  </tbody>\n",
       "</table>\n",
       "</div>"
      ],
      "text/plain": [
       "         Dataset    Noise  Model  ARI Score  Topics Coherence  \\\n",
       "0  BBC News Full  NoNoise  LDA_5   0.000000          0.425420   \n",
       "1  BBC News Full  NoNoise  LSI_5   0.113801          0.599215   \n",
       "2  BBC News Full  NoNoise  NMF_5   0.754366          0.753770   \n",
       "\n",
       "   Cosine Similarity Reconstruction Error  \n",
       "0           0.985345                 None  \n",
       "1           0.502251                 None  \n",
       "2           0.357812            21.425575  "
      ]
     },
     "execution_count": 22,
     "metadata": {},
     "output_type": "execute_result"
    }
   ],
   "source": [
    "topic_modelling_orchestrator_bbc_news.evaluate(datasets_test_bbc_news, noise_strategies)\n",
    "topic_modelling_orchestrator_bbc_news.results"
   ]
  },
  {
   "cell_type": "code",
   "execution_count": null,
   "metadata": {},
   "outputs": [],
   "source": [
    "topic_modelling_orchestrator_bbc_news.results.round(2).to_csv('../outputs/final/results_topic_modelling_bbc_news.csv', index=False)\n"
   ]
  },
  {
   "cell_type": "code",
   "execution_count": null,
   "metadata": {},
   "outputs": [],
   "source": []
  }
 ],
 "metadata": {
  "kernelspec": {
   "display_name": "base",
   "language": "python",
   "name": "python3"
  },
  "language_info": {
   "codemirror_mode": {
    "name": "ipython",
    "version": 3
   },
   "file_extension": ".py",
   "mimetype": "text/x-python",
   "name": "python",
   "nbconvert_exporter": "python",
   "pygments_lexer": "ipython3",
   "version": "3.11.7"
  }
 },
 "nbformat": 4,
 "nbformat_minor": 2
}
