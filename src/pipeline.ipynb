{
 "cells": [
  {
   "cell_type": "code",
   "execution_count": 1,
   "metadata": {},
   "outputs": [],
   "source": [
    "# import nltk\n",
    "# nltk.download('punkt_tab')\n",
    "# nltk.download('averaged_perceptron_tagger_eng')\n",
    "# nltk.download('wordnet')"
   ]
  },
  {
   "cell_type": "code",
   "execution_count": 1,
   "metadata": {},
   "outputs": [],
   "source": [
    "import pandas as pd\n",
    "import random\n",
    "from topic_modeling_pipeline import *\n",
    "from classification_pipeline import *\n",
    "random.seed(42)"
   ]
  },
  {
   "cell_type": "markdown",
   "metadata": {},
   "source": [
    "## AG News Dataset"
   ]
  },
  {
   "cell_type": "code",
   "execution_count": 2,
   "metadata": {},
   "outputs": [],
   "source": [
    "ag_test = pd.read_csv('../data/AG News/test.csv')\n",
    "ag_train = pd.read_csv('../data/AG News/train.csv')\n",
    "\n",
    "# Define the mapping\n",
    "class_to_text_mapping = {1: \"World\", 2: \"Sports\", 3: \"Business\", 4: \"Science\"}\n",
    "text_to_class_mapping = {'World': 1, 'Sports': 2, 'Business': 3, 'Science': 4}\n",
    "\n",
    "# Apply the mapping to the class column\n",
    "# ag_test['Class'] = ag_test['Class Index'].replace(class_mapping)\n",
    "# ag_train['Class'] = ag_train['Class Index'].replace(class_mapping)\n",
    "\n",
    "ag_news_train_baseline = ag_train['Description']\n",
    "ag_news_train_true_labels = ag_train['Class Index']\n",
    "\n",
    "sampled = ag_news_train_baseline.sample(100, random_state=42)\n",
    "ag_news_train_baseline = sampled\n",
    "ag_news_train_true_labels = ag_news_train_true_labels.loc[sampled.index]\n",
    "\n",
    "sampled_indices = ag_test.sample(100, random_state=42).index\n",
    "ag_news_baseline = ag_test.loc[sampled_indices, 'Description']\n",
    "ag_news_true_labels = ag_test.loc[sampled_indices, 'Class Index']\n",
    "\n",
    "ag_news_train = {\n",
    "    \"AG News\":(ag_news_train_baseline, ag_news_train_true_labels),\n",
    "}\n",
    "\n",
    "ag_news = {\n",
    "    \"AG News\":(ag_news_baseline, ag_news_true_labels),\n",
    "}"
   ]
  },
  {
   "cell_type": "code",
   "execution_count": 3,
   "metadata": {},
   "outputs": [
    {
     "name": "stdout",
     "output_type": "stream",
     "text": [
      "2025-05-21 23:15:05,707 TARS initialized without a task. You need to call .add_and_switch_to_new_task() before training this model\n"
     ]
    },
    {
     "data": {
      "text/plain": [
       "['TARSZeroShot']"
      ]
     },
     "execution_count": 3,
     "metadata": {},
     "output_type": "execute_result"
    }
   ],
   "source": [
    "topic_modelling_orchestrator = TopicModelingPipelineOrchestrator()\n",
    "topic_modelling_orchestrator.add_models_grid(\n",
    "    model_types=['LDA', 'LSI', 'NMF'],\n",
    "    param_grid={'n_topics': [4]}\n",
    ")\n",
    "\n",
    "class_orchestrator = ClassificationPipelineOrchestrator()\n",
    "class_orchestrator.add_models_grid(\n",
    "    model_types=[\n",
    "        'TARSZeroShot',\n",
    "        # 'SVM',\n",
    "        # 'XGBoost',\n",
    "        # 'RandomForest',\n",
    "        # 'LightGBM',\n",
    "        # 'SVMRoberta', \n",
    "        # 'XGBoostRoberta',\n",
    "        # 'LightGBMRoberta',\n",
    "    ]\n",
    "    # param_grid={'SVMRoberta': [{}], 'SVM': [{}]}  # Empty dictionary means default parameters\n",
    ")"
   ]
  },
  {
   "cell_type": "code",
   "execution_count": 4,
   "metadata": {},
   "outputs": [],
   "source": [
    "from noise_strategy import *\n",
    "noise_strategies = [\n",
    "    NoNoise(),\n",
    "    AddRandomCharsNoise(), \n",
    "    AddRandomWordsNoise(), \n",
    "    DeleteRandomWordsNoise(), \n",
    "    ShuffleSentencesNoise(noise_level=0.7), \n",
    "    ReplaceWithSynonymsNoise(), \n",
    "    ReplaceWithAntonymsNoise()\n",
    "]"
   ]
  },
  {
   "cell_type": "code",
   "execution_count": 5,
   "metadata": {},
   "outputs": [],
   "source": [
    "ag_news_llm_train_df = pd.read_csv('../outputs/llm_to_label/news_assigned_final.csv')\n",
    "ag_news_llm_train_df['predicted_label'] = ag_news_llm_train_df['predicted_label_text'].map(text_to_class_mapping).fillna(-1).astype(int)\n",
    "\n",
    "ag_news_llm_train_df = ag_news_llm_train_df[ag_news_llm_train_df['predicted_label'] != -1]  # Remove rows with -1 labels\n",
    "ag_news_llm_train = {'AG News': (ag_news_llm_train_df['text'], ag_news_llm_train_df['predicted_label'])}"
   ]
  },
  {
   "cell_type": "code",
   "execution_count": 6,
   "metadata": {},
   "outputs": [
    {
     "data": {
      "application/vnd.jupyter.widget-view+json": {
       "model_id": "1bccc103dafc4ac7afc7d227c499a52f",
       "version_major": 2,
       "version_minor": 0
      },
      "text/plain": [
       "Datasets:   0%|          | 0/1 [00:00<?, ?it/s]"
      ]
     },
     "metadata": {},
     "output_type": "display_data"
    },
    {
     "data": {
      "application/vnd.jupyter.widget-view+json": {
       "model_id": "b09a3a71f8214814bb2bfcf28328e405",
       "version_major": 2,
       "version_minor": 0
      },
      "text/plain": [
       "Models:   0%|          | 0/1 [00:00<?, ?it/s]"
      ]
     },
     "metadata": {},
     "output_type": "display_data"
    },
    {
     "data": {
      "application/vnd.jupyter.widget-view+json": {
       "model_id": "bcd00eb10fee4486800a83be50859332",
       "version_major": 2,
       "version_minor": 0
      },
      "text/plain": [
       "Noise Strategies:   0%|          | 0/7 [00:00<?, ?it/s]"
      ]
     },
     "metadata": {},
     "output_type": "display_data"
    },
    {
     "name": "stderr",
     "output_type": "stream",
     "text": [
      "/opt/anaconda3/lib/python3.11/site-packages/sklearn/metrics/_classification.py:1344: UndefinedMetricWarning: Precision is ill-defined and being set to 0.0 in labels with no predicted samples. Use `zero_division` parameter to control this behavior.\n",
      "  _warn_prf(average, modifier, msg_start, len(result))\n",
      "/opt/anaconda3/lib/python3.11/site-packages/sklearn/metrics/_classification.py:1344: UndefinedMetricWarning: Precision is ill-defined and being set to 0.0 in labels with no predicted samples. Use `zero_division` parameter to control this behavior.\n",
      "  _warn_prf(average, modifier, msg_start, len(result))\n",
      "/opt/anaconda3/lib/python3.11/site-packages/sklearn/metrics/_classification.py:1344: UndefinedMetricWarning: Precision is ill-defined and being set to 0.0 in labels with no predicted samples. Use `zero_division` parameter to control this behavior.\n",
      "  _warn_prf(average, modifier, msg_start, len(result))\n",
      "/opt/anaconda3/lib/python3.11/site-packages/sklearn/metrics/_classification.py:1344: UndefinedMetricWarning: Precision is ill-defined and being set to 0.0 in labels with no predicted samples. Use `zero_division` parameter to control this behavior.\n",
      "  _warn_prf(average, modifier, msg_start, len(result))\n",
      "/opt/anaconda3/lib/python3.11/site-packages/sklearn/metrics/_classification.py:1344: UndefinedMetricWarning: Precision is ill-defined and being set to 0.0 in labels with no predicted samples. Use `zero_division` parameter to control this behavior.\n",
      "  _warn_prf(average, modifier, msg_start, len(result))\n",
      "/opt/anaconda3/lib/python3.11/site-packages/sklearn/metrics/_classification.py:1344: UndefinedMetricWarning: Precision is ill-defined and being set to 0.0 in labels with no predicted samples. Use `zero_division` parameter to control this behavior.\n",
      "  _warn_prf(average, modifier, msg_start, len(result))\n",
      "/opt/anaconda3/lib/python3.11/site-packages/sklearn/metrics/_classification.py:1344: UndefinedMetricWarning: Precision is ill-defined and being set to 0.0 in labels with no predicted samples. Use `zero_division` parameter to control this behavior.\n",
      "  _warn_prf(average, modifier, msg_start, len(result))\n"
     ]
    },
    {
     "data": {
      "text/html": [
       "<div>\n",
       "<style scoped>\n",
       "    .dataframe tbody tr th:only-of-type {\n",
       "        vertical-align: middle;\n",
       "    }\n",
       "\n",
       "    .dataframe tbody tr th {\n",
       "        vertical-align: top;\n",
       "    }\n",
       "\n",
       "    .dataframe thead th {\n",
       "        text-align: right;\n",
       "    }\n",
       "</style>\n",
       "<table border=\"1\" class=\"dataframe\">\n",
       "  <thead>\n",
       "    <tr style=\"text-align: right;\">\n",
       "      <th></th>\n",
       "      <th>Dataset</th>\n",
       "      <th>Noise</th>\n",
       "      <th>Model</th>\n",
       "      <th>Accuracy</th>\n",
       "      <th>F1 Score</th>\n",
       "      <th>Precision</th>\n",
       "      <th>Recall</th>\n",
       "    </tr>\n",
       "  </thead>\n",
       "  <tbody>\n",
       "    <tr>\n",
       "      <th>1</th>\n",
       "      <td>AG News</td>\n",
       "      <td>AddRandomCharsNoise</td>\n",
       "      <td>TARSZeroShot</td>\n",
       "      <td>0.74</td>\n",
       "      <td>0.711073</td>\n",
       "      <td>0.708966</td>\n",
       "      <td>0.74</td>\n",
       "    </tr>\n",
       "    <tr>\n",
       "      <th>2</th>\n",
       "      <td>AG News</td>\n",
       "      <td>AddRandomWordsNoise</td>\n",
       "      <td>TARSZeroShot</td>\n",
       "      <td>0.70</td>\n",
       "      <td>0.657159</td>\n",
       "      <td>0.640499</td>\n",
       "      <td>0.70</td>\n",
       "    </tr>\n",
       "    <tr>\n",
       "      <th>3</th>\n",
       "      <td>AG News</td>\n",
       "      <td>DeleteRandomWordsNoise</td>\n",
       "      <td>TARSZeroShot</td>\n",
       "      <td>0.72</td>\n",
       "      <td>0.686649</td>\n",
       "      <td>0.677779</td>\n",
       "      <td>0.72</td>\n",
       "    </tr>\n",
       "    <tr>\n",
       "      <th>0</th>\n",
       "      <td>AG News</td>\n",
       "      <td>NoNoise</td>\n",
       "      <td>TARSZeroShot</td>\n",
       "      <td>0.73</td>\n",
       "      <td>0.693013</td>\n",
       "      <td>0.683448</td>\n",
       "      <td>0.73</td>\n",
       "    </tr>\n",
       "    <tr>\n",
       "      <th>6</th>\n",
       "      <td>AG News</td>\n",
       "      <td>ReplaceWithAntonymsNoise</td>\n",
       "      <td>TARSZeroShot</td>\n",
       "      <td>0.73</td>\n",
       "      <td>0.693013</td>\n",
       "      <td>0.683448</td>\n",
       "      <td>0.73</td>\n",
       "    </tr>\n",
       "    <tr>\n",
       "      <th>5</th>\n",
       "      <td>AG News</td>\n",
       "      <td>ReplaceWithSynonymsNoise</td>\n",
       "      <td>TARSZeroShot</td>\n",
       "      <td>0.74</td>\n",
       "      <td>0.706667</td>\n",
       "      <td>0.700000</td>\n",
       "      <td>0.74</td>\n",
       "    </tr>\n",
       "    <tr>\n",
       "      <th>4</th>\n",
       "      <td>AG News</td>\n",
       "      <td>ShuffleSentencesNoise</td>\n",
       "      <td>TARSZeroShot</td>\n",
       "      <td>0.73</td>\n",
       "      <td>0.693013</td>\n",
       "      <td>0.683448</td>\n",
       "      <td>0.73</td>\n",
       "    </tr>\n",
       "  </tbody>\n",
       "</table>\n",
       "</div>"
      ],
      "text/plain": [
       "   Dataset                     Noise         Model  Accuracy  F1 Score  \\\n",
       "1  AG News       AddRandomCharsNoise  TARSZeroShot      0.74  0.711073   \n",
       "2  AG News       AddRandomWordsNoise  TARSZeroShot      0.70  0.657159   \n",
       "3  AG News    DeleteRandomWordsNoise  TARSZeroShot      0.72  0.686649   \n",
       "0  AG News                   NoNoise  TARSZeroShot      0.73  0.693013   \n",
       "6  AG News  ReplaceWithAntonymsNoise  TARSZeroShot      0.73  0.693013   \n",
       "5  AG News  ReplaceWithSynonymsNoise  TARSZeroShot      0.74  0.706667   \n",
       "4  AG News     ShuffleSentencesNoise  TARSZeroShot      0.73  0.693013   \n",
       "\n",
       "   Precision  Recall  \n",
       "1   0.708966    0.74  \n",
       "2   0.640499    0.70  \n",
       "3   0.677779    0.72  \n",
       "0   0.683448    0.73  \n",
       "6   0.683448    0.73  \n",
       "5   0.700000    0.74  \n",
       "4   0.683448    0.73  "
      ]
     },
     "execution_count": 6,
     "metadata": {},
     "output_type": "execute_result"
    }
   ],
   "source": [
    "class_orchestrator.evaluate_with_training(ag_news_llm_train, ag_news, noise_strategies)"
   ]
  },
  {
   "cell_type": "code",
   "execution_count": 7,
   "metadata": {},
   "outputs": [
    {
     "data": {
      "application/vnd.jupyter.widget-view+json": {
       "model_id": "4bb40dc8cfe2407fa7d81d3c22a3b98a",
       "version_major": 2,
       "version_minor": 0
      },
      "text/plain": [
       "Datasets:   0%|          | 0/1 [00:00<?, ?it/s]"
      ]
     },
     "metadata": {},
     "output_type": "display_data"
    },
    {
     "data": {
      "application/vnd.jupyter.widget-view+json": {
       "model_id": "5ae8c7b1bbba4cefa2c2161c58368864",
       "version_major": 2,
       "version_minor": 0
      },
      "text/plain": [
       "Models:   0%|          | 0/1 [00:00<?, ?it/s]"
      ]
     },
     "metadata": {},
     "output_type": "display_data"
    },
    {
     "data": {
      "application/vnd.jupyter.widget-view+json": {
       "model_id": "b6f7b4f453f54281934a440a2b941c61",
       "version_major": 2,
       "version_minor": 0
      },
      "text/plain": [
       "Noise Strategies:   0%|          | 0/7 [00:00<?, ?it/s]"
      ]
     },
     "metadata": {},
     "output_type": "display_data"
    },
    {
     "name": "stdout",
     "output_type": "stream",
     "text": [
      "2025-05-21 22:40:23,321 `ZeroShot` is the current task. Switch to some other task before dropping this.\n",
      "2025-05-21 22:40:23,367 `ZeroShot` is the current task. Switch to some other task before dropping this.\n",
      "Error evaluating model TARSZeroShot: list index out of range\n",
      "2025-05-21 22:40:24,153 `ZeroShot` is the current task. Switch to some other task before dropping this.\n",
      "2025-05-21 22:40:24,202 `ZeroShot` is the current task. Switch to some other task before dropping this.\n",
      "Error evaluating model TARSZeroShot: list index out of range\n",
      "2025-05-21 22:40:25,039 `ZeroShot` is the current task. Switch to some other task before dropping this.\n",
      "2025-05-21 22:40:25,089 `ZeroShot` is the current task. Switch to some other task before dropping this.\n",
      "Error evaluating model TARSZeroShot: list index out of range\n",
      "2025-05-21 22:40:25,780 `ZeroShot` is the current task. Switch to some other task before dropping this.\n",
      "2025-05-21 22:40:25,825 `ZeroShot` is the current task. Switch to some other task before dropping this.\n",
      "Error evaluating model TARSZeroShot: list index out of range\n",
      "2025-05-21 22:40:26,598 `ZeroShot` is the current task. Switch to some other task before dropping this.\n",
      "2025-05-21 22:40:26,647 `ZeroShot` is the current task. Switch to some other task before dropping this.\n",
      "Error evaluating model TARSZeroShot: list index out of range\n",
      "2025-05-21 22:40:27,725 `ZeroShot` is the current task. Switch to some other task before dropping this.\n",
      "2025-05-21 22:40:27,770 `ZeroShot` is the current task. Switch to some other task before dropping this.\n",
      "Error evaluating model TARSZeroShot: list index out of range\n",
      "2025-05-21 22:40:28,833 `ZeroShot` is the current task. Switch to some other task before dropping this.\n",
      "2025-05-21 22:40:28,881 `ZeroShot` is the current task. Switch to some other task before dropping this.\n",
      "Error evaluating model TARSZeroShot: list index out of range\n"
     ]
    },
    {
     "ename": "KeyError",
     "evalue": "\"None of [Index(['Dataset', 'Noise', 'Model', 'Accuracy', 'F1 Score', 'Precision',\\n       'Recall'],\\n      dtype='object')] are in the [columns]\"",
     "output_type": "error",
     "traceback": [
      "\u001b[0;31m---------------------------------------------------------------------------\u001b[0m",
      "\u001b[0;31mKeyError\u001b[0m                                  Traceback (most recent call last)",
      "Cell \u001b[0;32mIn[7], line 1\u001b[0m\n\u001b[0;32m----> 1\u001b[0m class_orchestrator\u001b[38;5;241m.\u001b[39mevaluate_with_training(ag_news_train, ag_news, noise_strategies)\n",
      "File \u001b[0;32m~/githubRepos/text_clustering/src/classification_pipeline.py:136\u001b[0m, in \u001b[0;36mClassificationPipelineOrchestrator.evaluate_with_training\u001b[0;34m(self, training_data, documents_dict, noise_strategies)\u001b[0m\n\u001b[1;32m    133\u001b[0m                 \u001b[38;5;28mprint\u001b[39m(\u001b[38;5;124mf\u001b[39m\u001b[38;5;124m\"\u001b[39m\u001b[38;5;124mError evaluating model \u001b[39m\u001b[38;5;132;01m{\u001b[39;00mname\u001b[38;5;132;01m}\u001b[39;00m\u001b[38;5;124m: \u001b[39m\u001b[38;5;132;01m{\u001b[39;00m\u001b[38;5;28mstr\u001b[39m(e)\u001b[38;5;132;01m}\u001b[39;00m\u001b[38;5;124m\"\u001b[39m)\n\u001b[1;32m    135\u001b[0m \u001b[38;5;66;03m# Store and return results - updated to use classification metrics\u001b[39;00m\n\u001b[0;32m--> 136\u001b[0m \u001b[38;5;28mself\u001b[39m\u001b[38;5;241m.\u001b[39mresults \u001b[38;5;241m=\u001b[39m results_df[[\u001b[38;5;124m'\u001b[39m\u001b[38;5;124mDataset\u001b[39m\u001b[38;5;124m'\u001b[39m, \u001b[38;5;124m'\u001b[39m\u001b[38;5;124mNoise\u001b[39m\u001b[38;5;124m'\u001b[39m, \u001b[38;5;124m'\u001b[39m\u001b[38;5;124mModel\u001b[39m\u001b[38;5;124m'\u001b[39m, \u001b[38;5;124m'\u001b[39m\u001b[38;5;124mAccuracy\u001b[39m\u001b[38;5;124m'\u001b[39m, \u001b[38;5;124m'\u001b[39m\u001b[38;5;124mF1 Score\u001b[39m\u001b[38;5;124m'\u001b[39m, \u001b[38;5;124m'\u001b[39m\u001b[38;5;124mPrecision\u001b[39m\u001b[38;5;124m'\u001b[39m, \u001b[38;5;124m'\u001b[39m\u001b[38;5;124mRecall\u001b[39m\u001b[38;5;124m'\u001b[39m]]\u001b[38;5;241m.\u001b[39msort_values(by\u001b[38;5;241m=\u001b[39m[\u001b[38;5;124m'\u001b[39m\u001b[38;5;124mDataset\u001b[39m\u001b[38;5;124m'\u001b[39m, \u001b[38;5;124m'\u001b[39m\u001b[38;5;124mNoise\u001b[39m\u001b[38;5;124m'\u001b[39m, \u001b[38;5;124m'\u001b[39m\u001b[38;5;124mModel\u001b[39m\u001b[38;5;124m'\u001b[39m])\n\u001b[1;32m    137\u001b[0m \u001b[38;5;28;01mreturn\u001b[39;00m \u001b[38;5;28mself\u001b[39m\u001b[38;5;241m.\u001b[39mresults\n",
      "File \u001b[0;32m/opt/anaconda3/lib/python3.11/site-packages/pandas/core/frame.py:3899\u001b[0m, in \u001b[0;36mDataFrame.__getitem__\u001b[0;34m(self, key)\u001b[0m\n\u001b[1;32m   3897\u001b[0m     \u001b[38;5;28;01mif\u001b[39;00m is_iterator(key):\n\u001b[1;32m   3898\u001b[0m         key \u001b[38;5;241m=\u001b[39m \u001b[38;5;28mlist\u001b[39m(key)\n\u001b[0;32m-> 3899\u001b[0m     indexer \u001b[38;5;241m=\u001b[39m \u001b[38;5;28mself\u001b[39m\u001b[38;5;241m.\u001b[39mcolumns\u001b[38;5;241m.\u001b[39m_get_indexer_strict(key, \u001b[38;5;124m\"\u001b[39m\u001b[38;5;124mcolumns\u001b[39m\u001b[38;5;124m\"\u001b[39m)[\u001b[38;5;241m1\u001b[39m]\n\u001b[1;32m   3901\u001b[0m \u001b[38;5;66;03m# take() does not accept boolean indexers\u001b[39;00m\n\u001b[1;32m   3902\u001b[0m \u001b[38;5;28;01mif\u001b[39;00m \u001b[38;5;28mgetattr\u001b[39m(indexer, \u001b[38;5;124m\"\u001b[39m\u001b[38;5;124mdtype\u001b[39m\u001b[38;5;124m\"\u001b[39m, \u001b[38;5;28;01mNone\u001b[39;00m) \u001b[38;5;241m==\u001b[39m \u001b[38;5;28mbool\u001b[39m:\n",
      "File \u001b[0;32m/opt/anaconda3/lib/python3.11/site-packages/pandas/core/indexes/base.py:6115\u001b[0m, in \u001b[0;36mIndex._get_indexer_strict\u001b[0;34m(self, key, axis_name)\u001b[0m\n\u001b[1;32m   6112\u001b[0m \u001b[38;5;28;01melse\u001b[39;00m:\n\u001b[1;32m   6113\u001b[0m     keyarr, indexer, new_indexer \u001b[38;5;241m=\u001b[39m \u001b[38;5;28mself\u001b[39m\u001b[38;5;241m.\u001b[39m_reindex_non_unique(keyarr)\n\u001b[0;32m-> 6115\u001b[0m \u001b[38;5;28mself\u001b[39m\u001b[38;5;241m.\u001b[39m_raise_if_missing(keyarr, indexer, axis_name)\n\u001b[1;32m   6117\u001b[0m keyarr \u001b[38;5;241m=\u001b[39m \u001b[38;5;28mself\u001b[39m\u001b[38;5;241m.\u001b[39mtake(indexer)\n\u001b[1;32m   6118\u001b[0m \u001b[38;5;28;01mif\u001b[39;00m \u001b[38;5;28misinstance\u001b[39m(key, Index):\n\u001b[1;32m   6119\u001b[0m     \u001b[38;5;66;03m# GH 42790 - Preserve name from an Index\u001b[39;00m\n",
      "File \u001b[0;32m/opt/anaconda3/lib/python3.11/site-packages/pandas/core/indexes/base.py:6176\u001b[0m, in \u001b[0;36mIndex._raise_if_missing\u001b[0;34m(self, key, indexer, axis_name)\u001b[0m\n\u001b[1;32m   6174\u001b[0m     \u001b[38;5;28;01mif\u001b[39;00m use_interval_msg:\n\u001b[1;32m   6175\u001b[0m         key \u001b[38;5;241m=\u001b[39m \u001b[38;5;28mlist\u001b[39m(key)\n\u001b[0;32m-> 6176\u001b[0m     \u001b[38;5;28;01mraise\u001b[39;00m \u001b[38;5;167;01mKeyError\u001b[39;00m(\u001b[38;5;124mf\u001b[39m\u001b[38;5;124m\"\u001b[39m\u001b[38;5;124mNone of [\u001b[39m\u001b[38;5;132;01m{\u001b[39;00mkey\u001b[38;5;132;01m}\u001b[39;00m\u001b[38;5;124m] are in the [\u001b[39m\u001b[38;5;132;01m{\u001b[39;00maxis_name\u001b[38;5;132;01m}\u001b[39;00m\u001b[38;5;124m]\u001b[39m\u001b[38;5;124m\"\u001b[39m)\n\u001b[1;32m   6178\u001b[0m not_found \u001b[38;5;241m=\u001b[39m \u001b[38;5;28mlist\u001b[39m(ensure_index(key)[missing_mask\u001b[38;5;241m.\u001b[39mnonzero()[\u001b[38;5;241m0\u001b[39m]]\u001b[38;5;241m.\u001b[39munique())\n\u001b[1;32m   6179\u001b[0m \u001b[38;5;28;01mraise\u001b[39;00m \u001b[38;5;167;01mKeyError\u001b[39;00m(\u001b[38;5;124mf\u001b[39m\u001b[38;5;124m\"\u001b[39m\u001b[38;5;132;01m{\u001b[39;00mnot_found\u001b[38;5;132;01m}\u001b[39;00m\u001b[38;5;124m not in index\u001b[39m\u001b[38;5;124m\"\u001b[39m)\n",
      "\u001b[0;31mKeyError\u001b[0m: \"None of [Index(['Dataset', 'Noise', 'Model', 'Accuracy', 'F1 Score', 'Precision',\\n       'Recall'],\\n      dtype='object')] are in the [columns]\""
     ]
    }
   ],
   "source": [
    "class_orchestrator.evaluate_with_training(ag_news_train, ag_news, noise_strategies)"
   ]
  },
  {
   "cell_type": "code",
   "execution_count": 6,
   "metadata": {},
   "outputs": [
    {
     "data": {
      "application/vnd.jupyter.widget-view+json": {
       "model_id": "df10ae0b293c4a2f89e789de6c6356ec",
       "version_major": 2,
       "version_minor": 0
      },
      "text/plain": [
       "Datasets:   0%|          | 0/1 [00:00<?, ?it/s]"
      ]
     },
     "metadata": {},
     "output_type": "display_data"
    },
    {
     "data": {
      "application/vnd.jupyter.widget-view+json": {
       "model_id": "0ac0300dcbdf4c11b90123bdbca57af7",
       "version_major": 2,
       "version_minor": 0
      },
      "text/plain": [
       "Models:   0%|          | 0/3 [00:00<?, ?it/s]"
      ]
     },
     "metadata": {},
     "output_type": "display_data"
    },
    {
     "data": {
      "application/vnd.jupyter.widget-view+json": {
       "model_id": "a345d99c76a0488d9433f07b01e908c9",
       "version_major": 2,
       "version_minor": 0
      },
      "text/plain": [
       "Noise Strategies:   0%|          | 0/1 [00:00<?, ?it/s]"
      ]
     },
     "metadata": {},
     "output_type": "display_data"
    },
    {
     "name": "stderr",
     "output_type": "stream",
     "text": [
      "2025-05-18 17:12:02,538 [INFO] gensim.corpora.dictionary: adding document #0 to Dictionary<0 unique tokens: []>\n",
      "2025-05-18 17:12:02,563 [INFO] gensim.corpora.dictionary: built Dictionary<10608 unique tokens: ['citi', 'cup', 'entertain', 'epic', 'fa']...> from 3600 documents (total 65950 corpus positions)\n",
      "2025-05-18 17:12:02,563 [INFO] gensim.utils: Dictionary lifecycle event {'msg': \"built Dictionary<10608 unique tokens: ['citi', 'cup', 'entertain', 'epic', 'fa']...> from 3600 documents (total 65950 corpus positions)\", 'datetime': '2025-05-18T17:12:02.563681', 'gensim': '4.3.0', 'python': '3.11.7 (main, Dec 15 2023, 12:09:56) [Clang 14.0.6 ]', 'platform': 'macOS-15.4.1-arm64-arm-64bit', 'event': 'created'}\n",
      "2025-05-18 17:12:02,568 [INFO] gensim.topic_coherence.probability_estimation: using ParallelWordOccurrenceAccumulator<processes=10, batch_size=64> to estimate probabilities from sliding windows\n",
      "2025-05-18 17:12:08,953 [INFO] gensim.topic_coherence.text_analysis: 10 accumulators retrieved from output queue\n",
      "2025-05-18 17:12:08,966 [INFO] gensim.topic_coherence.text_analysis: accumulated word occurrence stats for 3600 virtual documents\n"
     ]
    },
    {
     "data": {
      "application/vnd.jupyter.widget-view+json": {
       "model_id": "51d557b362b44ca881915a93388c4b1b",
       "version_major": 2,
       "version_minor": 0
      },
      "text/plain": [
       "Noise Strategies:   0%|          | 0/1 [00:00<?, ?it/s]"
      ]
     },
     "metadata": {},
     "output_type": "display_data"
    },
    {
     "name": "stderr",
     "output_type": "stream",
     "text": [
      "2025-05-18 17:12:09,928 [INFO] gensim.corpora.dictionary: adding document #0 to Dictionary<0 unique tokens: []>\n",
      "2025-05-18 17:12:10,033 [INFO] gensim.corpora.dictionary: built Dictionary<10608 unique tokens: ['citi', 'cup', 'entertain', 'epic', 'fa']...> from 3600 documents (total 65950 corpus positions)\n",
      "2025-05-18 17:12:10,042 [INFO] gensim.utils: Dictionary lifecycle event {'msg': \"built Dictionary<10608 unique tokens: ['citi', 'cup', 'entertain', 'epic', 'fa']...> from 3600 documents (total 65950 corpus positions)\", 'datetime': '2025-05-18T17:12:10.042831', 'gensim': '4.3.0', 'python': '3.11.7 (main, Dec 15 2023, 12:09:56) [Clang 14.0.6 ]', 'platform': 'macOS-15.4.1-arm64-arm-64bit', 'event': 'created'}\n",
      "2025-05-18 17:12:10,050 [INFO] gensim.topic_coherence.probability_estimation: using ParallelWordOccurrenceAccumulator<processes=10, batch_size=64> to estimate probabilities from sliding windows\n",
      "2025-05-18 17:12:16,056 [INFO] gensim.topic_coherence.text_analysis: 10 accumulators retrieved from output queue\n",
      "2025-05-18 17:12:16,066 [INFO] gensim.topic_coherence.text_analysis: accumulated word occurrence stats for 3600 virtual documents\n"
     ]
    },
    {
     "data": {
      "application/vnd.jupyter.widget-view+json": {
       "model_id": "d404977ff25d4ee9a2e8fa39fa6cdc26",
       "version_major": 2,
       "version_minor": 0
      },
      "text/plain": [
       "Noise Strategies:   0%|          | 0/1 [00:00<?, ?it/s]"
      ]
     },
     "metadata": {},
     "output_type": "display_data"
    },
    {
     "name": "stderr",
     "output_type": "stream",
     "text": [
      "2025-05-18 17:12:17,179 [INFO] gensim.corpora.dictionary: adding document #0 to Dictionary<0 unique tokens: []>\n",
      "2025-05-18 17:12:17,247 [INFO] gensim.corpora.dictionary: built Dictionary<10608 unique tokens: ['citi', 'cup', 'entertain', 'epic', 'fa']...> from 3600 documents (total 65950 corpus positions)\n",
      "2025-05-18 17:12:17,256 [INFO] gensim.utils: Dictionary lifecycle event {'msg': \"built Dictionary<10608 unique tokens: ['citi', 'cup', 'entertain', 'epic', 'fa']...> from 3600 documents (total 65950 corpus positions)\", 'datetime': '2025-05-18T17:12:17.256802', 'gensim': '4.3.0', 'python': '3.11.7 (main, Dec 15 2023, 12:09:56) [Clang 14.0.6 ]', 'platform': 'macOS-15.4.1-arm64-arm-64bit', 'event': 'created'}\n",
      "2025-05-18 17:12:17,264 [INFO] gensim.topic_coherence.probability_estimation: using ParallelWordOccurrenceAccumulator<processes=10, batch_size=64> to estimate probabilities from sliding windows\n",
      "2025-05-18 17:12:23,166 [INFO] gensim.topic_coherence.text_analysis: 10 accumulators retrieved from output queue\n",
      "2025-05-18 17:12:23,174 [INFO] gensim.topic_coherence.text_analysis: accumulated word occurrence stats for 3600 virtual documents\n"
     ]
    }
   ],
   "source": [
    "topic_modelling_orchestrator.evaluate(ag_news, noise_strategies)"
   ]
  },
  {
   "cell_type": "code",
   "execution_count": 7,
   "metadata": {},
   "outputs": [
    {
     "data": {
      "text/html": [
       "<div>\n",
       "<style scoped>\n",
       "    .dataframe tbody tr th:only-of-type {\n",
       "        vertical-align: middle;\n",
       "    }\n",
       "\n",
       "    .dataframe tbody tr th {\n",
       "        vertical-align: top;\n",
       "    }\n",
       "\n",
       "    .dataframe thead th {\n",
       "        text-align: right;\n",
       "    }\n",
       "</style>\n",
       "<table border=\"1\" class=\"dataframe\">\n",
       "  <thead>\n",
       "    <tr style=\"text-align: right;\">\n",
       "      <th></th>\n",
       "      <th>Dataset</th>\n",
       "      <th>Noise</th>\n",
       "      <th>Model</th>\n",
       "      <th>ARI Score</th>\n",
       "      <th>Topics Coherence</th>\n",
       "      <th>Cosine Similarity</th>\n",
       "      <th>Reconstruction Error</th>\n",
       "    </tr>\n",
       "  </thead>\n",
       "  <tbody>\n",
       "    <tr>\n",
       "      <th>0</th>\n",
       "      <td>AG News</td>\n",
       "      <td>NoNoise</td>\n",
       "      <td>LDA_4</td>\n",
       "      <td>0.106245</td>\n",
       "      <td>0.468141</td>\n",
       "      <td>0.366147</td>\n",
       "      <td>None</td>\n",
       "    </tr>\n",
       "    <tr>\n",
       "      <th>1</th>\n",
       "      <td>AG News</td>\n",
       "      <td>NoNoise</td>\n",
       "      <td>LSI_4</td>\n",
       "      <td>0.101955</td>\n",
       "      <td>0.556970</td>\n",
       "      <td>0.543418</td>\n",
       "      <td>None</td>\n",
       "    </tr>\n",
       "    <tr>\n",
       "      <th>2</th>\n",
       "      <td>AG News</td>\n",
       "      <td>NoNoise</td>\n",
       "      <td>NMF_4</td>\n",
       "      <td>0.405814</td>\n",
       "      <td>0.697631</td>\n",
       "      <td>0.465874</td>\n",
       "      <td>59.355705</td>\n",
       "    </tr>\n",
       "  </tbody>\n",
       "</table>\n",
       "</div>"
      ],
      "text/plain": [
       "   Dataset    Noise  Model  ARI Score  Topics Coherence  Cosine Similarity  \\\n",
       "0  AG News  NoNoise  LDA_4   0.106245          0.468141           0.366147   \n",
       "1  AG News  NoNoise  LSI_4   0.101955          0.556970           0.543418   \n",
       "2  AG News  NoNoise  NMF_4   0.405814          0.697631           0.465874   \n",
       "\n",
       "  Reconstruction Error  \n",
       "0                 None  \n",
       "1                 None  \n",
       "2            59.355705  "
      ]
     },
     "execution_count": 7,
     "metadata": {},
     "output_type": "execute_result"
    }
   ],
   "source": [
    "topic_modelling_orchestrator.results"
   ]
  },
  {
   "cell_type": "code",
   "execution_count": 7,
   "metadata": {},
   "outputs": [],
   "source": [
    "df = class_orchestrator.results"
   ]
  },
  {
   "cell_type": "code",
   "execution_count": 13,
   "metadata": {},
   "outputs": [
    {
     "data": {
      "text/html": [
       "<div>\n",
       "<style scoped>\n",
       "    .dataframe tbody tr th:only-of-type {\n",
       "        vertical-align: middle;\n",
       "    }\n",
       "\n",
       "    .dataframe tbody tr th {\n",
       "        vertical-align: top;\n",
       "    }\n",
       "\n",
       "    .dataframe thead th {\n",
       "        text-align: right;\n",
       "    }\n",
       "</style>\n",
       "<table border=\"1\" class=\"dataframe\">\n",
       "  <thead>\n",
       "    <tr style=\"text-align: right;\">\n",
       "      <th></th>\n",
       "      <th>Dataset</th>\n",
       "      <th>Noise</th>\n",
       "      <th>Model</th>\n",
       "      <th>Accuracy</th>\n",
       "      <th>F1 Score</th>\n",
       "      <th>Precision</th>\n",
       "      <th>Recall</th>\n",
       "    </tr>\n",
       "  </thead>\n",
       "  <tbody>\n",
       "    <tr>\n",
       "      <th>24</th>\n",
       "      <td>AG News</td>\n",
       "      <td>DeleteRandomWordsNoise</td>\n",
       "      <td>LightGBM</td>\n",
       "      <td>0.611944</td>\n",
       "      <td>0.612355</td>\n",
       "      <td>0.615544</td>\n",
       "      <td>0.611944</td>\n",
       "    </tr>\n",
       "    <tr>\n",
       "      <th>22</th>\n",
       "      <td>AG News</td>\n",
       "      <td>AddRandomCharsNoise</td>\n",
       "      <td>LightGBM</td>\n",
       "      <td>0.618889</td>\n",
       "      <td>0.619569</td>\n",
       "      <td>0.623418</td>\n",
       "      <td>0.618889</td>\n",
       "    </tr>\n",
       "    <tr>\n",
       "      <th>26</th>\n",
       "      <td>AG News</td>\n",
       "      <td>ReplaceWithSynonymsNoise</td>\n",
       "      <td>LightGBM</td>\n",
       "      <td>0.626389</td>\n",
       "      <td>0.626331</td>\n",
       "      <td>0.627929</td>\n",
       "      <td>0.626389</td>\n",
       "    </tr>\n",
       "    <tr>\n",
       "      <th>23</th>\n",
       "      <td>AG News</td>\n",
       "      <td>AddRandomWordsNoise</td>\n",
       "      <td>LightGBM</td>\n",
       "      <td>0.628611</td>\n",
       "      <td>0.628900</td>\n",
       "      <td>0.631267</td>\n",
       "      <td>0.628611</td>\n",
       "    </tr>\n",
       "    <tr>\n",
       "      <th>27</th>\n",
       "      <td>AG News</td>\n",
       "      <td>ReplaceWithAntonymsNoise</td>\n",
       "      <td>LightGBM</td>\n",
       "      <td>0.632500</td>\n",
       "      <td>0.632513</td>\n",
       "      <td>0.634365</td>\n",
       "      <td>0.632500</td>\n",
       "    </tr>\n",
       "    <tr>\n",
       "      <th>25</th>\n",
       "      <td>AG News</td>\n",
       "      <td>ShuffleSentencesNoise</td>\n",
       "      <td>LightGBM</td>\n",
       "      <td>0.634167</td>\n",
       "      <td>0.634334</td>\n",
       "      <td>0.636044</td>\n",
       "      <td>0.634167</td>\n",
       "    </tr>\n",
       "    <tr>\n",
       "      <th>21</th>\n",
       "      <td>AG News</td>\n",
       "      <td>NoNoise</td>\n",
       "      <td>LightGBM</td>\n",
       "      <td>0.634167</td>\n",
       "      <td>0.634334</td>\n",
       "      <td>0.636044</td>\n",
       "      <td>0.634167</td>\n",
       "    </tr>\n",
       "    <tr>\n",
       "      <th>10</th>\n",
       "      <td>AG News</td>\n",
       "      <td>DeleteRandomWordsNoise</td>\n",
       "      <td>XGBoost</td>\n",
       "      <td>0.710556</td>\n",
       "      <td>0.711175</td>\n",
       "      <td>0.721657</td>\n",
       "      <td>0.710556</td>\n",
       "    </tr>\n",
       "    <tr>\n",
       "      <th>8</th>\n",
       "      <td>AG News</td>\n",
       "      <td>AddRandomCharsNoise</td>\n",
       "      <td>XGBoost</td>\n",
       "      <td>0.711389</td>\n",
       "      <td>0.712402</td>\n",
       "      <td>0.723162</td>\n",
       "      <td>0.711389</td>\n",
       "    </tr>\n",
       "    <tr>\n",
       "      <th>12</th>\n",
       "      <td>AG News</td>\n",
       "      <td>ReplaceWithSynonymsNoise</td>\n",
       "      <td>XGBoost</td>\n",
       "      <td>0.722778</td>\n",
       "      <td>0.723637</td>\n",
       "      <td>0.731897</td>\n",
       "      <td>0.722778</td>\n",
       "    </tr>\n",
       "    <tr>\n",
       "      <th>13</th>\n",
       "      <td>AG News</td>\n",
       "      <td>ReplaceWithAntonymsNoise</td>\n",
       "      <td>XGBoost</td>\n",
       "      <td>0.725278</td>\n",
       "      <td>0.726057</td>\n",
       "      <td>0.733715</td>\n",
       "      <td>0.725278</td>\n",
       "    </tr>\n",
       "    <tr>\n",
       "      <th>9</th>\n",
       "      <td>AG News</td>\n",
       "      <td>AddRandomWordsNoise</td>\n",
       "      <td>XGBoost</td>\n",
       "      <td>0.726389</td>\n",
       "      <td>0.727427</td>\n",
       "      <td>0.735543</td>\n",
       "      <td>0.726389</td>\n",
       "    </tr>\n",
       "    <tr>\n",
       "      <th>7</th>\n",
       "      <td>AG News</td>\n",
       "      <td>NoNoise</td>\n",
       "      <td>XGBoost</td>\n",
       "      <td>0.728889</td>\n",
       "      <td>0.729827</td>\n",
       "      <td>0.737703</td>\n",
       "      <td>0.728889</td>\n",
       "    </tr>\n",
       "    <tr>\n",
       "      <th>11</th>\n",
       "      <td>AG News</td>\n",
       "      <td>ShuffleSentencesNoise</td>\n",
       "      <td>XGBoost</td>\n",
       "      <td>0.728889</td>\n",
       "      <td>0.729827</td>\n",
       "      <td>0.737703</td>\n",
       "      <td>0.728889</td>\n",
       "    </tr>\n",
       "    <tr>\n",
       "      <th>15</th>\n",
       "      <td>AG News</td>\n",
       "      <td>AddRandomCharsNoise</td>\n",
       "      <td>RandomForest</td>\n",
       "      <td>0.744444</td>\n",
       "      <td>0.743710</td>\n",
       "      <td>0.754973</td>\n",
       "      <td>0.744444</td>\n",
       "    </tr>\n",
       "    <tr>\n",
       "      <th>17</th>\n",
       "      <td>AG News</td>\n",
       "      <td>DeleteRandomWordsNoise</td>\n",
       "      <td>RandomForest</td>\n",
       "      <td>0.747500</td>\n",
       "      <td>0.747074</td>\n",
       "      <td>0.758981</td>\n",
       "      <td>0.747500</td>\n",
       "    </tr>\n",
       "    <tr>\n",
       "      <th>19</th>\n",
       "      <td>AG News</td>\n",
       "      <td>ReplaceWithSynonymsNoise</td>\n",
       "      <td>RandomForest</td>\n",
       "      <td>0.753333</td>\n",
       "      <td>0.752918</td>\n",
       "      <td>0.762235</td>\n",
       "      <td>0.753333</td>\n",
       "    </tr>\n",
       "    <tr>\n",
       "      <th>20</th>\n",
       "      <td>AG News</td>\n",
       "      <td>ReplaceWithAntonymsNoise</td>\n",
       "      <td>RandomForest</td>\n",
       "      <td>0.759167</td>\n",
       "      <td>0.759321</td>\n",
       "      <td>0.769100</td>\n",
       "      <td>0.759167</td>\n",
       "    </tr>\n",
       "    <tr>\n",
       "      <th>18</th>\n",
       "      <td>AG News</td>\n",
       "      <td>ShuffleSentencesNoise</td>\n",
       "      <td>RandomForest</td>\n",
       "      <td>0.760278</td>\n",
       "      <td>0.760439</td>\n",
       "      <td>0.770004</td>\n",
       "      <td>0.760278</td>\n",
       "    </tr>\n",
       "    <tr>\n",
       "      <th>14</th>\n",
       "      <td>AG News</td>\n",
       "      <td>NoNoise</td>\n",
       "      <td>RandomForest</td>\n",
       "      <td>0.760278</td>\n",
       "      <td>0.760439</td>\n",
       "      <td>0.770004</td>\n",
       "      <td>0.760278</td>\n",
       "    </tr>\n",
       "    <tr>\n",
       "      <th>16</th>\n",
       "      <td>AG News</td>\n",
       "      <td>AddRandomWordsNoise</td>\n",
       "      <td>RandomForest</td>\n",
       "      <td>0.760000</td>\n",
       "      <td>0.760479</td>\n",
       "      <td>0.770731</td>\n",
       "      <td>0.760000</td>\n",
       "    </tr>\n",
       "    <tr>\n",
       "      <th>3</th>\n",
       "      <td>AG News</td>\n",
       "      <td>DeleteRandomWordsNoise</td>\n",
       "      <td>SVM</td>\n",
       "      <td>0.810556</td>\n",
       "      <td>0.813322</td>\n",
       "      <td>0.828476</td>\n",
       "      <td>0.810556</td>\n",
       "    </tr>\n",
       "    <tr>\n",
       "      <th>1</th>\n",
       "      <td>AG News</td>\n",
       "      <td>AddRandomCharsNoise</td>\n",
       "      <td>SVM</td>\n",
       "      <td>0.810833</td>\n",
       "      <td>0.813637</td>\n",
       "      <td>0.830119</td>\n",
       "      <td>0.810833</td>\n",
       "    </tr>\n",
       "    <tr>\n",
       "      <th>6</th>\n",
       "      <td>AG News</td>\n",
       "      <td>ReplaceWithAntonymsNoise</td>\n",
       "      <td>SVM</td>\n",
       "      <td>0.818611</td>\n",
       "      <td>0.821248</td>\n",
       "      <td>0.835484</td>\n",
       "      <td>0.818611</td>\n",
       "    </tr>\n",
       "    <tr>\n",
       "      <th>5</th>\n",
       "      <td>AG News</td>\n",
       "      <td>ReplaceWithSynonymsNoise</td>\n",
       "      <td>SVM</td>\n",
       "      <td>0.820000</td>\n",
       "      <td>0.822491</td>\n",
       "      <td>0.837105</td>\n",
       "      <td>0.820000</td>\n",
       "    </tr>\n",
       "    <tr>\n",
       "      <th>2</th>\n",
       "      <td>AG News</td>\n",
       "      <td>AddRandomWordsNoise</td>\n",
       "      <td>SVM</td>\n",
       "      <td>0.820000</td>\n",
       "      <td>0.822526</td>\n",
       "      <td>0.836986</td>\n",
       "      <td>0.820000</td>\n",
       "    </tr>\n",
       "    <tr>\n",
       "      <th>0</th>\n",
       "      <td>AG News</td>\n",
       "      <td>NoNoise</td>\n",
       "      <td>SVM</td>\n",
       "      <td>0.821667</td>\n",
       "      <td>0.824187</td>\n",
       "      <td>0.838051</td>\n",
       "      <td>0.821667</td>\n",
       "    </tr>\n",
       "    <tr>\n",
       "      <th>4</th>\n",
       "      <td>AG News</td>\n",
       "      <td>ShuffleSentencesNoise</td>\n",
       "      <td>SVM</td>\n",
       "      <td>0.821667</td>\n",
       "      <td>0.824187</td>\n",
       "      <td>0.838051</td>\n",
       "      <td>0.821667</td>\n",
       "    </tr>\n",
       "  </tbody>\n",
       "</table>\n",
       "</div>"
      ],
      "text/plain": [
       "    Dataset                     Noise         Model  Accuracy  F1 Score  \\\n",
       "24  AG News    DeleteRandomWordsNoise      LightGBM  0.611944  0.612355   \n",
       "22  AG News       AddRandomCharsNoise      LightGBM  0.618889  0.619569   \n",
       "26  AG News  ReplaceWithSynonymsNoise      LightGBM  0.626389  0.626331   \n",
       "23  AG News       AddRandomWordsNoise      LightGBM  0.628611  0.628900   \n",
       "27  AG News  ReplaceWithAntonymsNoise      LightGBM  0.632500  0.632513   \n",
       "25  AG News     ShuffleSentencesNoise      LightGBM  0.634167  0.634334   \n",
       "21  AG News                   NoNoise      LightGBM  0.634167  0.634334   \n",
       "10  AG News    DeleteRandomWordsNoise       XGBoost  0.710556  0.711175   \n",
       "8   AG News       AddRandomCharsNoise       XGBoost  0.711389  0.712402   \n",
       "12  AG News  ReplaceWithSynonymsNoise       XGBoost  0.722778  0.723637   \n",
       "13  AG News  ReplaceWithAntonymsNoise       XGBoost  0.725278  0.726057   \n",
       "9   AG News       AddRandomWordsNoise       XGBoost  0.726389  0.727427   \n",
       "7   AG News                   NoNoise       XGBoost  0.728889  0.729827   \n",
       "11  AG News     ShuffleSentencesNoise       XGBoost  0.728889  0.729827   \n",
       "15  AG News       AddRandomCharsNoise  RandomForest  0.744444  0.743710   \n",
       "17  AG News    DeleteRandomWordsNoise  RandomForest  0.747500  0.747074   \n",
       "19  AG News  ReplaceWithSynonymsNoise  RandomForest  0.753333  0.752918   \n",
       "20  AG News  ReplaceWithAntonymsNoise  RandomForest  0.759167  0.759321   \n",
       "18  AG News     ShuffleSentencesNoise  RandomForest  0.760278  0.760439   \n",
       "14  AG News                   NoNoise  RandomForest  0.760278  0.760439   \n",
       "16  AG News       AddRandomWordsNoise  RandomForest  0.760000  0.760479   \n",
       "3   AG News    DeleteRandomWordsNoise           SVM  0.810556  0.813322   \n",
       "1   AG News       AddRandomCharsNoise           SVM  0.810833  0.813637   \n",
       "6   AG News  ReplaceWithAntonymsNoise           SVM  0.818611  0.821248   \n",
       "5   AG News  ReplaceWithSynonymsNoise           SVM  0.820000  0.822491   \n",
       "2   AG News       AddRandomWordsNoise           SVM  0.820000  0.822526   \n",
       "0   AG News                   NoNoise           SVM  0.821667  0.824187   \n",
       "4   AG News     ShuffleSentencesNoise           SVM  0.821667  0.824187   \n",
       "\n",
       "    Precision    Recall  \n",
       "24   0.615544  0.611944  \n",
       "22   0.623418  0.618889  \n",
       "26   0.627929  0.626389  \n",
       "23   0.631267  0.628611  \n",
       "27   0.634365  0.632500  \n",
       "25   0.636044  0.634167  \n",
       "21   0.636044  0.634167  \n",
       "10   0.721657  0.710556  \n",
       "8    0.723162  0.711389  \n",
       "12   0.731897  0.722778  \n",
       "13   0.733715  0.725278  \n",
       "9    0.735543  0.726389  \n",
       "7    0.737703  0.728889  \n",
       "11   0.737703  0.728889  \n",
       "15   0.754973  0.744444  \n",
       "17   0.758981  0.747500  \n",
       "19   0.762235  0.753333  \n",
       "20   0.769100  0.759167  \n",
       "18   0.770004  0.760278  \n",
       "14   0.770004  0.760278  \n",
       "16   0.770731  0.760000  \n",
       "3    0.828476  0.810556  \n",
       "1    0.830119  0.810833  \n",
       "6    0.835484  0.818611  \n",
       "5    0.837105  0.820000  \n",
       "2    0.836986  0.820000  \n",
       "0    0.838051  0.821667  \n",
       "4    0.838051  0.821667  "
      ]
     },
     "execution_count": 13,
     "metadata": {},
     "output_type": "execute_result"
    }
   ],
   "source": [
    "df.sort_values('F1 Score')"
   ]
  },
  {
   "cell_type": "code",
   "execution_count": null,
   "metadata": {},
   "outputs": [],
   "source": []
  }
 ],
 "metadata": {
  "kernelspec": {
   "display_name": "base",
   "language": "python",
   "name": "python3"
  },
  "language_info": {
   "codemirror_mode": {
    "name": "ipython",
    "version": 3
   },
   "file_extension": ".py",
   "mimetype": "text/x-python",
   "name": "python",
   "nbconvert_exporter": "python",
   "pygments_lexer": "ipython3",
   "version": "3.11.7"
  }
 },
 "nbformat": 4,
 "nbformat_minor": 2
}
