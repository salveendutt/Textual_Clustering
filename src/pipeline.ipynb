{
 "cells": [
  {
   "cell_type": "code",
   "execution_count": null,
   "metadata": {},
   "outputs": [],
   "source": [
    "# # RUN BELOW WHEN RUNNING FOR THE FIRST TIME\n",
    "# import nltk\n",
    "# nltk.download('punkt_tab')\n",
    "# nltk.download('averaged_perceptron_tagger_eng')\n",
    "# nltk.download('wordnet')"
   ]
  },
  {
   "cell_type": "markdown",
   "metadata": {},
   "source": [
    "### Core Assumptions:\n",
    "* Business wants to classify incoming textual data\n",
    "* Minimal labeling needed. Zero to 20 labels per classification "
   ]
  },
  {
   "cell_type": "code",
   "execution_count": 45,
   "metadata": {},
   "outputs": [],
   "source": [
    "import pandas as pd\n",
    "import random\n",
    "from topic_modeling_pipeline import *\n",
    "from classification_pipeline import *\n",
    "random.seed(42)"
   ]
  },
  {
   "cell_type": "code",
   "execution_count": 46,
   "metadata": {},
   "outputs": [],
   "source": [
    "taking_sample = False\n",
    "test_sample_size = 50"
   ]
  },
  {
   "cell_type": "markdown",
   "metadata": {},
   "source": [
    "## AG News Dataset"
   ]
  },
  {
   "cell_type": "code",
   "execution_count": 47,
   "metadata": {},
   "outputs": [],
   "source": [
    "ag_test = pd.read_csv('../data/AG News/test.csv')\n",
    "ag_train = pd.read_csv('../data/AG News/train_from_llm.csv')\n",
    "\n",
    "ag_train.dropna(subset=['Predicted Topic Index'], inplace=True)\n",
    "\n",
    "# CREATING A SAMPLE TEST SET\n",
    "if taking_sample == True:\n",
    "    ag_test = ag_test.sample(test_sample_size, random_state=42)\n",
    "\n",
    "ag_test_desc = ag_test['Description']\n",
    "ag_test_labels = ag_test['Class Index']\n",
    "\n",
    "ag_train_desc = ag_train['Description']\n",
    "ag_train_labels = ag_train['Class Index']\n",
    "\n",
    "ag_train_llm_desc = ag_train['Description']\n",
    "ag_train_llm_labels = ag_train['Predicted Topic Index']"
   ]
  },
  {
   "cell_type": "markdown",
   "metadata": {},
   "source": [
    "### BBC"
   ]
  },
  {
   "cell_type": "code",
   "execution_count": 48,
   "metadata": {},
   "outputs": [],
   "source": [
    "bbc_test = pd.read_csv('../data/BBC News/test.csv')\n",
    "bbc_train = pd.read_csv('../data/BBC News/train_from_llm.csv')\n",
    "\n",
    "if taking_sample == True:\n",
    "    bbc_test = bbc_test.sample(test_sample_size, random_state=42)\n",
    "\n",
    "bbc_test_desc = bbc_test['Description']\n",
    "bbc_test_labels = bbc_test['Class Index']\n",
    "\n",
    "bbc_train_desc = bbc_train['Description']\n",
    "bbc_train_labels = bbc_train['Class Index']\n",
    "\n",
    "bbc_train_llm_desc = ag_train['Description']\n",
    "bbc_train_llm_labels = ag_train['Predicted Topic Index']\n"
   ]
  },
  {
   "cell_type": "markdown",
   "metadata": {},
   "source": [
    "### 20NewsGroup"
   ]
  },
  {
   "cell_type": "code",
   "execution_count": 49,
   "metadata": {},
   "outputs": [],
   "source": [
    "newsgroups_test = pd.read_csv('../data/20 Newsgroups/test.csv')\n",
    "newsgroups_test.dropna(inplace=True)\n",
    "newsgroups_test = newsgroups_test.sample(4000, random_state=42)\n",
    "newsgroups_train = pd.read_csv('../data/20 Newsgroups/train_from_llm.csv')\n",
    "newsgroups_train = newsgroups_train[newsgroups_train['Predicted Topic Index'] != -1]\n",
    "\n",
    "if taking_sample == True:\n",
    "    newsgroups_test = newsgroups_test.sample(test_sample_size, random_state=42)\n",
    "\n",
    "newsgroups_test_desc = newsgroups_test['Description']\n",
    "newsgroups_test_labels = newsgroups_test['Class Index']\n",
    "\n",
    "newsgroups_train_desc = newsgroups_train['Description']\n",
    "newsgroups_train_labels = newsgroups_train['Class Index']\n",
    "\n",
    "newsgroups_train_llm_desc = newsgroups_train['Description']\n",
    "newsgroups_train_llm_labels = newsgroups_train['Predicted Topic Index']"
   ]
  },
  {
   "cell_type": "code",
   "execution_count": 50,
   "metadata": {},
   "outputs": [
    {
     "name": "stdout",
     "output_type": "stream",
     "text": [
      "Nulls in newsgroups_test_desc: 0\n",
      "Nulls in newsgroups_test_labels: 0\n",
      "Nulls in newsgroups_train_desc: 0\n",
      "Nulls in newsgroups_train_labels: 0\n",
      "Nulls in newsgroups_train_llm_labels: 0\n"
     ]
    }
   ],
   "source": [
    "# Check for nulls in newsgroups dataset\n",
    "print(f\"Nulls in newsgroups_test_desc: {newsgroups_test_desc.isna().sum()}\")\n",
    "print(f\"Nulls in newsgroups_test_labels: {newsgroups_test_labels.isna().sum()}\")\n",
    "print(f\"Nulls in newsgroups_train_desc: {newsgroups_train_desc.isna().sum()}\")\n",
    "print(f\"Nulls in newsgroups_train_labels: {newsgroups_train_labels.isna().sum()}\")\n",
    "print(f\"Nulls in newsgroups_train_llm_labels: {newsgroups_train_llm_labels.isna().sum()}\")"
   ]
  },
  {
   "cell_type": "markdown",
   "metadata": {},
   "source": [
    "### Combining Datasets"
   ]
  },
  {
   "cell_type": "code",
   "execution_count": 51,
   "metadata": {},
   "outputs": [],
   "source": [
    "# len(bbc_test_desc), len(bbc_train_desc), len(ag_test_desc), len(ag_train_desc)"
   ]
  },
  {
   "cell_type": "code",
   "execution_count": 52,
   "metadata": {},
   "outputs": [],
   "source": [
    "# For pipelines that works with all datasets\n",
    "datasets_test = {\n",
    "    \"AG News Full\": (ag_test_desc, ag_test_labels),\n",
    "    \"AG News LLM labels\": (ag_test_desc, ag_test_labels),\n",
    "    \"BBC News Full\": (bbc_test_desc, bbc_test_labels),\n",
    "    \"BBC News LLM labels\": (bbc_test_desc, bbc_test_labels),\n",
    "    \"20 Newsgroups Full\": (newsgroups_test_desc, newsgroups_test_labels),\n",
    "    \"20 Newsgroups LLM labels\": (newsgroups_test_desc, newsgroups_test_labels),\n",
    "}\n",
    "\n",
    "datasets_train = {\n",
    "    \"AG News Full\":(ag_train_desc, ag_train_labels),\n",
    "    \"AG News LLM labels\":(ag_train_llm_desc, ag_train_llm_labels),\n",
    "    \"BBC News Full\": (bbc_train_desc, bbc_train_labels),\n",
    "    \"BBC News LLM labels\": (bbc_train_llm_desc, bbc_train_llm_labels),\n",
    "    \"20 Newsgroups Full\": (newsgroups_train_desc, newsgroups_train_labels),\n",
    "    \"20 Newsgroups LLM labels\": (newsgroups_train_llm_desc, newsgroups_train_llm_labels),\n",
    "}\n",
    "# For zero shot pipelines. Since the training is only different for LLM labeled datasets.\n",
    "datasets_test_full = {\n",
    "    \"AG News Full\": (ag_test_desc, ag_test_labels),\n",
    "    \"BBC News Full\": (bbc_test_desc, bbc_test_labels),\n",
    "    \"20 Newsgroups Full\": (newsgroups_test_desc, newsgroups_test_labels),\n",
    "}\n",
    "\n",
    "datasets_train_full = {\n",
    "    \"AG News Full\":(ag_train_desc, ag_train_labels),\n",
    "    \"BBC News Full\": (bbc_train_desc, bbc_train_labels),\n",
    "    \"20 Newsgroups Full\": (newsgroups_train_desc, newsgroups_train_labels),\n",
    "}\n",
    "\n",
    "# For pipelines that works with AG News only\n",
    "datasets_test_ag_news_full = {\n",
    "    \"AG News Full\": (ag_test_desc, ag_test_labels),\n",
    "    # \"AG News LLM labels\": (ag_test_desc, ag_test_labels),\n",
    "}\n",
    "\n",
    "datasets_train_ag_news_full = {\n",
    "    \"AG News Full\":(ag_train_desc, ag_train_labels),\n",
    "    # \"AG News LLM labels\":(ag_train_llm_desc, ag_train_llm_labels),\n",
    "}\n",
    "\n",
    "# For pipelines that works with BBC News only\n",
    "datasets_test_bbc_news_full = {\n",
    "    \"BBC News Full\": (bbc_test_desc, bbc_test_labels),\n",
    "    # \"BBC News LLM labels\": (bbc_test_desc, bbc_test_labels),\n",
    "}\n",
    "\n",
    "datasets_train_bbc_news_full = {\n",
    "    \"BBC News Full\": (bbc_train_desc, bbc_train_labels),\n",
    "    # \"BBC News LLM labels\": (bbc_train_llm_desc, bbc_train_llm_labels),\n",
    "}\n",
    "\n",
    "datasets_test_newsgroups = {\n",
    "    \"20 Newsgroups Full\": (newsgroups_test_desc, newsgroups_test_labels),\n",
    "    # \"20 Newsgroups LLM labels\": (newsgroups_test_desc, newsgroups_test_labels),\n",
    "}\n",
    "\n",
    "datasets_train_newsgroups = {\n",
    "    \"20 Newsgroups Full\": (newsgroups_train_desc, newsgroups_train_labels),\n",
    "    # \"20 Newsgroups LLM labels\": (newsgroups_train_llm_desc, newsgroups_train_llm_labels),\n",
    "}"
   ]
  },
  {
   "cell_type": "code",
   "execution_count": 53,
   "metadata": {},
   "outputs": [
    {
     "name": "stdout",
     "output_type": "stream",
     "text": [
      "AG News Full: 7600 samples, 7600 labels\n",
      "AG News LLM labels: 7600 samples, 7600 labels\n",
      "BBC News Full: 1390 samples, 1390 labels\n",
      "BBC News LLM labels: 1390 samples, 1390 labels\n",
      "20 Newsgroups Full: 4000 samples, 4000 labels\n",
      "20 Newsgroups LLM labels: 4000 samples, 4000 labels\n",
      "==========================================\n",
      "AG News Full: 80 samples, 80 labels\n",
      "AG News LLM labels: 80 samples, 80 labels\n",
      "BBC News Full: 100 samples, 100 labels\n",
      "BBC News LLM labels: 80 samples, 80 labels\n",
      "20 Newsgroups Full: 395 samples, 395 labels\n",
      "20 Newsgroups LLM labels: 395 samples, 395 labels\n"
     ]
    }
   ],
   "source": [
    "for key in datasets_test.keys():\n",
    "    print(f\"{key}: {len(datasets_test[key][0])} samples, {len(datasets_test[key][1])} labels\")\n",
    "print('==========================================')\n",
    "for key in datasets_train.keys():\n",
    "    print(f\"{key}: {len(datasets_train[key][0])} samples, {len(datasets_train[key][1])} labels\")"
   ]
  },
  {
   "cell_type": "code",
   "execution_count": 54,
   "metadata": {},
   "outputs": [
    {
     "data": {
      "text/plain": [
       "['LDA_20', 'LSI_20', 'NMF_20']"
      ]
     },
     "execution_count": 54,
     "metadata": {},
     "output_type": "execute_result"
    }
   ],
   "source": [
    "topic_modelling_orchestrator_ag_news = TopicModelingPipelineOrchestrator()\n",
    "topic_modelling_orchestrator_bbc_news = TopicModelingPipelineOrchestrator()\n",
    "topic_modelling_orchestrator_20news = TopicModelingPipelineOrchestrator()\n",
    "topic_modelling_orchestrator_ag_news.add_models_grid(\n",
    "    model_types=[\n",
    "        'LDA', \n",
    "        'LSI',\n",
    "        'NMF'\n",
    "        ],\n",
    "    param_grid={'n_topics': [4]}\n",
    ")\n",
    "topic_modelling_orchestrator_bbc_news.add_models_grid(\n",
    "    model_types=[\n",
    "        'LDA', \n",
    "        'LSI', \n",
    "        'NMF'\n",
    "        ],\n",
    "    param_grid={'n_topics': [5]}\n",
    ")\n",
    "topic_modelling_orchestrator_20news.add_models_grid(\n",
    "    model_types=[\n",
    "        'LDA', \n",
    "        'LSI', \n",
    "        'NMF'\n",
    "        ],\n",
    "    param_grid={'n_topics': [20]}\n",
    ")"
   ]
  },
  {
   "cell_type": "code",
   "execution_count": 55,
   "metadata": {},
   "outputs": [],
   "source": [
    "# class_orchestrator_zero_shot = ClassificationPipelineOrchestrator()\n",
    "# class_orchestrator_sup = ClassificationPipelineOrchestrator()\n",
    "# class_orchestrator_zero_shot.add_models_grid(\n",
    "#     model_types=[\n",
    "#         'LLMClassifier',\n",
    "#         'TARSZeroShot',\n",
    "#     ]\n",
    "# )\n",
    "# class_orchestrator_sup.add_models_grid(\n",
    "#     model_types=[\n",
    "#         'SVM',\n",
    "#         'XGBoost',\n",
    "#         'LightGBM',\n",
    "#         'RandomForest',\n",
    "#         'SVMRoberta', \n",
    "#         'XGBoostRoberta',\n",
    "#         'LightGBMRoberta',\n",
    "#         'RandomForestRoberta'\n",
    "#     ]\n",
    "#     # param_grid={'SVMRoberta': [{}], 'SVM': [{}]}  # Empty dictionary means default parameters\n",
    "# )"
   ]
  },
  {
   "cell_type": "code",
   "execution_count": 56,
   "metadata": {},
   "outputs": [],
   "source": [
    "from noise_strategy import *\n",
    "noise_strategies = [\n",
    "    NoNoise(),\n",
    "    AddRandomCharsNoise(), \n",
    "    AddRandomWordsNoise(), \n",
    "    DeleteRandomWordsNoise(), \n",
    "    ShuffleSentencesNoise(noise_level=0.7), \n",
    "    ReplaceWithSynonymsNoise(), \n",
    "    ReplaceWithAntonymsNoise()\n",
    "]"
   ]
  },
  {
   "cell_type": "markdown",
   "metadata": {},
   "source": [
    "#### Running pipelines for classification"
   ]
  },
  {
   "cell_type": "code",
   "execution_count": 57,
   "metadata": {},
   "outputs": [],
   "source": [
    "# class_orchestrator_sup.evaluate_with_training(datasets_train_newsgroups, datasets_test_newsgroups, noise_strategies).round(2)"
   ]
  },
  {
   "cell_type": "code",
   "execution_count": 58,
   "metadata": {},
   "outputs": [],
   "source": [
    "# class_orchestrator_sup.results.round(2).to_csv('../outputs/final/results_classification_supervised_20_newsgroup.csv', index=False)"
   ]
  },
  {
   "cell_type": "code",
   "execution_count": 59,
   "metadata": {},
   "outputs": [],
   "source": [
    "# class_orchestrator_zero_shot.evaluate_with_training(datasets_train_newsgroups, datasets_test_newsgroups, noise_strategies).round(2)"
   ]
  },
  {
   "cell_type": "code",
   "execution_count": 60,
   "metadata": {},
   "outputs": [],
   "source": [
    "# class_orchestrator_zero_shot.results.round(2).to_csv('../outputs/final/results_classification_zero_shot_llm_pt1_20_newsgroups.csv', index=False)"
   ]
  },
  {
   "cell_type": "markdown",
   "metadata": {},
   "source": [
    "# UP TO HERE WORKS WELL, CAN RUN ON ALL DATASETS"
   ]
  },
  {
   "cell_type": "markdown",
   "metadata": {},
   "source": [
    "#### Running pipelines for Topic Modeling"
   ]
  },
  {
   "cell_type": "code",
   "execution_count": 61,
   "metadata": {},
   "outputs": [
    {
     "data": {
      "application/vnd.jupyter.widget-view+json": {
       "model_id": "b7d8dd1a0468405e9e85edabb646cb3a",
       "version_major": 2,
       "version_minor": 0
      },
      "text/plain": [
       "Datasets:   0%|          | 0/1 [00:00<?, ?it/s]"
      ]
     },
     "metadata": {},
     "output_type": "display_data"
    },
    {
     "data": {
      "application/vnd.jupyter.widget-view+json": {
       "model_id": "6b3d9cebbc1b4b0b8b81e96cfc275b96",
       "version_major": 2,
       "version_minor": 0
      },
      "text/plain": [
       "Models:   0%|          | 0/3 [00:00<?, ?it/s]"
      ]
     },
     "metadata": {},
     "output_type": "display_data"
    },
    {
     "data": {
      "application/vnd.jupyter.widget-view+json": {
       "model_id": "f875a56d06cc42a8986a01207b3f2c7e",
       "version_major": 2,
       "version_minor": 0
      },
      "text/plain": [
       "Noise Strategies:   0%|          | 0/7 [00:00<?, ?it/s]"
      ]
     },
     "metadata": {},
     "output_type": "display_data"
    },
    {
     "data": {
      "application/vnd.jupyter.widget-view+json": {
       "model_id": "b2ff600c3502403d8469c3efc7773bb0",
       "version_major": 2,
       "version_minor": 0
      },
      "text/plain": [
       "Noise Strategies:   0%|          | 0/7 [00:00<?, ?it/s]"
      ]
     },
     "metadata": {},
     "output_type": "display_data"
    },
    {
     "data": {
      "application/vnd.jupyter.widget-view+json": {
       "model_id": "6fb855869cf746bdbc0b60aa5515a1e8",
       "version_major": 2,
       "version_minor": 0
      },
      "text/plain": [
       "Noise Strategies:   0%|          | 0/7 [00:00<?, ?it/s]"
      ]
     },
     "metadata": {},
     "output_type": "display_data"
    }
   ],
   "source": [
    "topic_modelling_orchestrator_ag_news.evaluate(datasets_test_ag_news_full, noise_strategies)\n",
    "topic_modelling_orchestrator_ag_news.results\n",
    "topic_modelling_orchestrator_ag_news.results.round(2).to_csv('../outputs/final/results_topic_modelling_ag_news.csv', index=False)\n"
   ]
  },
  {
   "cell_type": "code",
   "execution_count": 62,
   "metadata": {},
   "outputs": [
    {
     "data": {
      "application/vnd.jupyter.widget-view+json": {
       "model_id": "5a0027f7548b40cd907273519b8eef79",
       "version_major": 2,
       "version_minor": 0
      },
      "text/plain": [
       "Datasets:   0%|          | 0/1 [00:00<?, ?it/s]"
      ]
     },
     "metadata": {},
     "output_type": "display_data"
    },
    {
     "data": {
      "application/vnd.jupyter.widget-view+json": {
       "model_id": "2fc7f45bb52149fab9cd4e33d5accfd6",
       "version_major": 2,
       "version_minor": 0
      },
      "text/plain": [
       "Models:   0%|          | 0/3 [00:00<?, ?it/s]"
      ]
     },
     "metadata": {},
     "output_type": "display_data"
    },
    {
     "data": {
      "application/vnd.jupyter.widget-view+json": {
       "model_id": "374bc17eaf024b61a2a14e241de5c718",
       "version_major": 2,
       "version_minor": 0
      },
      "text/plain": [
       "Noise Strategies:   0%|          | 0/7 [00:00<?, ?it/s]"
      ]
     },
     "metadata": {},
     "output_type": "display_data"
    },
    {
     "data": {
      "application/vnd.jupyter.widget-view+json": {
       "model_id": "ab0e1880e1e34d9b95db3a758f91fc40",
       "version_major": 2,
       "version_minor": 0
      },
      "text/plain": [
       "Noise Strategies:   0%|          | 0/7 [00:00<?, ?it/s]"
      ]
     },
     "metadata": {},
     "output_type": "display_data"
    },
    {
     "data": {
      "application/vnd.jupyter.widget-view+json": {
       "model_id": "3b4b6580a709403d98eea17b0bbf38e6",
       "version_major": 2,
       "version_minor": 0
      },
      "text/plain": [
       "Noise Strategies:   0%|          | 0/7 [00:00<?, ?it/s]"
      ]
     },
     "metadata": {},
     "output_type": "display_data"
    }
   ],
   "source": [
    "topic_modelling_orchestrator_ag_news.evaluate(datasets_test_bbc_news_full, noise_strategies)\n",
    "topic_modelling_orchestrator_ag_news.results\n",
    "topic_modelling_orchestrator_ag_news.results.round(2).to_csv('../outputs/final/results_topic_modelling_bbc_news.csv', index=False)"
   ]
  },
  {
   "cell_type": "code",
   "execution_count": 63,
   "metadata": {},
   "outputs": [
    {
     "data": {
      "application/vnd.jupyter.widget-view+json": {
       "model_id": "85175d16ce2f4a98801a25204eaab539",
       "version_major": 2,
       "version_minor": 0
      },
      "text/plain": [
       "Datasets:   0%|          | 0/1 [00:00<?, ?it/s]"
      ]
     },
     "metadata": {},
     "output_type": "display_data"
    },
    {
     "data": {
      "application/vnd.jupyter.widget-view+json": {
       "model_id": "6dc6802edc304e6da425fe069ca9fbac",
       "version_major": 2,
       "version_minor": 0
      },
      "text/plain": [
       "Models:   0%|          | 0/3 [00:00<?, ?it/s]"
      ]
     },
     "metadata": {},
     "output_type": "display_data"
    },
    {
     "data": {
      "application/vnd.jupyter.widget-view+json": {
       "model_id": "5143336eb0df403f867dd506419f2153",
       "version_major": 2,
       "version_minor": 0
      },
      "text/plain": [
       "Noise Strategies:   0%|          | 0/7 [00:00<?, ?it/s]"
      ]
     },
     "metadata": {},
     "output_type": "display_data"
    },
    {
     "data": {
      "application/vnd.jupyter.widget-view+json": {
       "model_id": "dc48e043654843c5843f0a2c9d92d8a1",
       "version_major": 2,
       "version_minor": 0
      },
      "text/plain": [
       "Noise Strategies:   0%|          | 0/7 [00:00<?, ?it/s]"
      ]
     },
     "metadata": {},
     "output_type": "display_data"
    },
    {
     "data": {
      "application/vnd.jupyter.widget-view+json": {
       "model_id": "264818b64f17493bbb3d086a627088a9",
       "version_major": 2,
       "version_minor": 0
      },
      "text/plain": [
       "Noise Strategies:   0%|          | 0/7 [00:00<?, ?it/s]"
      ]
     },
     "metadata": {},
     "output_type": "display_data"
    }
   ],
   "source": [
    "topic_modelling_orchestrator_ag_news.evaluate(datasets_test_newsgroups, noise_strategies)\n",
    "topic_modelling_orchestrator_ag_news.results\n",
    "topic_modelling_orchestrator_ag_news.results.round(2).to_csv('../outputs/final/results_topic_modelling_20newsgroups.csv', index=False)\n"
   ]
  },
  {
   "cell_type": "code",
   "execution_count": null,
   "metadata": {},
   "outputs": [],
   "source": []
  }
 ],
 "metadata": {
  "kernelspec": {
   "display_name": "base",
   "language": "python",
   "name": "python3"
  },
  "language_info": {
   "codemirror_mode": {
    "name": "ipython",
    "version": 3
   },
   "file_extension": ".py",
   "mimetype": "text/x-python",
   "name": "python",
   "nbconvert_exporter": "python",
   "pygments_lexer": "ipython3",
   "version": "3.11.7"
  }
 },
 "nbformat": 4,
 "nbformat_minor": 2
}
