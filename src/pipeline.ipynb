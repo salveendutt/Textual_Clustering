{
 "cells": [
  {
   "cell_type": "code",
   "execution_count": 1,
   "metadata": {},
   "outputs": [],
   "source": [
    "# import nltk\n",
    "# nltk.download('punkt_tab')\n",
    "# nltk.download('averaged_perceptron_tagger_eng')\n",
    "# nltk.download('wordnet')"
   ]
  },
  {
   "cell_type": "code",
   "execution_count": 1,
   "metadata": {},
   "outputs": [],
   "source": [
    "import pandas as pd\n",
    "import random\n",
    "from topic_modeling_pipeline import *\n",
    "from classification_pipeline import *\n",
    "random.seed(42)"
   ]
  },
  {
   "cell_type": "markdown",
   "metadata": {},
   "source": [
    "## AG News Dataset"
   ]
  },
  {
   "cell_type": "code",
   "execution_count": null,
   "metadata": {},
   "outputs": [],
   "source": [
    "ag_test = pd.read_csv('../data/AG News/test.csv')\n",
    "ag_train = pd.read_csv('../data/AG News/train.csv')\n",
    "\n",
    "# Define the mapping\n",
    "class_mapping = {1: \"World\", 2: \"Sports\", 3: \"Business\", 4: \"Science\"}\n",
    "\n",
    "# Apply the mapping to the class column\n",
    "ag_test['Class'] = ag_test['Class Index'].replace(class_mapping)\n",
    "ag_train['Class'] = ag_train['Class Index'].replace(class_mapping)\n",
    "\n",
    "ag_news_train_baseline = ag_train['Description']\n",
    "ag_news_train_true_labels = ag_train['Class Index']\n",
    "\n",
    "sampled = ag_news_train_baseline.sample(10, random_state=42)\n",
    "ag_news_train_baseline = sampled\n",
    "ag_news_train_true_labels = ag_news_train_true_labels.loc[sampled.index]\n",
    "\n",
    "ag_news_baseline = ag_test['Description']\n",
    "ag_news_true_labels = ag_test['Class Index']\n",
    "\n",
    "ag_news_train = {\n",
    "    \"AG News\":(ag_news_train_baseline, ag_news_train_true_labels),\n",
    "}\n",
    "\n",
    "ag_news = {\n",
    "    \"AG News\":(ag_news_baseline, ag_news_true_labels),\n",
    "}"
   ]
  },
  {
   "cell_type": "code",
   "execution_count": 3,
   "metadata": {},
   "outputs": [
    {
     "data": {
      "text/plain": [
       "Class Index\n",
       "2    30\n",
       "3    27\n",
       "1    24\n",
       "4    19\n",
       "Name: count, dtype: int64"
      ]
     },
     "execution_count": 3,
     "metadata": {},
     "output_type": "execute_result"
    }
   ],
   "source": [
    "ag_news_train_true_labels.value_counts()"
   ]
  },
  {
   "cell_type": "code",
   "execution_count": 4,
   "metadata": {},
   "outputs": [
    {
     "data": {
      "text/plain": [
       "['LDA_4', 'LSI_4', 'NMF_4']"
      ]
     },
     "execution_count": 4,
     "metadata": {},
     "output_type": "execute_result"
    }
   ],
   "source": [
    "topic_modelling_orchestrator = TopicModelingPipelineOrchestrator()\n",
    "\n",
    "topic_modelling_orchestrator.add_models_grid(\n",
    "    model_types=['LDA', 'LSI', 'NMF'],\n",
    "    param_grid={'n_topics': [4]}\n",
    ")"
   ]
  },
  {
   "cell_type": "code",
   "execution_count": 6,
   "metadata": {},
   "outputs": [
    {
     "data": {
      "text/plain": [
       "['SVMRoberta', 'SVM']"
      ]
     },
     "execution_count": 6,
     "metadata": {},
     "output_type": "execute_result"
    }
   ],
   "source": [
    "class_orchestrator = ClassificationPipelineOrchestrator()\n",
    "\n",
    "class_orchestrator.add_models_grid(\n",
    "    model_types=[\n",
    "        'SVMRoberta', \n",
    "        'SVM'],\n",
    "    # param_grid={'SVMRoberta': [{}], 'SVM': [{}]}  # Empty dictionary means default parameters\n",
    "\n",
    ")"
   ]
  },
  {
   "cell_type": "code",
   "execution_count": 7,
   "metadata": {},
   "outputs": [],
   "source": [
    "from noise_strategy import *\n",
    "noise_strategies = [\n",
    "    NoNoise(),\n",
    "    # AddRandomCharsNoise(), \n",
    "    # AddRandomWordsNoise(), \n",
    "    # DeleteRandomWordsNoise(), \n",
    "    ShuffleSentencesNoise(noise_level=0.7), \n",
    "    # ReplaceWithSynonymsNoise(), \n",
    "    # ReplaceWithAntonymsNoise()\n",
    "]"
   ]
  },
  {
   "cell_type": "code",
   "execution_count": 8,
   "metadata": {},
   "outputs": [],
   "source": [
    "x,y = ag_news_train['AG News']"
   ]
  },
  {
   "cell_type": "code",
   "execution_count": 9,
   "metadata": {},
   "outputs": [
    {
     "data": {
      "application/vnd.jupyter.widget-view+json": {
       "model_id": "f89aa3d08591410bb2760f881db28644",
       "version_major": 2,
       "version_minor": 0
      },
      "text/plain": [
       "Datasets:   0%|          | 0/1 [00:00<?, ?it/s]"
      ]
     },
     "metadata": {},
     "output_type": "display_data"
    },
    {
     "data": {
      "application/vnd.jupyter.widget-view+json": {
       "model_id": "20dbc64c34834f96849570a4d875b24e",
       "version_major": 2,
       "version_minor": 0
      },
      "text/plain": [
       "Models:   0%|          | 0/2 [00:00<?, ?it/s]"
      ]
     },
     "metadata": {},
     "output_type": "display_data"
    },
    {
     "data": {
      "application/vnd.jupyter.widget-view+json": {
       "model_id": "75a73364cc1541e386973559dffdad2c",
       "version_major": 2,
       "version_minor": 0
      },
      "text/plain": [
       "Noise Strategies:   0%|          | 0/2 [00:00<?, ?it/s]"
      ]
     },
     "metadata": {},
     "output_type": "display_data"
    },
    {
     "name": "stderr",
     "output_type": "stream",
     "text": [
      "2025-05-18 12:08:43,096 [INFO] classification_models: Processing 100 documents for RoBERTa embeddings.\n",
      "/opt/anaconda3/lib/python3.11/site-packages/sklearn/metrics/_classification.py:1344: UndefinedMetricWarning: Recall is ill-defined and being set to 0.0 in labels with no true samples. Use `zero_division` parameter to control this behavior.\n",
      "  _warn_prf(average, modifier, msg_start, len(result))\n",
      "2025-05-18 12:11:15,074 [INFO] classification_models: Processing 100 documents for RoBERTa embeddings.\n",
      "/opt/anaconda3/lib/python3.11/site-packages/sklearn/metrics/_classification.py:1344: UndefinedMetricWarning: Recall is ill-defined and being set to 0.0 in labels with no true samples. Use `zero_division` parameter to control this behavior.\n",
      "  _warn_prf(average, modifier, msg_start, len(result))\n"
     ]
    },
    {
     "data": {
      "application/vnd.jupyter.widget-view+json": {
       "model_id": "5fe7d41b73044d1f94d78c2728d11381",
       "version_major": 2,
       "version_minor": 0
      },
      "text/plain": [
       "Noise Strategies:   0%|          | 0/2 [00:00<?, ?it/s]"
      ]
     },
     "metadata": {},
     "output_type": "display_data"
    },
    {
     "name": "stderr",
     "output_type": "stream",
     "text": [
      "/opt/anaconda3/lib/python3.11/site-packages/sklearn/metrics/_classification.py:1344: UndefinedMetricWarning: Recall is ill-defined and being set to 0.0 in labels with no true samples. Use `zero_division` parameter to control this behavior.\n",
      "  _warn_prf(average, modifier, msg_start, len(result))\n",
      "/opt/anaconda3/lib/python3.11/site-packages/sklearn/metrics/_classification.py:1344: UndefinedMetricWarning: Recall is ill-defined and being set to 0.0 in labels with no true samples. Use `zero_division` parameter to control this behavior.\n",
      "  _warn_prf(average, modifier, msg_start, len(result))\n"
     ]
    },
    {
     "data": {
      "text/html": [
       "<div>\n",
       "<style scoped>\n",
       "    .dataframe tbody tr th:only-of-type {\n",
       "        vertical-align: middle;\n",
       "    }\n",
       "\n",
       "    .dataframe tbody tr th {\n",
       "        vertical-align: top;\n",
       "    }\n",
       "\n",
       "    .dataframe thead th {\n",
       "        text-align: right;\n",
       "    }\n",
       "</style>\n",
       "<table border=\"1\" class=\"dataframe\">\n",
       "  <thead>\n",
       "    <tr style=\"text-align: right;\">\n",
       "      <th></th>\n",
       "      <th>Dataset</th>\n",
       "      <th>Noise</th>\n",
       "      <th>Model</th>\n",
       "      <th>Accuracy</th>\n",
       "      <th>F1 Score</th>\n",
       "      <th>Precision</th>\n",
       "      <th>Recall</th>\n",
       "    </tr>\n",
       "  </thead>\n",
       "  <tbody>\n",
       "    <tr>\n",
       "      <th>2</th>\n",
       "      <td>AG News</td>\n",
       "      <td>NoNoise</td>\n",
       "      <td>SVM</td>\n",
       "      <td>0.353289</td>\n",
       "      <td>0.440713</td>\n",
       "      <td>0.90706</td>\n",
       "      <td>0.353289</td>\n",
       "    </tr>\n",
       "    <tr>\n",
       "      <th>0</th>\n",
       "      <td>AG News</td>\n",
       "      <td>NoNoise</td>\n",
       "      <td>SVMRoberta</td>\n",
       "      <td>0.250000</td>\n",
       "      <td>0.400000</td>\n",
       "      <td>1.00000</td>\n",
       "      <td>0.250000</td>\n",
       "    </tr>\n",
       "    <tr>\n",
       "      <th>3</th>\n",
       "      <td>AG News</td>\n",
       "      <td>ShuffleSentencesNoise</td>\n",
       "      <td>SVM</td>\n",
       "      <td>0.353289</td>\n",
       "      <td>0.440713</td>\n",
       "      <td>0.90706</td>\n",
       "      <td>0.353289</td>\n",
       "    </tr>\n",
       "    <tr>\n",
       "      <th>1</th>\n",
       "      <td>AG News</td>\n",
       "      <td>ShuffleSentencesNoise</td>\n",
       "      <td>SVMRoberta</td>\n",
       "      <td>0.250000</td>\n",
       "      <td>0.400000</td>\n",
       "      <td>1.00000</td>\n",
       "      <td>0.250000</td>\n",
       "    </tr>\n",
       "  </tbody>\n",
       "</table>\n",
       "</div>"
      ],
      "text/plain": [
       "   Dataset                  Noise       Model  Accuracy  F1 Score  Precision  \\\n",
       "2  AG News                NoNoise         SVM  0.353289  0.440713    0.90706   \n",
       "0  AG News                NoNoise  SVMRoberta  0.250000  0.400000    1.00000   \n",
       "3  AG News  ShuffleSentencesNoise         SVM  0.353289  0.440713    0.90706   \n",
       "1  AG News  ShuffleSentencesNoise  SVMRoberta  0.250000  0.400000    1.00000   \n",
       "\n",
       "     Recall  \n",
       "2  0.353289  \n",
       "0  0.250000  \n",
       "3  0.353289  \n",
       "1  0.250000  "
      ]
     },
     "execution_count": 9,
     "metadata": {},
     "output_type": "execute_result"
    }
   ],
   "source": [
    "class_orchestrator.evaluate_with_training(ag_news_train, ag_news, noise_strategies)"
   ]
  },
  {
   "cell_type": "code",
   "execution_count": null,
   "metadata": {},
   "outputs": [],
   "source": []
  },
  {
   "cell_type": "code",
   "execution_count": null,
   "metadata": {},
   "outputs": [
    {
     "data": {
      "application/vnd.jupyter.widget-view+json": {
       "model_id": "15c0e41ca07a4e6ba0c4682dbe5d7a2c",
       "version_major": 2,
       "version_minor": 0
      },
      "text/plain": [
       "Datasets:   0%|          | 0/1 [00:00<?, ?it/s]"
      ]
     },
     "metadata": {},
     "output_type": "display_data"
    },
    {
     "data": {
      "application/vnd.jupyter.widget-view+json": {
       "model_id": "37f572dc6c6b4f84b0ccaca6b3a7d971",
       "version_major": 2,
       "version_minor": 0
      },
      "text/plain": [
       "Models:   0%|          | 0/3 [00:00<?, ?it/s]"
      ]
     },
     "metadata": {},
     "output_type": "display_data"
    },
    {
     "data": {
      "application/vnd.jupyter.widget-view+json": {
       "model_id": "f55e44f6057e44c18b5bf60e8ab0b80b",
       "version_major": 2,
       "version_minor": 0
      },
      "text/plain": [
       "Noise Strategies:   0%|          | 0/2 [00:00<?, ?it/s]"
      ]
     },
     "metadata": {},
     "output_type": "display_data"
    },
    {
     "name": "stderr",
     "output_type": "stream",
     "text": [
      "2025-05-17 20:23:34,939 [INFO] gensim.corpora.dictionary: adding document #0 to Dictionary<0 unique tokens: []>\n",
      "2025-05-17 20:23:34,990 [INFO] gensim.corpora.dictionary: built Dictionary<15168 unique tokens: ['disappoint', 'feder', 'firm', 'mogul', 'newal']...> from 7600 documents (total 139244 corpus positions)\n",
      "2025-05-17 20:23:34,990 [INFO] gensim.utils: Dictionary lifecycle event {'msg': \"built Dictionary<15168 unique tokens: ['disappoint', 'feder', 'firm', 'mogul', 'newal']...> from 7600 documents (total 139244 corpus positions)\", 'datetime': '2025-05-17T20:23:34.990659', 'gensim': '4.3.0', 'python': '3.11.7 (main, Dec 15 2023, 12:09:56) [Clang 14.0.6 ]', 'platform': 'macOS-15.4.1-arm64-arm-64bit', 'event': 'created'}\n",
      "2025-05-17 20:23:34,996 [INFO] gensim.topic_coherence.probability_estimation: using ParallelWordOccurrenceAccumulator<processes=10, batch_size=64> to estimate probabilities from sliding windows\n",
      "2025-05-17 20:23:40,956 [INFO] gensim.topic_coherence.text_analysis: 10 accumulators retrieved from output queue\n",
      "2025-05-17 20:23:40,967 [INFO] gensim.topic_coherence.text_analysis: accumulated word occurrence stats for 7600 virtual documents\n"
     ]
    }
   ],
   "source": [
    "topic_modelling_orchestrator.evaluate(ag_news, noise_strategies)"
   ]
  },
  {
   "cell_type": "code",
   "execution_count": 6,
   "metadata": {},
   "outputs": [
    {
     "data": {
      "text/html": [
       "<div>\n",
       "<style scoped>\n",
       "    .dataframe tbody tr th:only-of-type {\n",
       "        vertical-align: middle;\n",
       "    }\n",
       "\n",
       "    .dataframe tbody tr th {\n",
       "        vertical-align: top;\n",
       "    }\n",
       "\n",
       "    .dataframe thead th {\n",
       "        text-align: right;\n",
       "    }\n",
       "</style>\n",
       "<table border=\"1\" class=\"dataframe\">\n",
       "  <thead>\n",
       "    <tr style=\"text-align: right;\">\n",
       "      <th></th>\n",
       "      <th>Dataset</th>\n",
       "      <th>Noise</th>\n",
       "      <th>Model</th>\n",
       "      <th>ARI Score</th>\n",
       "      <th>Topics Coherence</th>\n",
       "      <th>Cosine Similarity</th>\n",
       "      <th>Reconstruction Error</th>\n",
       "    </tr>\n",
       "  </thead>\n",
       "  <tbody>\n",
       "    <tr>\n",
       "      <th>0</th>\n",
       "      <td>AG News</td>\n",
       "      <td>NoNoise</td>\n",
       "      <td>LDA_4</td>\n",
       "      <td>0.154719</td>\n",
       "      <td>0.533687</td>\n",
       "      <td>0.389324</td>\n",
       "      <td>None</td>\n",
       "    </tr>\n",
       "    <tr>\n",
       "      <th>2</th>\n",
       "      <td>AG News</td>\n",
       "      <td>NoNoise</td>\n",
       "      <td>LSI_4</td>\n",
       "      <td>0.111348</td>\n",
       "      <td>0.631264</td>\n",
       "      <td>0.564310</td>\n",
       "      <td>None</td>\n",
       "    </tr>\n",
       "    <tr>\n",
       "      <th>4</th>\n",
       "      <td>AG News</td>\n",
       "      <td>NoNoise</td>\n",
       "      <td>NMF_4</td>\n",
       "      <td>0.405050</td>\n",
       "      <td>0.722596</td>\n",
       "      <td>0.473902</td>\n",
       "      <td>86.28456</td>\n",
       "    </tr>\n",
       "    <tr>\n",
       "      <th>1</th>\n",
       "      <td>AG News</td>\n",
       "      <td>ShuffleSentencesNoise</td>\n",
       "      <td>LDA_4</td>\n",
       "      <td>0.154719</td>\n",
       "      <td>0.533687</td>\n",
       "      <td>0.389324</td>\n",
       "      <td>None</td>\n",
       "    </tr>\n",
       "    <tr>\n",
       "      <th>3</th>\n",
       "      <td>AG News</td>\n",
       "      <td>ShuffleSentencesNoise</td>\n",
       "      <td>LSI_4</td>\n",
       "      <td>0.111348</td>\n",
       "      <td>0.631264</td>\n",
       "      <td>0.564310</td>\n",
       "      <td>None</td>\n",
       "    </tr>\n",
       "    <tr>\n",
       "      <th>5</th>\n",
       "      <td>AG News</td>\n",
       "      <td>ShuffleSentencesNoise</td>\n",
       "      <td>NMF_4</td>\n",
       "      <td>0.405050</td>\n",
       "      <td>0.722596</td>\n",
       "      <td>0.473902</td>\n",
       "      <td>86.28456</td>\n",
       "    </tr>\n",
       "  </tbody>\n",
       "</table>\n",
       "</div>"
      ],
      "text/plain": [
       "   Dataset                  Noise  Model  ARI Score  Topics Coherence  \\\n",
       "0  AG News                NoNoise  LDA_4   0.154719          0.533687   \n",
       "2  AG News                NoNoise  LSI_4   0.111348          0.631264   \n",
       "4  AG News                NoNoise  NMF_4   0.405050          0.722596   \n",
       "1  AG News  ShuffleSentencesNoise  LDA_4   0.154719          0.533687   \n",
       "3  AG News  ShuffleSentencesNoise  LSI_4   0.111348          0.631264   \n",
       "5  AG News  ShuffleSentencesNoise  NMF_4   0.405050          0.722596   \n",
       "\n",
       "   Cosine Similarity Reconstruction Error  \n",
       "0           0.389324                 None  \n",
       "2           0.564310                 None  \n",
       "4           0.473902             86.28456  \n",
       "1           0.389324                 None  \n",
       "3           0.564310                 None  \n",
       "5           0.473902             86.28456  "
      ]
     },
     "execution_count": 6,
     "metadata": {},
     "output_type": "execute_result"
    }
   ],
   "source": [
    "orchestrator.results"
   ]
  },
  {
   "cell_type": "code",
   "execution_count": null,
   "metadata": {},
   "outputs": [],
   "source": []
  },
  {
   "cell_type": "code",
   "execution_count": null,
   "metadata": {},
   "outputs": [],
   "source": []
  }
 ],
 "metadata": {
  "kernelspec": {
   "display_name": "base",
   "language": "python",
   "name": "python3"
  },
  "language_info": {
   "codemirror_mode": {
    "name": "ipython",
    "version": 3
   },
   "file_extension": ".py",
   "mimetype": "text/x-python",
   "name": "python",
   "nbconvert_exporter": "python",
   "pygments_lexer": "ipython3",
   "version": "3.11.7"
  }
 },
 "nbformat": 4,
 "nbformat_minor": 2
}
