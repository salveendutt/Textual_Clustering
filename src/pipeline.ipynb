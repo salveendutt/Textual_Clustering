{
 "cells": [
  {
   "cell_type": "code",
   "execution_count": 1,
   "metadata": {},
   "outputs": [],
   "source": [
    "# # RUN BELOW WHEN RUNNING FOR THE FIRST TIME\n",
    "# import nltk\n",
    "# nltk.download('punkt_tab')\n",
    "# nltk.download('averaged_perceptron_tagger_eng')\n",
    "# nltk.download('wordnet')"
   ]
  },
  {
   "cell_type": "markdown",
   "metadata": {},
   "source": [
    "### Core Assumptions:\n",
    "* Business wants to classify incoming textual data\n",
    "* Minimal labeling needed. Zero to 20 labels per classification "
   ]
  },
  {
   "cell_type": "code",
   "execution_count": 1,
   "metadata": {},
   "outputs": [],
   "source": [
    "import pandas as pd\n",
    "import random\n",
    "from topic_modeling_pipeline import *\n",
    "from classification_pipeline import *\n",
    "random.seed(42)"
   ]
  },
  {
   "cell_type": "code",
   "execution_count": 2,
   "metadata": {},
   "outputs": [],
   "source": [
    "taking_sample = True\n",
    "test_sample_size = 30"
   ]
  },
  {
   "cell_type": "markdown",
   "metadata": {},
   "source": [
    "## AG News Dataset"
   ]
  },
  {
   "cell_type": "code",
   "execution_count": 3,
   "metadata": {},
   "outputs": [],
   "source": [
    "ag_test = pd.read_csv('../data/AG News/test.csv')\n",
    "ag_train = pd.read_csv('../data/AG News/train_from_llm.csv')\n",
    "\n",
    "ag_train.dropna(subset=['Predicted Topic Index'], inplace=True)\n",
    "\n",
    "# CREATING A SAMPLE TEST SET\n",
    "if taking_sample == True:\n",
    "    ag_test = ag_test.sample(test_sample_size, random_state=42)\n",
    "\n",
    "ag_test_desc = ag_test['Description']\n",
    "ag_test_labels = ag_test['Class Index']\n",
    "\n",
    "ag_train_desc = ag_train['Description']\n",
    "ag_train_labels = ag_train['Class Index']\n",
    "\n",
    "ag_train_llm_desc = ag_train['Description']\n",
    "ag_train_llm_labels = ag_train['Predicted Topic Index']"
   ]
  },
  {
   "cell_type": "markdown",
   "metadata": {},
   "source": [
    "### BBC"
   ]
  },
  {
   "cell_type": "code",
   "execution_count": 4,
   "metadata": {},
   "outputs": [],
   "source": [
    "bbc_test = pd.read_csv('../data/BBC News/test.csv')\n",
    "bbc_train = pd.read_csv('../data/BBC News/train_from_llm.csv')\n",
    "\n",
    "if taking_sample == True:\n",
    "    bbc_test = bbc_test.sample(test_sample_size, random_state=42)\n",
    "\n",
    "bbc_test_desc = bbc_test['Description']\n",
    "bbc_test_labels = bbc_test['Class Index']\n",
    "\n",
    "bbc_train_desc = bbc_train['Description']\n",
    "bbc_train_labels = bbc_train['Class Index']\n",
    "\n",
    "bbc_train_llm_desc = ag_train['Description']\n",
    "bbc_train_llm_labels = ag_train['Predicted Topic Index']\n"
   ]
  },
  {
   "cell_type": "markdown",
   "metadata": {},
   "source": [
    "### 20NewsGroup"
   ]
  },
  {
   "cell_type": "code",
   "execution_count": 5,
   "metadata": {},
   "outputs": [],
   "source": [
    "newsgroups_test = pd.read_csv('../data/20 Newsgroups/test.csv')\n",
    "newsgroups_train = pd.read_csv('../data/20 Newsgroups/train_from_llm.csv')\n",
    "newsgroups_train = newsgroups_train[newsgroups_train['Predicted Topic Index'] != -1]\n",
    "\n",
    "if taking_sample == True:\n",
    "    newsgroups_test = newsgroups_test.sample(test_sample_size, random_state=42)\n",
    "\n",
    "newsgroups_test_desc = newsgroups_test['Description']\n",
    "newsgroups_test_labels = newsgroups_test['Class Index']\n",
    "\n",
    "newsgroups_train_desc = newsgroups_train['Description']\n",
    "newsgroups_train_labels = newsgroups_train['Class Index']\n",
    "\n",
    "newsgroups_train_llm_desc = newsgroups_train['Description']\n",
    "newsgroups_train_llm_labels = newsgroups_train['Predicted Topic Index']"
   ]
  },
  {
   "cell_type": "markdown",
   "metadata": {},
   "source": [
    "### Combining Datasets"
   ]
  },
  {
   "cell_type": "code",
   "execution_count": 6,
   "metadata": {},
   "outputs": [],
   "source": [
    "# len(bbc_test_desc), len(bbc_train_desc), len(ag_test_desc), len(ag_train_desc)"
   ]
  },
  {
   "cell_type": "code",
   "execution_count": 7,
   "metadata": {},
   "outputs": [],
   "source": [
    "# For pipelines that works with all datasets\n",
    "datasets_test = {\n",
    "    \"AG News Full\": (ag_test_desc, ag_test_labels),\n",
    "    \"AG News LLM labels\": (ag_test_desc, ag_test_labels),\n",
    "    \"BBC News Full\": (bbc_test_desc, bbc_test_labels),\n",
    "    \"BBC News LLM labels\": (bbc_test_desc, bbc_test_labels),\n",
    "    \"20 Newsgroups Full\": (newsgroups_test_desc, newsgroups_test_labels),\n",
    "    \"20 Newsgroups LLM labels\": (newsgroups_test_desc, newsgroups_test_labels),\n",
    "}\n",
    "\n",
    "datasets_train = {\n",
    "    \"AG News Full\":(ag_train_desc, ag_train_labels),\n",
    "    \"AG News LLM labels\":(ag_train_llm_desc, ag_train_llm_labels),\n",
    "    \"BBC News Full\": (bbc_train_desc, bbc_train_labels),\n",
    "}\n",
    "\n",
    "# For pipelines that works with AG News only\n",
    "datasets_test_ag_news = {\n",
    "    \"AG News Full\": (ag_test_desc, ag_test_labels),\n",
    "    \"AG News LLM labels\": (ag_test_desc, ag_test_labels),\n",
    "}\n",
    "\n",
    "datasets_train_ag_news = {\n",
    "    \"AG News Full\":(ag_train_desc, ag_train_labels),\n",
    "    \"AG News LLM labels\":(ag_train_llm_desc, ag_train_llm_labels),\n",
    "}\n",
    "\n",
    "# For pipelines that works with BBC News only\n",
    "datasets_test_bbc_news = {\n",
    "    \"BBC News Full\": (bbc_test_desc, bbc_test_labels),\n",
    "    \"BBC News LLM labels\": (bbc_test_desc, bbc_test_labels),\n",
    "}\n",
    "\n",
    "datasets_train_bbc_news = {\n",
    "    \"BBC News Full\": (bbc_train_desc, bbc_train_labels),\n",
    "    \"BBC News LLM labels\": (bbc_train_llm_desc, bbc_train_llm_labels),\n",
    "}\n",
    "\n",
    "datasets_newsgroups = {\n",
    "    \"20 Newsgroups Full\": (newsgroups_test_desc, newsgroups_test_labels),\n",
    "    \"20 Newsgroups LLM labels\": (newsgroups_test_desc, newsgroups_test_labels),\n",
    "}\n",
    "\n",
    "datasets_train_newsgroups = {\n",
    "    \"20 Newsgroups Full\": (newsgroups_train_desc, newsgroups_train_labels),\n",
    "    \"20 Newsgroups LLM labels\": (newsgroups_train_llm_desc, newsgroups_train_llm_labels),\n",
    "}"
   ]
  },
  {
   "cell_type": "code",
   "execution_count": 8,
   "metadata": {},
   "outputs": [
    {
     "data": {
      "text/plain": [
       "['LDA_5', 'LSI_5', 'NMF_5']"
      ]
     },
     "execution_count": 8,
     "metadata": {},
     "output_type": "execute_result"
    }
   ],
   "source": [
    "topic_modelling_orchestrator_ag_news = TopicModelingPipelineOrchestrator()\n",
    "topic_modelling_orchestrator_bbc_news = TopicModelingPipelineOrchestrator()\n",
    "topic_modelling_orchestrator_ag_news.add_models_grid(\n",
    "    model_types=[\n",
    "        'LDA', \n",
    "        'LSI',\n",
    "        'NMF'\n",
    "        ],\n",
    "    param_grid={'n_topics': [4]}\n",
    ")\n",
    "topic_modelling_orchestrator_bbc_news.add_models_grid(\n",
    "    model_types=[\n",
    "        'LDA', \n",
    "        'LSI', \n",
    "        'NMF'\n",
    "        ],\n",
    "    param_grid={'n_topics': [5]}\n",
    ")"
   ]
  },
  {
   "cell_type": "code",
   "execution_count": 9,
   "metadata": {},
   "outputs": [
    {
     "name": "stdout",
     "output_type": "stream",
     "text": [
      "2025-06-05 22:27:18,167 TARS initialized without a task. You need to call .add_and_switch_to_new_task() before training this model\n"
     ]
    },
    {
     "data": {
      "text/plain": [
       "['SVM',\n",
       " 'XGBoost',\n",
       " 'LightGBM',\n",
       " 'RandomForest',\n",
       " 'SVMRoberta',\n",
       " 'XGBoostRoberta',\n",
       " 'LightGBMRoberta',\n",
       " 'RandomForestRoberta']"
      ]
     },
     "execution_count": 9,
     "metadata": {},
     "output_type": "execute_result"
    }
   ],
   "source": [
    "class_orchestrator_zero_shot = ClassificationPipelineOrchestrator()\n",
    "class_orchestrator_sup = ClassificationPipelineOrchestrator()\n",
    "class_orchestrator_zero_shot.add_models_grid(\n",
    "    model_types=[\n",
    "        'LLMClassifier',\n",
    "        'TARSZeroShot',\n",
    "    ]\n",
    ")\n",
    "class_orchestrator_sup.add_models_grid(\n",
    "    model_types=[\n",
    "        'SVM',\n",
    "        'XGBoost',\n",
    "        'LightGBM',\n",
    "        'RandomForest',\n",
    "        'SVMRoberta', \n",
    "        'XGBoostRoberta',\n",
    "        'LightGBMRoberta',\n",
    "        'RandomForestRoberta'\n",
    "    ]\n",
    "    # param_grid={'SVMRoberta': [{}], 'SVM': [{}]}  # Empty dictionary means default parameters\n",
    ")"
   ]
  },
  {
   "cell_type": "code",
   "execution_count": 10,
   "metadata": {},
   "outputs": [],
   "source": [
    "from noise_strategy import *\n",
    "noise_strategies = [\n",
    "    NoNoise(),\n",
    "    # AddRandomCharsNoise(), \n",
    "    # AddRandomWordsNoise(), \n",
    "    # DeleteRandomWordsNoise(), \n",
    "    # ShuffleSentencesNoise(noise_level=0.7), \n",
    "    # ReplaceWithSynonymsNoise(), \n",
    "    # ReplaceWithAntonymsNoise()\n",
    "]"
   ]
  },
  {
   "cell_type": "markdown",
   "metadata": {},
   "source": [
    "#### Running pipelines for classification"
   ]
  },
  {
   "cell_type": "code",
   "execution_count": null,
   "metadata": {},
   "outputs": [
    {
     "data": {
      "application/vnd.jupyter.widget-view+json": {
       "model_id": "c1d4ab162b1d44b2b84d0c4bb39e3d1c",
       "version_major": 2,
       "version_minor": 0
      },
      "text/plain": [
       "Datasets:   0%|          | 0/3 [00:00<?, ?it/s]"
      ]
     },
     "metadata": {},
     "output_type": "display_data"
    },
    {
     "name": "stderr",
     "output_type": "stream",
     "text": [
      "2025-06-03 21:12:54,204 [INFO] root: Processing dataset: AG News Full\n"
     ]
    },
    {
     "data": {
      "application/vnd.jupyter.widget-view+json": {
       "model_id": "a326af07d47c4a9e9069b09233a4f586",
       "version_major": 2,
       "version_minor": 0
      },
      "text/plain": [
       "Models:   0%|          | 0/8 [00:00<?, ?it/s]"
      ]
     },
     "metadata": {},
     "output_type": "display_data"
    },
    {
     "data": {
      "application/vnd.jupyter.widget-view+json": {
       "model_id": "5ba573659cdc4a50b1baacf5ddefae29",
       "version_major": 2,
       "version_minor": 0
      },
      "text/plain": [
       "Noise Strategies:   0%|          | 0/1 [00:00<?, ?it/s]"
      ]
     },
     "metadata": {},
     "output_type": "display_data"
    },
    {
     "name": "stderr",
     "output_type": "stream",
     "text": [
      "/opt/anaconda3/lib/python3.11/site-packages/sklearn/metrics/_classification.py:1344: UndefinedMetricWarning: Precision is ill-defined and being set to 0.0 in labels with no predicted samples. Use `zero_division` parameter to control this behavior.\n",
      "  _warn_prf(average, modifier, msg_start, len(result))\n",
      "/opt/anaconda3/lib/python3.11/site-packages/sklearn/metrics/_classification.py:1344: UndefinedMetricWarning: Recall is ill-defined and being set to 0.0 in labels with no true samples. Use `zero_division` parameter to control this behavior.\n",
      "  _warn_prf(average, modifier, msg_start, len(result))\n"
     ]
    },
    {
     "data": {
      "application/vnd.jupyter.widget-view+json": {
       "model_id": "733b608e717640a2bc2bfbe97b9a81b9",
       "version_major": 2,
       "version_minor": 0
      },
      "text/plain": [
       "Noise Strategies:   0%|          | 0/1 [00:00<?, ?it/s]"
      ]
     },
     "metadata": {},
     "output_type": "display_data"
    },
    {
     "name": "stderr",
     "output_type": "stream",
     "text": [
      "/opt/anaconda3/lib/python3.11/site-packages/sklearn/metrics/_classification.py:1344: UndefinedMetricWarning: Recall is ill-defined and being set to 0.0 in labels with no true samples. Use `zero_division` parameter to control this behavior.\n",
      "  _warn_prf(average, modifier, msg_start, len(result))\n"
     ]
    },
    {
     "data": {
      "application/vnd.jupyter.widget-view+json": {
       "model_id": "0d3c80ae403348b986a0d2be10fb89b5",
       "version_major": 2,
       "version_minor": 0
      },
      "text/plain": [
       "Noise Strategies:   0%|          | 0/1 [00:00<?, ?it/s]"
      ]
     },
     "metadata": {},
     "output_type": "display_data"
    },
    {
     "name": "stderr",
     "output_type": "stream",
     "text": [
      "/opt/anaconda3/lib/python3.11/site-packages/sklearn/metrics/_classification.py:1344: UndefinedMetricWarning: Recall is ill-defined and being set to 0.0 in labels with no true samples. Use `zero_division` parameter to control this behavior.\n",
      "  _warn_prf(average, modifier, msg_start, len(result))\n"
     ]
    },
    {
     "data": {
      "application/vnd.jupyter.widget-view+json": {
       "model_id": "00f19cf7d1b344769207b0f678a0c58e",
       "version_major": 2,
       "version_minor": 0
      },
      "text/plain": [
       "Noise Strategies:   0%|          | 0/1 [00:00<?, ?it/s]"
      ]
     },
     "metadata": {},
     "output_type": "display_data"
    },
    {
     "name": "stderr",
     "output_type": "stream",
     "text": [
      "/opt/anaconda3/lib/python3.11/site-packages/sklearn/metrics/_classification.py:1344: UndefinedMetricWarning: Recall is ill-defined and being set to 0.0 in labels with no true samples. Use `zero_division` parameter to control this behavior.\n",
      "  _warn_prf(average, modifier, msg_start, len(result))\n"
     ]
    },
    {
     "data": {
      "application/vnd.jupyter.widget-view+json": {
       "model_id": "92ae934ba375402a97991a43899a587e",
       "version_major": 2,
       "version_minor": 0
      },
      "text/plain": [
       "Noise Strategies:   0%|          | 0/1 [00:00<?, ?it/s]"
      ]
     },
     "metadata": {},
     "output_type": "display_data"
    },
    {
     "name": "stderr",
     "output_type": "stream",
     "text": [
      "/opt/anaconda3/lib/python3.11/site-packages/sklearn/metrics/_classification.py:1344: UndefinedMetricWarning: Precision is ill-defined and being set to 0.0 in labels with no predicted samples. Use `zero_division` parameter to control this behavior.\n",
      "  _warn_prf(average, modifier, msg_start, len(result))\n",
      "/opt/anaconda3/lib/python3.11/site-packages/sklearn/metrics/_classification.py:1344: UndefinedMetricWarning: Recall is ill-defined and being set to 0.0 in labels with no true samples. Use `zero_division` parameter to control this behavior.\n",
      "  _warn_prf(average, modifier, msg_start, len(result))\n"
     ]
    },
    {
     "data": {
      "application/vnd.jupyter.widget-view+json": {
       "model_id": "4de8e9ea1b4040a39ac0e1867146c637",
       "version_major": 2,
       "version_minor": 0
      },
      "text/plain": [
       "Noise Strategies:   0%|          | 0/1 [00:00<?, ?it/s]"
      ]
     },
     "metadata": {},
     "output_type": "display_data"
    },
    {
     "name": "stderr",
     "output_type": "stream",
     "text": [
      "/opt/anaconda3/lib/python3.11/site-packages/xgboost/core.py:158: UserWarning: [21:13:00] WARNING: /Users/runner/work/xgboost/xgboost/src/learner.cc:740: \n",
      "Parameters: { \"use_label_encoder\" } are not used.\n",
      "\n",
      "  warnings.warn(smsg, UserWarning)\n",
      "/opt/anaconda3/lib/python3.11/site-packages/sklearn/metrics/_classification.py:1344: UndefinedMetricWarning: Precision is ill-defined and being set to 0.0 in labels with no predicted samples. Use `zero_division` parameter to control this behavior.\n",
      "  _warn_prf(average, modifier, msg_start, len(result))\n"
     ]
    },
    {
     "data": {
      "application/vnd.jupyter.widget-view+json": {
       "model_id": "5c5abfcb8a6140389019b52012a1f299",
       "version_major": 2,
       "version_minor": 0
      },
      "text/plain": [
       "Noise Strategies:   0%|          | 0/1 [00:00<?, ?it/s]"
      ]
     },
     "metadata": {},
     "output_type": "display_data"
    },
    {
     "name": "stderr",
     "output_type": "stream",
     "text": [
      "/opt/anaconda3/lib/python3.11/site-packages/sklearn/metrics/_classification.py:1344: UndefinedMetricWarning: Precision is ill-defined and being set to 0.0 in labels with no predicted samples. Use `zero_division` parameter to control this behavior.\n",
      "  _warn_prf(average, modifier, msg_start, len(result))\n",
      "/opt/anaconda3/lib/python3.11/site-packages/sklearn/metrics/_classification.py:1344: UndefinedMetricWarning: Recall is ill-defined and being set to 0.0 in labels with no true samples. Use `zero_division` parameter to control this behavior.\n",
      "  _warn_prf(average, modifier, msg_start, len(result))\n"
     ]
    },
    {
     "data": {
      "application/vnd.jupyter.widget-view+json": {
       "model_id": "4e4a26a3772b4043970e7580825c1c57",
       "version_major": 2,
       "version_minor": 0
      },
      "text/plain": [
       "Noise Strategies:   0%|          | 0/1 [00:00<?, ?it/s]"
      ]
     },
     "metadata": {},
     "output_type": "display_data"
    },
    {
     "name": "stderr",
     "output_type": "stream",
     "text": [
      "/opt/anaconda3/lib/python3.11/site-packages/sklearn/metrics/_classification.py:1344: UndefinedMetricWarning: Precision is ill-defined and being set to 0.0 in labels with no predicted samples. Use `zero_division` parameter to control this behavior.\n",
      "  _warn_prf(average, modifier, msg_start, len(result))\n",
      "/opt/anaconda3/lib/python3.11/site-packages/sklearn/metrics/_classification.py:1344: UndefinedMetricWarning: Recall is ill-defined and being set to 0.0 in labels with no true samples. Use `zero_division` parameter to control this behavior.\n",
      "  _warn_prf(average, modifier, msg_start, len(result))\n",
      "2025-06-03 21:13:04,600 [INFO] root: Processing dataset: AG News LLM labels\n"
     ]
    },
    {
     "data": {
      "application/vnd.jupyter.widget-view+json": {
       "model_id": "b7c6ddc78a7a4c06b1b70e68f28cb0c0",
       "version_major": 2,
       "version_minor": 0
      },
      "text/plain": [
       "Models:   0%|          | 0/8 [00:00<?, ?it/s]"
      ]
     },
     "metadata": {},
     "output_type": "display_data"
    },
    {
     "data": {
      "application/vnd.jupyter.widget-view+json": {
       "model_id": "db77491a6c8042caa7688bd720f77f32",
       "version_major": 2,
       "version_minor": 0
      },
      "text/plain": [
       "Noise Strategies:   0%|          | 0/1 [00:00<?, ?it/s]"
      ]
     },
     "metadata": {},
     "output_type": "display_data"
    },
    {
     "name": "stderr",
     "output_type": "stream",
     "text": [
      "/opt/anaconda3/lib/python3.11/site-packages/sklearn/metrics/_classification.py:1344: UndefinedMetricWarning: Precision is ill-defined and being set to 0.0 in labels with no predicted samples. Use `zero_division` parameter to control this behavior.\n",
      "  _warn_prf(average, modifier, msg_start, len(result))\n",
      "/opt/anaconda3/lib/python3.11/site-packages/sklearn/metrics/_classification.py:1344: UndefinedMetricWarning: Recall is ill-defined and being set to 0.0 in labels with no true samples. Use `zero_division` parameter to control this behavior.\n",
      "  _warn_prf(average, modifier, msg_start, len(result))\n"
     ]
    },
    {
     "data": {
      "application/vnd.jupyter.widget-view+json": {
       "model_id": "bce49559ebbb4a5eb3bebf193e0e4e45",
       "version_major": 2,
       "version_minor": 0
      },
      "text/plain": [
       "Noise Strategies:   0%|          | 0/1 [00:00<?, ?it/s]"
      ]
     },
     "metadata": {},
     "output_type": "display_data"
    },
    {
     "name": "stderr",
     "output_type": "stream",
     "text": [
      "/opt/anaconda3/lib/python3.11/site-packages/sklearn/metrics/_classification.py:1344: UndefinedMetricWarning: Precision is ill-defined and being set to 0.0 in labels with no predicted samples. Use `zero_division` parameter to control this behavior.\n",
      "  _warn_prf(average, modifier, msg_start, len(result))\n",
      "/opt/anaconda3/lib/python3.11/site-packages/sklearn/metrics/_classification.py:1344: UndefinedMetricWarning: Recall is ill-defined and being set to 0.0 in labels with no true samples. Use `zero_division` parameter to control this behavior.\n",
      "  _warn_prf(average, modifier, msg_start, len(result))\n"
     ]
    },
    {
     "data": {
      "application/vnd.jupyter.widget-view+json": {
       "model_id": "a49912d4139c4bd48dfb9c1142a522e4",
       "version_major": 2,
       "version_minor": 0
      },
      "text/plain": [
       "Noise Strategies:   0%|          | 0/1 [00:00<?, ?it/s]"
      ]
     },
     "metadata": {},
     "output_type": "display_data"
    },
    {
     "name": "stderr",
     "output_type": "stream",
     "text": [
      "/opt/anaconda3/lib/python3.11/site-packages/sklearn/metrics/_classification.py:1344: UndefinedMetricWarning: Precision is ill-defined and being set to 0.0 in labels with no predicted samples. Use `zero_division` parameter to control this behavior.\n",
      "  _warn_prf(average, modifier, msg_start, len(result))\n",
      "/opt/anaconda3/lib/python3.11/site-packages/sklearn/metrics/_classification.py:1344: UndefinedMetricWarning: Recall is ill-defined and being set to 0.0 in labels with no true samples. Use `zero_division` parameter to control this behavior.\n",
      "  _warn_prf(average, modifier, msg_start, len(result))\n"
     ]
    },
    {
     "data": {
      "application/vnd.jupyter.widget-view+json": {
       "model_id": "b7a19e0ebde643b29e9013dc01785d7e",
       "version_major": 2,
       "version_minor": 0
      },
      "text/plain": [
       "Noise Strategies:   0%|          | 0/1 [00:00<?, ?it/s]"
      ]
     },
     "metadata": {},
     "output_type": "display_data"
    },
    {
     "name": "stderr",
     "output_type": "stream",
     "text": [
      "/opt/anaconda3/lib/python3.11/site-packages/sklearn/metrics/_classification.py:1344: UndefinedMetricWarning: Precision is ill-defined and being set to 0.0 in labels with no predicted samples. Use `zero_division` parameter to control this behavior.\n",
      "  _warn_prf(average, modifier, msg_start, len(result))\n",
      "/opt/anaconda3/lib/python3.11/site-packages/sklearn/metrics/_classification.py:1344: UndefinedMetricWarning: Recall is ill-defined and being set to 0.0 in labels with no true samples. Use `zero_division` parameter to control this behavior.\n",
      "  _warn_prf(average, modifier, msg_start, len(result))\n"
     ]
    },
    {
     "data": {
      "application/vnd.jupyter.widget-view+json": {
       "model_id": "5271834f369e4028b3fabd86de7aae3e",
       "version_major": 2,
       "version_minor": 0
      },
      "text/plain": [
       "Noise Strategies:   0%|          | 0/1 [00:00<?, ?it/s]"
      ]
     },
     "metadata": {},
     "output_type": "display_data"
    },
    {
     "name": "stderr",
     "output_type": "stream",
     "text": [
      "/opt/anaconda3/lib/python3.11/site-packages/sklearn/metrics/_classification.py:1344: UndefinedMetricWarning: Precision is ill-defined and being set to 0.0 in labels with no predicted samples. Use `zero_division` parameter to control this behavior.\n",
      "  _warn_prf(average, modifier, msg_start, len(result))\n",
      "/opt/anaconda3/lib/python3.11/site-packages/sklearn/metrics/_classification.py:1344: UndefinedMetricWarning: Recall is ill-defined and being set to 0.0 in labels with no true samples. Use `zero_division` parameter to control this behavior.\n",
      "  _warn_prf(average, modifier, msg_start, len(result))\n"
     ]
    },
    {
     "data": {
      "application/vnd.jupyter.widget-view+json": {
       "model_id": "82a2baf9a4be4ba8afa8902ea3be639e",
       "version_major": 2,
       "version_minor": 0
      },
      "text/plain": [
       "Noise Strategies:   0%|          | 0/1 [00:00<?, ?it/s]"
      ]
     },
     "metadata": {},
     "output_type": "display_data"
    },
    {
     "name": "stderr",
     "output_type": "stream",
     "text": [
      "/opt/anaconda3/lib/python3.11/site-packages/xgboost/core.py:158: UserWarning: [21:13:08] WARNING: /Users/runner/work/xgboost/xgboost/src/learner.cc:740: \n",
      "Parameters: { \"use_label_encoder\" } are not used.\n",
      "\n",
      "  warnings.warn(smsg, UserWarning)\n",
      "/opt/anaconda3/lib/python3.11/site-packages/sklearn/metrics/_classification.py:1344: UndefinedMetricWarning: Precision is ill-defined and being set to 0.0 in labels with no predicted samples. Use `zero_division` parameter to control this behavior.\n",
      "  _warn_prf(average, modifier, msg_start, len(result))\n",
      "/opt/anaconda3/lib/python3.11/site-packages/sklearn/metrics/_classification.py:1344: UndefinedMetricWarning: Recall is ill-defined and being set to 0.0 in labels with no true samples. Use `zero_division` parameter to control this behavior.\n",
      "  _warn_prf(average, modifier, msg_start, len(result))\n"
     ]
    },
    {
     "data": {
      "application/vnd.jupyter.widget-view+json": {
       "model_id": "41cefcf19ecb47e7936b13a1ae49ccdd",
       "version_major": 2,
       "version_minor": 0
      },
      "text/plain": [
       "Noise Strategies:   0%|          | 0/1 [00:00<?, ?it/s]"
      ]
     },
     "metadata": {},
     "output_type": "display_data"
    },
    {
     "name": "stderr",
     "output_type": "stream",
     "text": [
      "/opt/anaconda3/lib/python3.11/site-packages/sklearn/metrics/_classification.py:1344: UndefinedMetricWarning: Precision is ill-defined and being set to 0.0 in labels with no predicted samples. Use `zero_division` parameter to control this behavior.\n",
      "  _warn_prf(average, modifier, msg_start, len(result))\n"
     ]
    },
    {
     "data": {
      "application/vnd.jupyter.widget-view+json": {
       "model_id": "89a80160d5b04ecc911eb2448cf51da1",
       "version_major": 2,
       "version_minor": 0
      },
      "text/plain": [
       "Noise Strategies:   0%|          | 0/1 [00:00<?, ?it/s]"
      ]
     },
     "metadata": {},
     "output_type": "display_data"
    },
    {
     "name": "stderr",
     "output_type": "stream",
     "text": [
      "/opt/anaconda3/lib/python3.11/site-packages/sklearn/metrics/_classification.py:1344: UndefinedMetricWarning: Precision is ill-defined and being set to 0.0 in labels with no predicted samples. Use `zero_division` parameter to control this behavior.\n",
      "  _warn_prf(average, modifier, msg_start, len(result))\n",
      "/opt/anaconda3/lib/python3.11/site-packages/sklearn/metrics/_classification.py:1344: UndefinedMetricWarning: Recall is ill-defined and being set to 0.0 in labels with no true samples. Use `zero_division` parameter to control this behavior.\n",
      "  _warn_prf(average, modifier, msg_start, len(result))\n",
      "2025-06-03 21:13:13,482 [INFO] root: Processing dataset: BBC News Full\n"
     ]
    },
    {
     "data": {
      "application/vnd.jupyter.widget-view+json": {
       "model_id": "638073c708eb406eb4323b9671054f98",
       "version_major": 2,
       "version_minor": 0
      },
      "text/plain": [
       "Models:   0%|          | 0/8 [00:00<?, ?it/s]"
      ]
     },
     "metadata": {},
     "output_type": "display_data"
    },
    {
     "data": {
      "application/vnd.jupyter.widget-view+json": {
       "model_id": "280a8b68a211448dadb55f15ce9bd3c1",
       "version_major": 2,
       "version_minor": 0
      },
      "text/plain": [
       "Noise Strategies:   0%|          | 0/1 [00:00<?, ?it/s]"
      ]
     },
     "metadata": {},
     "output_type": "display_data"
    },
    {
     "data": {
      "application/vnd.jupyter.widget-view+json": {
       "model_id": "4df6ba4649354aa697d8e3a2e880e618",
       "version_major": 2,
       "version_minor": 0
      },
      "text/plain": [
       "Noise Strategies:   0%|          | 0/1 [00:00<?, ?it/s]"
      ]
     },
     "metadata": {},
     "output_type": "display_data"
    },
    {
     "name": "stderr",
     "output_type": "stream",
     "text": [
      "/opt/anaconda3/lib/python3.11/site-packages/sklearn/metrics/_classification.py:1344: UndefinedMetricWarning: Precision is ill-defined and being set to 0.0 in labels with no predicted samples. Use `zero_division` parameter to control this behavior.\n",
      "  _warn_prf(average, modifier, msg_start, len(result))\n",
      "/opt/anaconda3/lib/python3.11/site-packages/sklearn/metrics/_classification.py:1344: UndefinedMetricWarning: Recall is ill-defined and being set to 0.0 in labels with no true samples. Use `zero_division` parameter to control this behavior.\n",
      "  _warn_prf(average, modifier, msg_start, len(result))\n"
     ]
    },
    {
     "data": {
      "application/vnd.jupyter.widget-view+json": {
       "model_id": "f3baa46afaee4668a45c84fad48444e5",
       "version_major": 2,
       "version_minor": 0
      },
      "text/plain": [
       "Noise Strategies:   0%|          | 0/1 [00:00<?, ?it/s]"
      ]
     },
     "metadata": {},
     "output_type": "display_data"
    },
    {
     "name": "stderr",
     "output_type": "stream",
     "text": [
      "/opt/anaconda3/lib/python3.11/site-packages/sklearn/metrics/_classification.py:1344: UndefinedMetricWarning: Precision is ill-defined and being set to 0.0 in labels with no predicted samples. Use `zero_division` parameter to control this behavior.\n",
      "  _warn_prf(average, modifier, msg_start, len(result))\n",
      "/opt/anaconda3/lib/python3.11/site-packages/sklearn/metrics/_classification.py:1344: UndefinedMetricWarning: Recall is ill-defined and being set to 0.0 in labels with no true samples. Use `zero_division` parameter to control this behavior.\n",
      "  _warn_prf(average, modifier, msg_start, len(result))\n"
     ]
    },
    {
     "data": {
      "application/vnd.jupyter.widget-view+json": {
       "model_id": "b1568f772e1b41ed9efec036d3bb41c3",
       "version_major": 2,
       "version_minor": 0
      },
      "text/plain": [
       "Noise Strategies:   0%|          | 0/1 [00:00<?, ?it/s]"
      ]
     },
     "metadata": {},
     "output_type": "display_data"
    },
    {
     "name": "stderr",
     "output_type": "stream",
     "text": [
      "/opt/anaconda3/lib/python3.11/site-packages/sklearn/metrics/_classification.py:1344: UndefinedMetricWarning: Precision is ill-defined and being set to 0.0 in labels with no predicted samples. Use `zero_division` parameter to control this behavior.\n",
      "  _warn_prf(average, modifier, msg_start, len(result))\n"
     ]
    },
    {
     "data": {
      "application/vnd.jupyter.widget-view+json": {
       "model_id": "9e9f60cc7d0c4a908ca0788368b39c05",
       "version_major": 2,
       "version_minor": 0
      },
      "text/plain": [
       "Noise Strategies:   0%|          | 0/1 [00:00<?, ?it/s]"
      ]
     },
     "metadata": {},
     "output_type": "display_data"
    },
    {
     "name": "stderr",
     "output_type": "stream",
     "text": [
      "/opt/anaconda3/lib/python3.11/site-packages/sklearn/metrics/_classification.py:1344: UndefinedMetricWarning: Precision is ill-defined and being set to 0.0 in labels with no predicted samples. Use `zero_division` parameter to control this behavior.\n",
      "  _warn_prf(average, modifier, msg_start, len(result))\n"
     ]
    },
    {
     "data": {
      "application/vnd.jupyter.widget-view+json": {
       "model_id": "2baad521679e4c2b885fd01652197708",
       "version_major": 2,
       "version_minor": 0
      },
      "text/plain": [
       "Noise Strategies:   0%|          | 0/1 [00:00<?, ?it/s]"
      ]
     },
     "metadata": {},
     "output_type": "display_data"
    },
    {
     "name": "stderr",
     "output_type": "stream",
     "text": [
      "/opt/anaconda3/lib/python3.11/site-packages/xgboost/core.py:158: UserWarning: [21:13:24] WARNING: /Users/runner/work/xgboost/xgboost/src/learner.cc:740: \n",
      "Parameters: { \"use_label_encoder\" } are not used.\n",
      "\n",
      "  warnings.warn(smsg, UserWarning)\n",
      "/opt/anaconda3/lib/python3.11/site-packages/sklearn/metrics/_classification.py:1344: UndefinedMetricWarning: Precision is ill-defined and being set to 0.0 in labels with no predicted samples. Use `zero_division` parameter to control this behavior.\n",
      "  _warn_prf(average, modifier, msg_start, len(result))\n",
      "/opt/anaconda3/lib/python3.11/site-packages/sklearn/metrics/_classification.py:1344: UndefinedMetricWarning: Recall is ill-defined and being set to 0.0 in labels with no true samples. Use `zero_division` parameter to control this behavior.\n",
      "  _warn_prf(average, modifier, msg_start, len(result))\n"
     ]
    },
    {
     "data": {
      "application/vnd.jupyter.widget-view+json": {
       "model_id": "b04996703db64c32b48d1453c9382160",
       "version_major": 2,
       "version_minor": 0
      },
      "text/plain": [
       "Noise Strategies:   0%|          | 0/1 [00:00<?, ?it/s]"
      ]
     },
     "metadata": {},
     "output_type": "display_data"
    },
    {
     "name": "stderr",
     "output_type": "stream",
     "text": [
      "/opt/anaconda3/lib/python3.11/site-packages/sklearn/metrics/_classification.py:1344: UndefinedMetricWarning: Precision is ill-defined and being set to 0.0 in labels with no predicted samples. Use `zero_division` parameter to control this behavior.\n",
      "  _warn_prf(average, modifier, msg_start, len(result))\n"
     ]
    },
    {
     "data": {
      "application/vnd.jupyter.widget-view+json": {
       "model_id": "4fa38a6a279e49c9a448feaadc880d3c",
       "version_major": 2,
       "version_minor": 0
      },
      "text/plain": [
       "Noise Strategies:   0%|          | 0/1 [00:00<?, ?it/s]"
      ]
     },
     "metadata": {},
     "output_type": "display_data"
    },
    {
     "name": "stderr",
     "output_type": "stream",
     "text": [
      "/opt/anaconda3/lib/python3.11/site-packages/sklearn/metrics/_classification.py:1344: UndefinedMetricWarning: Precision is ill-defined and being set to 0.0 in labels with no predicted samples. Use `zero_division` parameter to control this behavior.\n",
      "  _warn_prf(average, modifier, msg_start, len(result))\n"
     ]
    },
    {
     "data": {
      "text/html": [
       "<div>\n",
       "<style scoped>\n",
       "    .dataframe tbody tr th:only-of-type {\n",
       "        vertical-align: middle;\n",
       "    }\n",
       "\n",
       "    .dataframe tbody tr th {\n",
       "        vertical-align: top;\n",
       "    }\n",
       "\n",
       "    .dataframe thead th {\n",
       "        text-align: right;\n",
       "    }\n",
       "</style>\n",
       "<table border=\"1\" class=\"dataframe\">\n",
       "  <thead>\n",
       "    <tr style=\"text-align: right;\">\n",
       "      <th></th>\n",
       "      <th>Dataset</th>\n",
       "      <th>Noise</th>\n",
       "      <th>Model</th>\n",
       "      <th>Accuracy</th>\n",
       "      <th>F1 Score</th>\n",
       "      <th>Precision</th>\n",
       "      <th>Recall</th>\n",
       "    </tr>\n",
       "  </thead>\n",
       "  <tbody>\n",
       "    <tr>\n",
       "      <th>2</th>\n",
       "      <td>AG News Full</td>\n",
       "      <td>NoNoise</td>\n",
       "      <td>LightGBM</td>\n",
       "      <td>0.2</td>\n",
       "      <td>0.33</td>\n",
       "      <td>1.00</td>\n",
       "      <td>0.2</td>\n",
       "    </tr>\n",
       "    <tr>\n",
       "      <th>6</th>\n",
       "      <td>AG News Full</td>\n",
       "      <td>NoNoise</td>\n",
       "      <td>LightGBMRoberta</td>\n",
       "      <td>0.6</td>\n",
       "      <td>0.60</td>\n",
       "      <td>0.60</td>\n",
       "      <td>0.6</td>\n",
       "    </tr>\n",
       "    <tr>\n",
       "      <th>3</th>\n",
       "      <td>AG News Full</td>\n",
       "      <td>NoNoise</td>\n",
       "      <td>RandomForest</td>\n",
       "      <td>0.8</td>\n",
       "      <td>0.89</td>\n",
       "      <td>1.00</td>\n",
       "      <td>0.8</td>\n",
       "    </tr>\n",
       "    <tr>\n",
       "      <th>7</th>\n",
       "      <td>AG News Full</td>\n",
       "      <td>NoNoise</td>\n",
       "      <td>RandomForestRoberta</td>\n",
       "      <td>0.6</td>\n",
       "      <td>0.60</td>\n",
       "      <td>0.60</td>\n",
       "      <td>0.6</td>\n",
       "    </tr>\n",
       "    <tr>\n",
       "      <th>0</th>\n",
       "      <td>AG News Full</td>\n",
       "      <td>NoNoise</td>\n",
       "      <td>SVM</td>\n",
       "      <td>0.6</td>\n",
       "      <td>0.59</td>\n",
       "      <td>0.67</td>\n",
       "      <td>0.6</td>\n",
       "    </tr>\n",
       "    <tr>\n",
       "      <th>4</th>\n",
       "      <td>AG News Full</td>\n",
       "      <td>NoNoise</td>\n",
       "      <td>SVMRoberta</td>\n",
       "      <td>0.4</td>\n",
       "      <td>0.36</td>\n",
       "      <td>0.33</td>\n",
       "      <td>0.4</td>\n",
       "    </tr>\n",
       "    <tr>\n",
       "      <th>1</th>\n",
       "      <td>AG News Full</td>\n",
       "      <td>NoNoise</td>\n",
       "      <td>XGBoost</td>\n",
       "      <td>0.8</td>\n",
       "      <td>0.87</td>\n",
       "      <td>1.00</td>\n",
       "      <td>0.8</td>\n",
       "    </tr>\n",
       "    <tr>\n",
       "      <th>5</th>\n",
       "      <td>AG News Full</td>\n",
       "      <td>NoNoise</td>\n",
       "      <td>XGBoostRoberta</td>\n",
       "      <td>0.4</td>\n",
       "      <td>0.36</td>\n",
       "      <td>0.33</td>\n",
       "      <td>0.4</td>\n",
       "    </tr>\n",
       "    <tr>\n",
       "      <th>10</th>\n",
       "      <td>AG News LLM labels</td>\n",
       "      <td>NoNoise</td>\n",
       "      <td>LightGBM</td>\n",
       "      <td>0.0</td>\n",
       "      <td>0.00</td>\n",
       "      <td>0.00</td>\n",
       "      <td>0.0</td>\n",
       "    </tr>\n",
       "    <tr>\n",
       "      <th>14</th>\n",
       "      <td>AG News LLM labels</td>\n",
       "      <td>NoNoise</td>\n",
       "      <td>LightGBMRoberta</td>\n",
       "      <td>0.6</td>\n",
       "      <td>0.50</td>\n",
       "      <td>0.47</td>\n",
       "      <td>0.6</td>\n",
       "    </tr>\n",
       "    <tr>\n",
       "      <th>11</th>\n",
       "      <td>AG News LLM labels</td>\n",
       "      <td>NoNoise</td>\n",
       "      <td>RandomForest</td>\n",
       "      <td>0.0</td>\n",
       "      <td>0.00</td>\n",
       "      <td>0.00</td>\n",
       "      <td>0.0</td>\n",
       "    </tr>\n",
       "    <tr>\n",
       "      <th>15</th>\n",
       "      <td>AG News LLM labels</td>\n",
       "      <td>NoNoise</td>\n",
       "      <td>RandomForestRoberta</td>\n",
       "      <td>0.2</td>\n",
       "      <td>0.20</td>\n",
       "      <td>0.20</td>\n",
       "      <td>0.2</td>\n",
       "    </tr>\n",
       "    <tr>\n",
       "      <th>8</th>\n",
       "      <td>AG News LLM labels</td>\n",
       "      <td>NoNoise</td>\n",
       "      <td>SVM</td>\n",
       "      <td>0.0</td>\n",
       "      <td>0.00</td>\n",
       "      <td>0.00</td>\n",
       "      <td>0.0</td>\n",
       "    </tr>\n",
       "    <tr>\n",
       "      <th>12</th>\n",
       "      <td>AG News LLM labels</td>\n",
       "      <td>NoNoise</td>\n",
       "      <td>SVMRoberta</td>\n",
       "      <td>0.4</td>\n",
       "      <td>0.36</td>\n",
       "      <td>0.33</td>\n",
       "      <td>0.4</td>\n",
       "    </tr>\n",
       "    <tr>\n",
       "      <th>9</th>\n",
       "      <td>AG News LLM labels</td>\n",
       "      <td>NoNoise</td>\n",
       "      <td>XGBoost</td>\n",
       "      <td>0.2</td>\n",
       "      <td>0.27</td>\n",
       "      <td>0.40</td>\n",
       "      <td>0.2</td>\n",
       "    </tr>\n",
       "    <tr>\n",
       "      <th>13</th>\n",
       "      <td>AG News LLM labels</td>\n",
       "      <td>NoNoise</td>\n",
       "      <td>XGBoostRoberta</td>\n",
       "      <td>0.4</td>\n",
       "      <td>0.30</td>\n",
       "      <td>0.27</td>\n",
       "      <td>0.4</td>\n",
       "    </tr>\n",
       "    <tr>\n",
       "      <th>18</th>\n",
       "      <td>BBC News Full</td>\n",
       "      <td>NoNoise</td>\n",
       "      <td>LightGBM</td>\n",
       "      <td>0.0</td>\n",
       "      <td>0.00</td>\n",
       "      <td>0.00</td>\n",
       "      <td>0.0</td>\n",
       "    </tr>\n",
       "    <tr>\n",
       "      <th>22</th>\n",
       "      <td>BBC News Full</td>\n",
       "      <td>NoNoise</td>\n",
       "      <td>LightGBMRoberta</td>\n",
       "      <td>0.8</td>\n",
       "      <td>0.73</td>\n",
       "      <td>0.70</td>\n",
       "      <td>0.8</td>\n",
       "    </tr>\n",
       "    <tr>\n",
       "      <th>19</th>\n",
       "      <td>BBC News Full</td>\n",
       "      <td>NoNoise</td>\n",
       "      <td>RandomForest</td>\n",
       "      <td>0.6</td>\n",
       "      <td>0.53</td>\n",
       "      <td>0.50</td>\n",
       "      <td>0.6</td>\n",
       "    </tr>\n",
       "    <tr>\n",
       "      <th>23</th>\n",
       "      <td>BBC News Full</td>\n",
       "      <td>NoNoise</td>\n",
       "      <td>RandomForestRoberta</td>\n",
       "      <td>0.6</td>\n",
       "      <td>0.53</td>\n",
       "      <td>0.60</td>\n",
       "      <td>0.6</td>\n",
       "    </tr>\n",
       "    <tr>\n",
       "      <th>16</th>\n",
       "      <td>BBC News Full</td>\n",
       "      <td>NoNoise</td>\n",
       "      <td>SVM</td>\n",
       "      <td>0.8</td>\n",
       "      <td>0.81</td>\n",
       "      <td>0.90</td>\n",
       "      <td>0.8</td>\n",
       "    </tr>\n",
       "    <tr>\n",
       "      <th>20</th>\n",
       "      <td>BBC News Full</td>\n",
       "      <td>NoNoise</td>\n",
       "      <td>SVMRoberta</td>\n",
       "      <td>0.8</td>\n",
       "      <td>0.73</td>\n",
       "      <td>0.70</td>\n",
       "      <td>0.8</td>\n",
       "    </tr>\n",
       "    <tr>\n",
       "      <th>17</th>\n",
       "      <td>BBC News Full</td>\n",
       "      <td>NoNoise</td>\n",
       "      <td>XGBoost</td>\n",
       "      <td>0.2</td>\n",
       "      <td>0.20</td>\n",
       "      <td>0.20</td>\n",
       "      <td>0.2</td>\n",
       "    </tr>\n",
       "    <tr>\n",
       "      <th>21</th>\n",
       "      <td>BBC News Full</td>\n",
       "      <td>NoNoise</td>\n",
       "      <td>XGBoostRoberta</td>\n",
       "      <td>0.2</td>\n",
       "      <td>0.24</td>\n",
       "      <td>0.30</td>\n",
       "      <td>0.2</td>\n",
       "    </tr>\n",
       "  </tbody>\n",
       "</table>\n",
       "</div>"
      ],
      "text/plain": [
       "               Dataset    Noise                Model  Accuracy  F1 Score  \\\n",
       "2         AG News Full  NoNoise             LightGBM       0.2      0.33   \n",
       "6         AG News Full  NoNoise      LightGBMRoberta       0.6      0.60   \n",
       "3         AG News Full  NoNoise         RandomForest       0.8      0.89   \n",
       "7         AG News Full  NoNoise  RandomForestRoberta       0.6      0.60   \n",
       "0         AG News Full  NoNoise                  SVM       0.6      0.59   \n",
       "4         AG News Full  NoNoise           SVMRoberta       0.4      0.36   \n",
       "1         AG News Full  NoNoise              XGBoost       0.8      0.87   \n",
       "5         AG News Full  NoNoise       XGBoostRoberta       0.4      0.36   \n",
       "10  AG News LLM labels  NoNoise             LightGBM       0.0      0.00   \n",
       "14  AG News LLM labels  NoNoise      LightGBMRoberta       0.6      0.50   \n",
       "11  AG News LLM labels  NoNoise         RandomForest       0.0      0.00   \n",
       "15  AG News LLM labels  NoNoise  RandomForestRoberta       0.2      0.20   \n",
       "8   AG News LLM labels  NoNoise                  SVM       0.0      0.00   \n",
       "12  AG News LLM labels  NoNoise           SVMRoberta       0.4      0.36   \n",
       "9   AG News LLM labels  NoNoise              XGBoost       0.2      0.27   \n",
       "13  AG News LLM labels  NoNoise       XGBoostRoberta       0.4      0.30   \n",
       "18       BBC News Full  NoNoise             LightGBM       0.0      0.00   \n",
       "22       BBC News Full  NoNoise      LightGBMRoberta       0.8      0.73   \n",
       "19       BBC News Full  NoNoise         RandomForest       0.6      0.53   \n",
       "23       BBC News Full  NoNoise  RandomForestRoberta       0.6      0.53   \n",
       "16       BBC News Full  NoNoise                  SVM       0.8      0.81   \n",
       "20       BBC News Full  NoNoise           SVMRoberta       0.8      0.73   \n",
       "17       BBC News Full  NoNoise              XGBoost       0.2      0.20   \n",
       "21       BBC News Full  NoNoise       XGBoostRoberta       0.2      0.24   \n",
       "\n",
       "    Precision  Recall  \n",
       "2        1.00     0.2  \n",
       "6        0.60     0.6  \n",
       "3        1.00     0.8  \n",
       "7        0.60     0.6  \n",
       "0        0.67     0.6  \n",
       "4        0.33     0.4  \n",
       "1        1.00     0.8  \n",
       "5        0.33     0.4  \n",
       "10       0.00     0.0  \n",
       "14       0.47     0.6  \n",
       "11       0.00     0.0  \n",
       "15       0.20     0.2  \n",
       "8        0.00     0.0  \n",
       "12       0.33     0.4  \n",
       "9        0.40     0.2  \n",
       "13       0.27     0.4  \n",
       "18       0.00     0.0  \n",
       "22       0.70     0.8  \n",
       "19       0.50     0.6  \n",
       "23       0.60     0.6  \n",
       "16       0.90     0.8  \n",
       "20       0.70     0.8  \n",
       "17       0.20     0.2  \n",
       "21       0.30     0.2  "
      ]
     },
     "execution_count": 14,
     "metadata": {},
     "output_type": "execute_result"
    }
   ],
   "source": [
    "class_orchestrator_sup.evaluate_with_training(datasets_train, datasets_test, noise_strategies).round(2)"
   ]
  },
  {
   "cell_type": "code",
   "execution_count": 15,
   "metadata": {},
   "outputs": [],
   "source": [
    "class_orchestrator_sup.results.round(2).to_csv('../outputs/final/results_classification_supervised.csv', index=False)"
   ]
  },
  {
   "cell_type": "code",
   "execution_count": 16,
   "metadata": {},
   "outputs": [
    {
     "data": {
      "application/vnd.jupyter.widget-view+json": {
       "model_id": "54e23dff5d134a20ac2e7a61f8487bcf",
       "version_major": 2,
       "version_minor": 0
      },
      "text/plain": [
       "Datasets:   0%|          | 0/3 [00:00<?, ?it/s]"
      ]
     },
     "metadata": {},
     "output_type": "display_data"
    },
    {
     "name": "stderr",
     "output_type": "stream",
     "text": [
      "2025-06-03 21:14:15,513 [INFO] root: Processing dataset: AG News Full\n"
     ]
    },
    {
     "data": {
      "application/vnd.jupyter.widget-view+json": {
       "model_id": "599dc90c889c48cea17941d21d4c47a4",
       "version_major": 2,
       "version_minor": 0
      },
      "text/plain": [
       "Models:   0%|          | 0/2 [00:00<?, ?it/s]"
      ]
     },
     "metadata": {},
     "output_type": "display_data"
    },
    {
     "data": {
      "application/vnd.jupyter.widget-view+json": {
       "model_id": "76eef641ab8249a493fa2fd9dbbee0ac",
       "version_major": 2,
       "version_minor": 0
      },
      "text/plain": [
       "Noise Strategies:   0%|          | 0/1 [00:00<?, ?it/s]"
      ]
     },
     "metadata": {},
     "output_type": "display_data"
    },
    {
     "data": {
      "application/vnd.jupyter.widget-view+json": {
       "model_id": "b8977d433e91471fac00f535c8f3938f",
       "version_major": 2,
       "version_minor": 0
      },
      "text/plain": [
       "Classifying with LLM:   0%|          | 0/5 [00:00<?, ?it/s]"
      ]
     },
     "metadata": {},
     "output_type": "display_data"
    },
    {
     "name": "stderr",
     "output_type": "stream",
     "text": [
      "/opt/anaconda3/lib/python3.11/site-packages/sklearn/metrics/_classification.py:1344: UndefinedMetricWarning: Precision is ill-defined and being set to 0.0 in labels with no predicted samples. Use `zero_division` parameter to control this behavior.\n",
      "  _warn_prf(average, modifier, msg_start, len(result))\n"
     ]
    },
    {
     "data": {
      "application/vnd.jupyter.widget-view+json": {
       "model_id": "253348646ed84847bbd937b48d0590b7",
       "version_major": 2,
       "version_minor": 0
      },
      "text/plain": [
       "Noise Strategies:   0%|          | 0/1 [00:00<?, ?it/s]"
      ]
     },
     "metadata": {},
     "output_type": "display_data"
    },
    {
     "name": "stderr",
     "output_type": "stream",
     "text": [
      "/opt/anaconda3/lib/python3.11/site-packages/sklearn/metrics/_classification.py:1344: UndefinedMetricWarning: Precision is ill-defined and being set to 0.0 in labels with no predicted samples. Use `zero_division` parameter to control this behavior.\n",
      "  _warn_prf(average, modifier, msg_start, len(result))\n",
      "/opt/anaconda3/lib/python3.11/site-packages/sklearn/metrics/_classification.py:1344: UndefinedMetricWarning: Recall is ill-defined and being set to 0.0 in labels with no true samples. Use `zero_division` parameter to control this behavior.\n",
      "  _warn_prf(average, modifier, msg_start, len(result))\n",
      "2025-06-03 21:14:20,537 [INFO] root: Processing dataset: AG News LLM labels\n"
     ]
    },
    {
     "data": {
      "application/vnd.jupyter.widget-view+json": {
       "model_id": "da4ed8ce9ad346da8d71ee9445a19966",
       "version_major": 2,
       "version_minor": 0
      },
      "text/plain": [
       "Models:   0%|          | 0/2 [00:00<?, ?it/s]"
      ]
     },
     "metadata": {},
     "output_type": "display_data"
    },
    {
     "data": {
      "application/vnd.jupyter.widget-view+json": {
       "model_id": "e88ea8d7acce4f8bbf6fa37330bdad8a",
       "version_major": 2,
       "version_minor": 0
      },
      "text/plain": [
       "Noise Strategies:   0%|          | 0/1 [00:00<?, ?it/s]"
      ]
     },
     "metadata": {},
     "output_type": "display_data"
    },
    {
     "data": {
      "application/vnd.jupyter.widget-view+json": {
       "model_id": "9314b76d363b4c81a09ea7c96fbe8682",
       "version_major": 2,
       "version_minor": 0
      },
      "text/plain": [
       "Classifying with LLM:   0%|          | 0/5 [00:00<?, ?it/s]"
      ]
     },
     "metadata": {},
     "output_type": "display_data"
    },
    {
     "name": "stderr",
     "output_type": "stream",
     "text": [
      "/opt/anaconda3/lib/python3.11/site-packages/sklearn/metrics/_classification.py:1344: UndefinedMetricWarning: Precision is ill-defined and being set to 0.0 in labels with no predicted samples. Use `zero_division` parameter to control this behavior.\n",
      "  _warn_prf(average, modifier, msg_start, len(result))\n"
     ]
    },
    {
     "data": {
      "application/vnd.jupyter.widget-view+json": {
       "model_id": "ba20a114a31444a9b4b3cd1b43e7ba90",
       "version_major": 2,
       "version_minor": 0
      },
      "text/plain": [
       "Noise Strategies:   0%|          | 0/1 [00:00<?, ?it/s]"
      ]
     },
     "metadata": {},
     "output_type": "display_data"
    },
    {
     "name": "stderr",
     "output_type": "stream",
     "text": [
      "/opt/anaconda3/lib/python3.11/site-packages/sklearn/metrics/_classification.py:1344: UndefinedMetricWarning: Precision is ill-defined and being set to 0.0 in labels with no predicted samples. Use `zero_division` parameter to control this behavior.\n",
      "  _warn_prf(average, modifier, msg_start, len(result))\n",
      "/opt/anaconda3/lib/python3.11/site-packages/sklearn/metrics/_classification.py:1344: UndefinedMetricWarning: Recall is ill-defined and being set to 0.0 in labels with no true samples. Use `zero_division` parameter to control this behavior.\n",
      "  _warn_prf(average, modifier, msg_start, len(result))\n",
      "2025-06-03 21:14:22,313 [INFO] root: Processing dataset: BBC News Full\n"
     ]
    },
    {
     "data": {
      "application/vnd.jupyter.widget-view+json": {
       "model_id": "ea11182105174e7395a7e4fff46b9a5e",
       "version_major": 2,
       "version_minor": 0
      },
      "text/plain": [
       "Models:   0%|          | 0/2 [00:00<?, ?it/s]"
      ]
     },
     "metadata": {},
     "output_type": "display_data"
    },
    {
     "data": {
      "application/vnd.jupyter.widget-view+json": {
       "model_id": "152c592697364a11b696d0de2a593d11",
       "version_major": 2,
       "version_minor": 0
      },
      "text/plain": [
       "Noise Strategies:   0%|          | 0/1 [00:00<?, ?it/s]"
      ]
     },
     "metadata": {},
     "output_type": "display_data"
    },
    {
     "data": {
      "application/vnd.jupyter.widget-view+json": {
       "model_id": "a2c2a310b14d44a09600ee242e318213",
       "version_major": 2,
       "version_minor": 0
      },
      "text/plain": [
       "Classifying with LLM:   0%|          | 0/5 [00:00<?, ?it/s]"
      ]
     },
     "metadata": {},
     "output_type": "display_data"
    },
    {
     "data": {
      "application/vnd.jupyter.widget-view+json": {
       "model_id": "f2902577c7e64a148eb93e54412e684d",
       "version_major": 2,
       "version_minor": 0
      },
      "text/plain": [
       "Noise Strategies:   0%|          | 0/1 [00:00<?, ?it/s]"
      ]
     },
     "metadata": {},
     "output_type": "display_data"
    },
    {
     "name": "stderr",
     "output_type": "stream",
     "text": [
      "/opt/anaconda3/lib/python3.11/site-packages/sklearn/metrics/_classification.py:1344: UndefinedMetricWarning: Precision is ill-defined and being set to 0.0 in labels with no predicted samples. Use `zero_division` parameter to control this behavior.\n",
      "  _warn_prf(average, modifier, msg_start, len(result))\n"
     ]
    },
    {
     "data": {
      "text/html": [
       "<div>\n",
       "<style scoped>\n",
       "    .dataframe tbody tr th:only-of-type {\n",
       "        vertical-align: middle;\n",
       "    }\n",
       "\n",
       "    .dataframe tbody tr th {\n",
       "        vertical-align: top;\n",
       "    }\n",
       "\n",
       "    .dataframe thead th {\n",
       "        text-align: right;\n",
       "    }\n",
       "</style>\n",
       "<table border=\"1\" class=\"dataframe\">\n",
       "  <thead>\n",
       "    <tr style=\"text-align: right;\">\n",
       "      <th></th>\n",
       "      <th>Dataset</th>\n",
       "      <th>Noise</th>\n",
       "      <th>Model</th>\n",
       "      <th>Accuracy</th>\n",
       "      <th>F1 Score</th>\n",
       "      <th>Precision</th>\n",
       "      <th>Recall</th>\n",
       "    </tr>\n",
       "  </thead>\n",
       "  <tbody>\n",
       "    <tr>\n",
       "      <th>0</th>\n",
       "      <td>AG News Full</td>\n",
       "      <td>NoNoise</td>\n",
       "      <td>LLMClassifier</td>\n",
       "      <td>0.6</td>\n",
       "      <td>0.50</td>\n",
       "      <td>0.47</td>\n",
       "      <td>0.6</td>\n",
       "    </tr>\n",
       "    <tr>\n",
       "      <th>1</th>\n",
       "      <td>AG News Full</td>\n",
       "      <td>NoNoise</td>\n",
       "      <td>TARSZeroShot</td>\n",
       "      <td>0.4</td>\n",
       "      <td>0.30</td>\n",
       "      <td>0.27</td>\n",
       "      <td>0.4</td>\n",
       "    </tr>\n",
       "    <tr>\n",
       "      <th>2</th>\n",
       "      <td>AG News LLM labels</td>\n",
       "      <td>NoNoise</td>\n",
       "      <td>LLMClassifier</td>\n",
       "      <td>0.6</td>\n",
       "      <td>0.50</td>\n",
       "      <td>0.47</td>\n",
       "      <td>0.6</td>\n",
       "    </tr>\n",
       "    <tr>\n",
       "      <th>3</th>\n",
       "      <td>AG News LLM labels</td>\n",
       "      <td>NoNoise</td>\n",
       "      <td>TARSZeroShot</td>\n",
       "      <td>0.4</td>\n",
       "      <td>0.30</td>\n",
       "      <td>0.27</td>\n",
       "      <td>0.4</td>\n",
       "    </tr>\n",
       "    <tr>\n",
       "      <th>4</th>\n",
       "      <td>BBC News Full</td>\n",
       "      <td>NoNoise</td>\n",
       "      <td>LLMClassifier</td>\n",
       "      <td>1.0</td>\n",
       "      <td>1.00</td>\n",
       "      <td>1.00</td>\n",
       "      <td>1.0</td>\n",
       "    </tr>\n",
       "    <tr>\n",
       "      <th>5</th>\n",
       "      <td>BBC News Full</td>\n",
       "      <td>NoNoise</td>\n",
       "      <td>TARSZeroShot</td>\n",
       "      <td>0.8</td>\n",
       "      <td>0.73</td>\n",
       "      <td>0.70</td>\n",
       "      <td>0.8</td>\n",
       "    </tr>\n",
       "  </tbody>\n",
       "</table>\n",
       "</div>"
      ],
      "text/plain": [
       "              Dataset    Noise          Model  Accuracy  F1 Score  Precision  \\\n",
       "0        AG News Full  NoNoise  LLMClassifier       0.6      0.50       0.47   \n",
       "1        AG News Full  NoNoise   TARSZeroShot       0.4      0.30       0.27   \n",
       "2  AG News LLM labels  NoNoise  LLMClassifier       0.6      0.50       0.47   \n",
       "3  AG News LLM labels  NoNoise   TARSZeroShot       0.4      0.30       0.27   \n",
       "4       BBC News Full  NoNoise  LLMClassifier       1.0      1.00       1.00   \n",
       "5       BBC News Full  NoNoise   TARSZeroShot       0.8      0.73       0.70   \n",
       "\n",
       "   Recall  \n",
       "0     0.6  \n",
       "1     0.4  \n",
       "2     0.6  \n",
       "3     0.4  \n",
       "4     1.0  \n",
       "5     0.8  "
      ]
     },
     "execution_count": 16,
     "metadata": {},
     "output_type": "execute_result"
    }
   ],
   "source": [
    "class_orchestrator_zero_shot.evaluate_with_training(datasets_train, datasets_test, noise_strategies).round(2)"
   ]
  },
  {
   "cell_type": "code",
   "execution_count": 17,
   "metadata": {},
   "outputs": [],
   "source": [
    "class_orchestrator_zero_shot.results.round(2).to_csv('../outputs/final/results_classification_zero_shot.csv', index=False)"
   ]
  },
  {
   "cell_type": "markdown",
   "metadata": {},
   "source": [
    "# UP TO HERE WORKS WELL, CAN RUN ON ALL DATASETS"
   ]
  },
  {
   "cell_type": "markdown",
   "metadata": {},
   "source": [
    "#### Running pipelines for Topic Modeling"
   ]
  },
  {
   "cell_type": "code",
   "execution_count": 18,
   "metadata": {},
   "outputs": [
    {
     "data": {
      "application/vnd.jupyter.widget-view+json": {
       "model_id": "7bbebe485ac44419b5de68ea66603b06",
       "version_major": 2,
       "version_minor": 0
      },
      "text/plain": [
       "Datasets:   0%|          | 0/2 [00:00<?, ?it/s]"
      ]
     },
     "metadata": {},
     "output_type": "display_data"
    },
    {
     "data": {
      "application/vnd.jupyter.widget-view+json": {
       "model_id": "595ffe2b804c42f3820aac591e59ed09",
       "version_major": 2,
       "version_minor": 0
      },
      "text/plain": [
       "Models:   0%|          | 0/3 [00:00<?, ?it/s]"
      ]
     },
     "metadata": {},
     "output_type": "display_data"
    },
    {
     "data": {
      "application/vnd.jupyter.widget-view+json": {
       "model_id": "dfd0e07a4cc9496d8c63aa9222118cbc",
       "version_major": 2,
       "version_minor": 0
      },
      "text/plain": [
       "Noise Strategies:   0%|          | 0/1 [00:00<?, ?it/s]"
      ]
     },
     "metadata": {},
     "output_type": "display_data"
    },
    {
     "data": {
      "application/vnd.jupyter.widget-view+json": {
       "model_id": "004b875a80d24ce88ee82a19278f89f6",
       "version_major": 2,
       "version_minor": 0
      },
      "text/plain": [
       "Noise Strategies:   0%|          | 0/1 [00:00<?, ?it/s]"
      ]
     },
     "metadata": {},
     "output_type": "display_data"
    },
    {
     "data": {
      "application/vnd.jupyter.widget-view+json": {
       "model_id": "c8aba6c1c11448d3be7d54a211dcb742",
       "version_major": 2,
       "version_minor": 0
      },
      "text/plain": [
       "Noise Strategies:   0%|          | 0/1 [00:00<?, ?it/s]"
      ]
     },
     "metadata": {},
     "output_type": "display_data"
    },
    {
     "data": {
      "application/vnd.jupyter.widget-view+json": {
       "model_id": "e3bdfae0a1bb46eaa44659f210c08092",
       "version_major": 2,
       "version_minor": 0
      },
      "text/plain": [
       "Models:   0%|          | 0/3 [00:00<?, ?it/s]"
      ]
     },
     "metadata": {},
     "output_type": "display_data"
    },
    {
     "data": {
      "application/vnd.jupyter.widget-view+json": {
       "model_id": "166df3ef5429419c83a6da421f1e6528",
       "version_major": 2,
       "version_minor": 0
      },
      "text/plain": [
       "Noise Strategies:   0%|          | 0/1 [00:00<?, ?it/s]"
      ]
     },
     "metadata": {},
     "output_type": "display_data"
    },
    {
     "data": {
      "application/vnd.jupyter.widget-view+json": {
       "model_id": "0fdd0c3f390145c0a282d3c17b4e6505",
       "version_major": 2,
       "version_minor": 0
      },
      "text/plain": [
       "Noise Strategies:   0%|          | 0/1 [00:00<?, ?it/s]"
      ]
     },
     "metadata": {},
     "output_type": "display_data"
    },
    {
     "data": {
      "application/vnd.jupyter.widget-view+json": {
       "model_id": "f7218467e8984c8cbd834c5ec70794e5",
       "version_major": 2,
       "version_minor": 0
      },
      "text/plain": [
       "Noise Strategies:   0%|          | 0/1 [00:00<?, ?it/s]"
      ]
     },
     "metadata": {},
     "output_type": "display_data"
    },
    {
     "data": {
      "text/html": [
       "<div>\n",
       "<style scoped>\n",
       "    .dataframe tbody tr th:only-of-type {\n",
       "        vertical-align: middle;\n",
       "    }\n",
       "\n",
       "    .dataframe tbody tr th {\n",
       "        vertical-align: top;\n",
       "    }\n",
       "\n",
       "    .dataframe thead th {\n",
       "        text-align: right;\n",
       "    }\n",
       "</style>\n",
       "<table border=\"1\" class=\"dataframe\">\n",
       "  <thead>\n",
       "    <tr style=\"text-align: right;\">\n",
       "      <th></th>\n",
       "      <th>Dataset</th>\n",
       "      <th>Noise</th>\n",
       "      <th>Model</th>\n",
       "      <th>ARI Score</th>\n",
       "      <th>Topics Coherence</th>\n",
       "      <th>Cosine Similarity</th>\n",
       "      <th>Reconstruction Error</th>\n",
       "    </tr>\n",
       "  </thead>\n",
       "  <tbody>\n",
       "    <tr>\n",
       "      <th>0</th>\n",
       "      <td>AG News Full</td>\n",
       "      <td>NoNoise</td>\n",
       "      <td>LDA_4</td>\n",
       "      <td>0.411765</td>\n",
       "      <td>0.944541</td>\n",
       "      <td>0.364855</td>\n",
       "      <td>None</td>\n",
       "    </tr>\n",
       "    <tr>\n",
       "      <th>1</th>\n",
       "      <td>AG News Full</td>\n",
       "      <td>NoNoise</td>\n",
       "      <td>LSI_4</td>\n",
       "      <td>0.411765</td>\n",
       "      <td>0.821863</td>\n",
       "      <td>0.280000</td>\n",
       "      <td>None</td>\n",
       "    </tr>\n",
       "    <tr>\n",
       "      <th>2</th>\n",
       "      <td>AG News Full</td>\n",
       "      <td>NoNoise</td>\n",
       "      <td>NMF_4</td>\n",
       "      <td>0.411765</td>\n",
       "      <td>0.901785</td>\n",
       "      <td>0.280000</td>\n",
       "      <td>0.988373</td>\n",
       "    </tr>\n",
       "    <tr>\n",
       "      <th>3</th>\n",
       "      <td>AG News LLM labels</td>\n",
       "      <td>NoNoise</td>\n",
       "      <td>LDA_4</td>\n",
       "      <td>0.411765</td>\n",
       "      <td>0.944541</td>\n",
       "      <td>0.364855</td>\n",
       "      <td>None</td>\n",
       "    </tr>\n",
       "    <tr>\n",
       "      <th>4</th>\n",
       "      <td>AG News LLM labels</td>\n",
       "      <td>NoNoise</td>\n",
       "      <td>LSI_4</td>\n",
       "      <td>0.411765</td>\n",
       "      <td>0.821863</td>\n",
       "      <td>0.280000</td>\n",
       "      <td>None</td>\n",
       "    </tr>\n",
       "    <tr>\n",
       "      <th>5</th>\n",
       "      <td>AG News LLM labels</td>\n",
       "      <td>NoNoise</td>\n",
       "      <td>NMF_4</td>\n",
       "      <td>0.411765</td>\n",
       "      <td>0.901785</td>\n",
       "      <td>0.280000</td>\n",
       "      <td>0.988373</td>\n",
       "    </tr>\n",
       "  </tbody>\n",
       "</table>\n",
       "</div>"
      ],
      "text/plain": [
       "              Dataset    Noise  Model  ARI Score  Topics Coherence  \\\n",
       "0        AG News Full  NoNoise  LDA_4   0.411765          0.944541   \n",
       "1        AG News Full  NoNoise  LSI_4   0.411765          0.821863   \n",
       "2        AG News Full  NoNoise  NMF_4   0.411765          0.901785   \n",
       "3  AG News LLM labels  NoNoise  LDA_4   0.411765          0.944541   \n",
       "4  AG News LLM labels  NoNoise  LSI_4   0.411765          0.821863   \n",
       "5  AG News LLM labels  NoNoise  NMF_4   0.411765          0.901785   \n",
       "\n",
       "   Cosine Similarity Reconstruction Error  \n",
       "0           0.364855                 None  \n",
       "1           0.280000                 None  \n",
       "2           0.280000             0.988373  \n",
       "3           0.364855                 None  \n",
       "4           0.280000                 None  \n",
       "5           0.280000             0.988373  "
      ]
     },
     "execution_count": 18,
     "metadata": {},
     "output_type": "execute_result"
    }
   ],
   "source": [
    "topic_modelling_orchestrator_ag_news.evaluate(datasets_test_ag_news, noise_strategies)\n",
    "topic_modelling_orchestrator_ag_news.results"
   ]
  },
  {
   "cell_type": "code",
   "execution_count": 20,
   "metadata": {},
   "outputs": [],
   "source": [
    "topic_modelling_orchestrator_ag_news.results.round(2).to_csv('../outputs/final/results_topic_modelling_ag_news.csv', index=False)"
   ]
  },
  {
   "cell_type": "code",
   "execution_count": 21,
   "metadata": {},
   "outputs": [
    {
     "data": {
      "application/vnd.jupyter.widget-view+json": {
       "model_id": "5e76e7448fd843789b37d9208ce16806",
       "version_major": 2,
       "version_minor": 0
      },
      "text/plain": [
       "Datasets:   0%|          | 0/1 [00:00<?, ?it/s]"
      ]
     },
     "metadata": {},
     "output_type": "display_data"
    },
    {
     "data": {
      "application/vnd.jupyter.widget-view+json": {
       "model_id": "47c456bf19ba4df9bca8dc7754daed81",
       "version_major": 2,
       "version_minor": 0
      },
      "text/plain": [
       "Models:   0%|          | 0/3 [00:00<?, ?it/s]"
      ]
     },
     "metadata": {},
     "output_type": "display_data"
    },
    {
     "data": {
      "application/vnd.jupyter.widget-view+json": {
       "model_id": "34921d9eef2d4bb3b3a3a5d262baaa0f",
       "version_major": 2,
       "version_minor": 0
      },
      "text/plain": [
       "Noise Strategies:   0%|          | 0/1 [00:00<?, ?it/s]"
      ]
     },
     "metadata": {},
     "output_type": "display_data"
    },
    {
     "data": {
      "application/vnd.jupyter.widget-view+json": {
       "model_id": "1acc551e6b954eef8bd4121a1a9fdd4d",
       "version_major": 2,
       "version_minor": 0
      },
      "text/plain": [
       "Noise Strategies:   0%|          | 0/1 [00:00<?, ?it/s]"
      ]
     },
     "metadata": {},
     "output_type": "display_data"
    },
    {
     "data": {
      "application/vnd.jupyter.widget-view+json": {
       "model_id": "bba767f7da014daeb58457e83177138f",
       "version_major": 2,
       "version_minor": 0
      },
      "text/plain": [
       "Noise Strategies:   0%|          | 0/1 [00:00<?, ?it/s]"
      ]
     },
     "metadata": {},
     "output_type": "display_data"
    },
    {
     "data": {
      "text/html": [
       "<div>\n",
       "<style scoped>\n",
       "    .dataframe tbody tr th:only-of-type {\n",
       "        vertical-align: middle;\n",
       "    }\n",
       "\n",
       "    .dataframe tbody tr th {\n",
       "        vertical-align: top;\n",
       "    }\n",
       "\n",
       "    .dataframe thead th {\n",
       "        text-align: right;\n",
       "    }\n",
       "</style>\n",
       "<table border=\"1\" class=\"dataframe\">\n",
       "  <thead>\n",
       "    <tr style=\"text-align: right;\">\n",
       "      <th></th>\n",
       "      <th>Dataset</th>\n",
       "      <th>Noise</th>\n",
       "      <th>Model</th>\n",
       "      <th>ARI Score</th>\n",
       "      <th>Topics Coherence</th>\n",
       "      <th>Cosine Similarity</th>\n",
       "      <th>Reconstruction Error</th>\n",
       "    </tr>\n",
       "  </thead>\n",
       "  <tbody>\n",
       "    <tr>\n",
       "      <th>0</th>\n",
       "      <td>BBC News Full</td>\n",
       "      <td>NoNoise</td>\n",
       "      <td>LDA_5</td>\n",
       "      <td>-0.25</td>\n",
       "      <td>0.479341</td>\n",
       "      <td>0.393866</td>\n",
       "      <td>None</td>\n",
       "    </tr>\n",
       "    <tr>\n",
       "      <th>1</th>\n",
       "      <td>BBC News Full</td>\n",
       "      <td>NoNoise</td>\n",
       "      <td>LSI_5</td>\n",
       "      <td>0.00</td>\n",
       "      <td>0.734039</td>\n",
       "      <td>0.219998</td>\n",
       "      <td>None</td>\n",
       "    </tr>\n",
       "    <tr>\n",
       "      <th>2</th>\n",
       "      <td>BBC News Full</td>\n",
       "      <td>NoNoise</td>\n",
       "      <td>NMF_5</td>\n",
       "      <td>0.00</td>\n",
       "      <td>0.918731</td>\n",
       "      <td>0.200008</td>\n",
       "      <td>0.000122</td>\n",
       "    </tr>\n",
       "  </tbody>\n",
       "</table>\n",
       "</div>"
      ],
      "text/plain": [
       "         Dataset    Noise  Model  ARI Score  Topics Coherence  \\\n",
       "0  BBC News Full  NoNoise  LDA_5      -0.25          0.479341   \n",
       "1  BBC News Full  NoNoise  LSI_5       0.00          0.734039   \n",
       "2  BBC News Full  NoNoise  NMF_5       0.00          0.918731   \n",
       "\n",
       "   Cosine Similarity Reconstruction Error  \n",
       "0           0.393866                 None  \n",
       "1           0.219998                 None  \n",
       "2           0.200008             0.000122  "
      ]
     },
     "execution_count": 21,
     "metadata": {},
     "output_type": "execute_result"
    }
   ],
   "source": [
    "topic_modelling_orchestrator_bbc_news.evaluate(datasets_test_bbc_news, noise_strategies)\n",
    "topic_modelling_orchestrator_bbc_news.results"
   ]
  },
  {
   "cell_type": "code",
   "execution_count": 22,
   "metadata": {},
   "outputs": [],
   "source": [
    "topic_modelling_orchestrator_bbc_news.results.round(2).to_csv('../outputs/final/results_topic_modelling_bbc_news.csv', index=False)\n"
   ]
  },
  {
   "cell_type": "code",
   "execution_count": null,
   "metadata": {},
   "outputs": [],
   "source": []
  }
 ],
 "metadata": {
  "kernelspec": {
   "display_name": "base",
   "language": "python",
   "name": "python3"
  },
  "language_info": {
   "codemirror_mode": {
    "name": "ipython",
    "version": 3
   },
   "file_extension": ".py",
   "mimetype": "text/x-python",
   "name": "python",
   "nbconvert_exporter": "python",
   "pygments_lexer": "ipython3",
   "version": "3.11.7"
  }
 },
 "nbformat": 4,
 "nbformat_minor": 2
}
