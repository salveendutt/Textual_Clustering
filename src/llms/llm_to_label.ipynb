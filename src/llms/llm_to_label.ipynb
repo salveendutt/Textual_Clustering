{
 "cells": [
  {
   "cell_type": "code",
   "execution_count": 28,
   "metadata": {},
   "outputs": [],
   "source": [
    "import pandas as pd\n",
    "import random\n",
    "from langchain_community.llms import Ollama\n",
    "random.seed(42)\n",
    "from tqdm.auto import tqdm"
   ]
  },
  {
   "cell_type": "markdown",
   "metadata": {},
   "source": [
    "## AG News Dataset"
   ]
  },
  {
   "cell_type": "code",
   "execution_count": 22,
   "metadata": {},
   "outputs": [],
   "source": [
    "ag_test = pd.read_csv('../../data/AG News/test.csv')\n",
    "ag_train = pd.read_csv('../../data/AG News/train.csv')\n",
    "\n",
    "# Define the mapping\n",
    "class_to_text_mapping = {1: \"World\", 2: \"Sports\", 3: \"Business\", 4: \"Science\"}\n",
    "text_to_class_mapping = {'World': 1, 'Sports': 2, 'Business': 3, 'Science': 4}\n",
    "\n",
    "# Apply the mapping to the class column\n",
    "# ag_test['Class'] = ag_test['Class Index'].replace(class_mapping)\n",
    "# ag_train['Class'] = ag_train['Class Index'].replace(class_mapping)\n",
    "\n",
    "ag_news_train_baseline = ag_train['Description']\n",
    "ag_news_train_true_labels = ag_train['Class Index']\n",
    "\n",
    "sampled = ag_news_train_baseline.sample(1000, random_state=42)\n",
    "ag_news_train_baseline = sampled\n",
    "ag_news_train_true_labels = ag_news_train_true_labels.loc[sampled.index]\n",
    "\n",
    "sampled_indices = ag_test.sample(3600, random_state=42).index\n",
    "ag_news_baseline = ag_test.loc[sampled_indices, 'Description']\n",
    "ag_news_true_labels = ag_test.loc[sampled_indices, 'Class Index']\n",
    "\n",
    "ag_news_train = {\n",
    "    \"AG News\":(ag_news_train_baseline, ag_news_train_true_labels),\n",
    "}\n",
    "\n",
    "ag_news = {\n",
    "    \"AG News\":(ag_news_baseline, ag_news_true_labels),\n",
    "}"
   ]
  },
  {
   "cell_type": "code",
   "execution_count": 24,
   "metadata": {},
   "outputs": [
    {
     "data": {
      "text/html": [
       "<div>\n",
       "<style scoped>\n",
       "    .dataframe tbody tr th:only-of-type {\n",
       "        vertical-align: middle;\n",
       "    }\n",
       "\n",
       "    .dataframe tbody tr th {\n",
       "        vertical-align: top;\n",
       "    }\n",
       "\n",
       "    .dataframe thead th {\n",
       "        text-align: right;\n",
       "    }\n",
       "</style>\n",
       "<table border=\"1\" class=\"dataframe\">\n",
       "  <thead>\n",
       "    <tr style=\"text-align: right;\">\n",
       "      <th></th>\n",
       "      <th>text</th>\n",
       "      <th>true_labels</th>\n",
       "      <th>true_labels_text</th>\n",
       "    </tr>\n",
       "  </thead>\n",
       "  <tbody>\n",
       "    <tr>\n",
       "      <th>63621</th>\n",
       "      <td>She rode into office three years ago on a wave...</td>\n",
       "      <td>1</td>\n",
       "      <td>World</td>\n",
       "    </tr>\n",
       "    <tr>\n",
       "      <th>110878</th>\n",
       "      <td>AMSTERDAM - Dutch diary company Campina announ...</td>\n",
       "      <td>3</td>\n",
       "      <td>Business</td>\n",
       "    </tr>\n",
       "    <tr>\n",
       "      <th>95593</th>\n",
       "      <td>The armed Basque separatist group ETA showed i...</td>\n",
       "      <td>1</td>\n",
       "      <td>World</td>\n",
       "    </tr>\n",
       "    <tr>\n",
       "      <th>60020</th>\n",
       "      <td>She may be in a West Virginia prison, but West...</td>\n",
       "      <td>3</td>\n",
       "      <td>Business</td>\n",
       "    </tr>\n",
       "    <tr>\n",
       "      <th>57501</th>\n",
       "      <td>LONDON - Defence Minister Bill Graham was tigh...</td>\n",
       "      <td>1</td>\n",
       "      <td>World</td>\n",
       "    </tr>\n",
       "    <tr>\n",
       "      <th>...</th>\n",
       "      <td>...</td>\n",
       "      <td>...</td>\n",
       "      <td>...</td>\n",
       "    </tr>\n",
       "    <tr>\n",
       "      <th>92177</th>\n",
       "      <td>Wireless services will lead the next growth ph...</td>\n",
       "      <td>4</td>\n",
       "      <td>Science</td>\n",
       "    </tr>\n",
       "    <tr>\n",
       "      <th>28275</th>\n",
       "      <td>Cardiffs Millennium Stadium will host this sea...</td>\n",
       "      <td>2</td>\n",
       "      <td>Sports</td>\n",
       "    </tr>\n",
       "    <tr>\n",
       "      <th>7682</th>\n",
       "      <td>A Greek soldier guarding an Olympic facility i...</td>\n",
       "      <td>2</td>\n",
       "      <td>Sports</td>\n",
       "    </tr>\n",
       "    <tr>\n",
       "      <th>1517</th>\n",
       "      <td>The experts claim hackers have compromised the...</td>\n",
       "      <td>4</td>\n",
       "      <td>Science</td>\n",
       "    </tr>\n",
       "    <tr>\n",
       "      <th>88409</th>\n",
       "      <td>Scientists have worries about the Arctic warmi...</td>\n",
       "      <td>4</td>\n",
       "      <td>Science</td>\n",
       "    </tr>\n",
       "  </tbody>\n",
       "</table>\n",
       "<p>1000 rows × 3 columns</p>\n",
       "</div>"
      ],
      "text/plain": [
       "                                                     text  true_labels  \\\n",
       "63621   She rode into office three years ago on a wave...            1   \n",
       "110878  AMSTERDAM - Dutch diary company Campina announ...            3   \n",
       "95593   The armed Basque separatist group ETA showed i...            1   \n",
       "60020   She may be in a West Virginia prison, but West...            3   \n",
       "57501   LONDON - Defence Minister Bill Graham was tigh...            1   \n",
       "...                                                   ...          ...   \n",
       "92177   Wireless services will lead the next growth ph...            4   \n",
       "28275   Cardiffs Millennium Stadium will host this sea...            2   \n",
       "7682    A Greek soldier guarding an Olympic facility i...            2   \n",
       "1517    The experts claim hackers have compromised the...            4   \n",
       "88409   Scientists have worries about the Arctic warmi...            4   \n",
       "\n",
       "       true_labels_text  \n",
       "63621             World  \n",
       "110878         Business  \n",
       "95593             World  \n",
       "60020          Business  \n",
       "57501             World  \n",
       "...                 ...  \n",
       "92177           Science  \n",
       "28275            Sports  \n",
       "7682             Sports  \n",
       "1517            Science  \n",
       "88409           Science  \n",
       "\n",
       "[1000 rows x 3 columns]"
      ]
     },
     "execution_count": 24,
     "metadata": {},
     "output_type": "execute_result"
    }
   ],
   "source": [
    "# Convert Series to DataFrame\n",
    "df = pd.DataFrame({'text': ag_news_train_baseline})\n",
    "df['true_labels'] = ag_news_train_true_labels\n",
    "df['true_labels_text'] = df['true_labels'].map(class_to_text_mapping)\n",
    "df = df.sample(1000, random_state=42)\n",
    "df"
   ]
  },
  {
   "cell_type": "markdown",
   "metadata": {},
   "source": [
    "### LLM"
   ]
  },
  {
   "cell_type": "code",
   "execution_count": 25,
   "metadata": {},
   "outputs": [],
   "source": [
    "llm = Ollama(model=\"gemma2\")"
   ]
  },
  {
   "cell_type": "code",
   "execution_count": 26,
   "metadata": {},
   "outputs": [
    {
     "data": {
      "text/plain": [
       "array(['World', 'Business', 'Science', 'Sports'], dtype=object)"
      ]
     },
     "execution_count": 26,
     "metadata": {},
     "output_type": "execute_result"
    }
   ],
   "source": [
    "topics = df['true_labels_text'].unique()\n",
    "topics"
   ]
  },
  {
   "cell_type": "code",
   "execution_count": 27,
   "metadata": {},
   "outputs": [],
   "source": [
    "def assign_topics(input_df, topics, llm=None, checkpoint_interval=300):\n",
    "    if llm is None:\n",
    "        raise ValueError(\"LLM instance must be provided\")\n",
    "    \n",
    "    # Create a copy of the DataFrame to avoid modifying the original\n",
    "    df = input_df.copy()\n",
    "    \n",
    "    # Initialize Topic column with 'Unknown'\n",
    "    df['predicted_label_text'] = 'Unknown'\n",
    "    \n",
    "    # Process each news item individually with progress bar\n",
    "    for idx in tqdm(range(len(df)), desc=\"Assigning topics\"):\n",
    "        news_item = df.iloc[idx]['text']\n",
    "        \n",
    "        # Generate prompt for current item\n",
    "        prompt_assigning_prompt = f'''You are provided with news and helping to classify them based on the topics.\n",
    "Please assign the news to the topics provided. Return only the name of the topic for the respective news.\n",
    "News can be found in tripletick block: ```{news_item}```\n",
    "Topics to choose from: {topics}\n",
    "Please return ONLY the topic name. DO NOT OUTPUT any additional text, quotes, or formatting.'''\n",
    "        \n",
    "        try:\n",
    "            # Get assignment for current item\n",
    "            result = llm.invoke(prompt_assigning_prompt, temperature=0.0)\n",
    "            \n",
    "            # Clean the result\n",
    "            result = result.strip()\n",
    "            if result.startswith('```') and result.endswith('```'):\n",
    "                result = result[3:-3].strip()\n",
    "            \n",
    "            # Update the DataFrame with the assigned topic\n",
    "            df.iloc[idx, df.columns.get_loc('predicted_label_text')] = result\n",
    "            \n",
    "            # Save checkpoint every checkpoint_interval rows\n",
    "            if (idx + 1) % checkpoint_interval == 0:\n",
    "                checkpoint_filename = f'outputs/news_assigned_checkpoint_{idx + 1}.csv'\n",
    "                df.to_csv(checkpoint_filename, index=False)\n",
    "                print(f\"\\nCheckpoint saved: {checkpoint_filename}\")\n",
    "                \n",
    "        except Exception as e:\n",
    "            print(f\"\\nError processing item {idx}: {str(e)}\")\n",
    "            print(f\"Result received: {result}\")\n",
    "            continue\n",
    "    \n",
    "    final_filename = '../../outputs/llm_to_label/news_assigned_final.csv'\n",
    "    df.to_csv(final_filename, index=False)\n",
    "    print(f\"\\nFinal results saved: {final_filename}\")\n",
    "    \n",
    "    return df"
   ]
  },
  {
   "cell_type": "code",
   "execution_count": 20,
   "metadata": {},
   "outputs": [
    {
     "data": {
      "application/vnd.jupyter.widget-view+json": {
       "model_id": "dc723ef2fcdc4ff3bbf3a489457fff99",
       "version_major": 2,
       "version_minor": 0
      },
      "text/plain": [
       "Assigning topics:   0%|          | 0/100 [00:00<?, ?it/s]"
      ]
     },
     "metadata": {},
     "output_type": "display_data"
    },
    {
     "name": "stdout",
     "output_type": "stream",
     "text": [
      "\n",
      "Final results saved: ../../outputs/llm_to_label/news_assigned_final.csv\n"
     ]
    }
   ],
   "source": [
    "news_assigned = assign_topics(\n",
    "    df,\n",
    "    topics=str(topics),\n",
    "    llm=llm\n",
    ")"
   ]
  },
  {
   "cell_type": "code",
   "execution_count": 18,
   "metadata": {},
   "outputs": [
    {
     "name": "stdout",
     "output_type": "stream",
     "text": [
      "Accuracy: 0.8300\n",
      "F1 Score: 0.8117\n",
      "Precision: 0.8562\n",
      "Recall: 0.8300\n"
     ]
    },
    {
     "name": "stderr",
     "output_type": "stream",
     "text": [
      "/opt/anaconda3/lib/python3.11/site-packages/sklearn/metrics/_classification.py:1344: UndefinedMetricWarning: Recall is ill-defined and being set to 0.0 in labels with no true samples. Use `zero_division` parameter to control this behavior.\n",
      "  _warn_prf(average, modifier, msg_start, len(result))\n"
     ]
    }
   ],
   "source": [
    "from sklearn.metrics import f1_score, accuracy_score, precision_score, recall_score\n",
    "\n",
    "# Convert predicted topics to numeric labels using the mapping\n",
    "predicted_labels = news_assigned['Predicted Topic'].map(text_to_class_mapping).fillna(-1).astype(int)\n",
    "true_labels = news_assigned['true_labels']\n",
    "\n",
    "# Calculate metrics\n",
    "accuracy = accuracy_score(true_labels, predicted_labels)\n",
    "f1 = f1_score(true_labels, predicted_labels, average='weighted')\n",
    "precision = precision_score(true_labels, predicted_labels, average='weighted')\n",
    "recall = recall_score(true_labels, predicted_labels, average='weighted')\n",
    "\n",
    "print(f\"Accuracy: {accuracy:.4f}\")\n",
    "print(f\"F1 Score: {f1:.4f}\")\n",
    "print(f\"Precision: {precision:.4f}\")\n",
    "print(f\"Recall: {recall:.4f}\")"
   ]
  },
  {
   "cell_type": "code",
   "execution_count": null,
   "metadata": {},
   "outputs": [],
   "source": []
  }
 ],
 "metadata": {
  "kernelspec": {
   "display_name": "base",
   "language": "python",
   "name": "python3"
  },
  "language_info": {
   "codemirror_mode": {
    "name": "ipython",
    "version": 3
   },
   "file_extension": ".py",
   "mimetype": "text/x-python",
   "name": "python",
   "nbconvert_exporter": "python",
   "pygments_lexer": "ipython3",
   "version": "3.11.7"
  }
 },
 "nbformat": 4,
 "nbformat_minor": 2
}
