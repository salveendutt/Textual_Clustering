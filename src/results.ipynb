{
 "cells": [
  {
   "cell_type": "code",
   "execution_count": 8,
   "id": "a5887d54",
   "metadata": {},
   "outputs": [],
   "source": [
    "import pandas as pd"
   ]
  },
  {
   "cell_type": "code",
   "execution_count": 14,
   "id": "6f2be6a3",
   "metadata": {},
   "outputs": [
    {
     "name": "stdout",
     "output_type": "stream",
     "text": [
      "Loaded 12 classification CSV files\n",
      "Loaded 3 topic modelling CSV files\n"
     ]
    }
   ],
   "source": [
    "import os\n",
    "import glob\n",
    "\n",
    "# Path to output directory\n",
    "output_dir = \"../outputs/final\"\n",
    "results_dir = \"../outputs/results\"\n",
    "\n",
    "# Load all classification result CSV files\n",
    "classification_files = glob.glob(os.path.join(output_dir, \"results_classification*.csv\"))\n",
    "classification_dfs = {}\n",
    "for file in classification_files:\n",
    "    file_name = os.path.basename(file)\n",
    "    classification_dfs[file_name] = pd.read_csv(file)\n",
    "    \n",
    "print(f\"Loaded {len(classification_dfs)} classification CSV files\")\n",
    "\n",
    "# Load all topic modelling result CSV files\n",
    "topic_modelling_files = glob.glob(os.path.join(output_dir, \"results_topic_modelling*.csv\"))\n",
    "topic_modelling_dfs = {}\n",
    "for file in topic_modelling_files:\n",
    "    file_name = os.path.basename(file)\n",
    "    topic_modelling_dfs[file_name] = pd.read_csv(file)\n",
    "    \n",
    "print(f\"Loaded {len(topic_modelling_dfs)} topic modelling CSV files\")"
   ]
  },
  {
   "cell_type": "code",
   "execution_count": 19,
   "id": "25402083",
   "metadata": {},
   "outputs": [
    {
     "name": "stdout",
     "output_type": "stream",
     "text": [
      "Concatenated topic modeling dataframe shape: (63, 7)\n",
      "              Dataset                Noise  Model  ARI Score  \\\n",
      "0  20 Newsgroups Full  AddRandomCharsNoise  LDA_4       0.00   \n",
      "1  20 Newsgroups Full  AddRandomCharsNoise  LSI_4       0.01   \n",
      "2  20 Newsgroups Full  AddRandomCharsNoise  NMF_4       0.06   \n",
      "3  20 Newsgroups Full  AddRandomWordsNoise  LDA_4       0.00   \n",
      "4  20 Newsgroups Full  AddRandomWordsNoise  LSI_4       0.00   \n",
      "\n",
      "   Topics Coherence  Cosine Similarity  Reconstruction Error  \n",
      "0              0.47               0.34                   NaN  \n",
      "1              0.60               0.64                   NaN  \n",
      "2              0.74               0.55             62.555435  \n",
      "3              0.40               0.98                   NaN  \n",
      "4              0.59               0.66                   NaN  \n",
      "Saved concatenated topic modeling results to ../outputs/results/results_topic_modelling.csv\n"
     ]
    }
   ],
   "source": [
    "# Concatenate all topic modeling dataframes into a single dataframe\n",
    "all_topic_modelling_df = pd.concat(topic_modelling_dfs.values(), ignore_index=True)\n",
    "\n",
    "# Print the shape to verify\n",
    "print(f\"Concatenated topic modeling dataframe shape: {all_topic_modelling_df.shape}\")\n",
    "print(all_topic_modelling_df.head())\n",
    "\n",
    "# Save the concatenated dataframe to the results directory\n",
    "topic_modelling_output_path = os.path.join(results_dir, \"results_topic_modelling.csv\")\n",
    "topic_modelling_output_path_excel = os.path.join(results_dir, \"results_topic_modelling.xlsx\")\n",
    "all_topic_modelling_df.to_csv(topic_modelling_output_path, index=False)\n",
    "all_topic_modelling_df.to_excel(topic_modelling_output_path_excel, index=False)\n",
    "\n",
    "print(f\"Saved concatenated topic modeling results to {topic_modelling_output_path}\")"
   ]
  },
  {
   "cell_type": "code",
   "execution_count": 20,
   "id": "78ddff36",
   "metadata": {
    "vscode": {
     "languageId": "ruby"
    }
   },
   "outputs": [
    {
     "name": "stdout",
     "output_type": "stream",
     "text": [
      "Concatenated classification dataframe shape: (378, 7)\n",
      "        Dataset                Noise                Model  Accuracy  F1 Score  \\\n",
      "0  AG News Full  AddRandomCharsNoise             LightGBM      0.25      0.40   \n",
      "1  AG News Full  AddRandomCharsNoise      LightGBMRoberta      0.74      0.74   \n",
      "2  AG News Full  AddRandomCharsNoise         RandomForest      0.50      0.50   \n",
      "3  AG News Full  AddRandomCharsNoise  RandomForestRoberta      0.78      0.77   \n",
      "4  AG News Full  AddRandomCharsNoise                  SVM      0.62      0.62   \n",
      "\n",
      "   Precision  Recall  \n",
      "0       1.00    0.25  \n",
      "1       0.75    0.74  \n",
      "2       0.56    0.50  \n",
      "3       0.78    0.78  \n",
      "4       0.63    0.62  \n",
      "Saved concatenated classification results to ../outputs/results/results_classification.csv\n"
     ]
    }
   ],
   "source": [
    "# Concatenate all classification dataframes into a single dataframe\n",
    "all_classification_df = pd.concat(classification_dfs.values(), ignore_index=True)\n",
    "\n",
    "# Print the shape to verify\n",
    "print(f\"Concatenated classification dataframe shape: {all_classification_df.shape}\")\n",
    "print(all_classification_df.head())\n",
    "\n",
    "# Save the concatenated dataframe to the results directory\n",
    "classification_output_path = os.path.join(results_dir, \"results_classification.csv\")\n",
    "classification_output_path_excel = os.path.join(results_dir, \"results_classification.xlsx\")\n",
    "all_classification_df.to_csv(classification_output_path, index=False)\n",
    "all_classification_df.to_excel(classification_output_path_excel, index=False)\n",
    "\n",
    "print(f\"Saved concatenated classification results to {classification_output_path}\")"
   ]
  },
  {
   "cell_type": "code",
   "execution_count": 22,
   "id": "85dac34a",
   "metadata": {
    "vscode": {
     "languageId": "ruby"
    }
   },
   "outputs": [],
   "source": [
    "results_classification = pd.read_csv('../outputs/results/results_classification.csv')\n",
    "results_topic_modeling = pd.read_csv('../outputs/results/results_topic_modelling.csv')"
   ]
  },
  {
   "cell_type": "code",
   "execution_count": 25,
   "id": "c11436bc",
   "metadata": {
    "vscode": {
     "languageId": "ruby"
    }
   },
   "outputs": [
    {
     "data": {
      "text/plain": [
       "378"
      ]
     },
     "execution_count": 25,
     "metadata": {},
     "output_type": "execute_result"
    }
   ],
   "source": [
    "# Supervised Classification: 8 functions * 7 noises * 6 datasets (LLM + Full) = 336\n",
    "# Zero Shot Classification: 2 models * 7 noises * 3 datasets (only full) = 42\n",
    "# Total = 336 + 42 = 378\n",
    "len(results_classification) "
   ]
  },
  {
   "cell_type": "code",
   "execution_count": null,
   "id": "908d4e53",
   "metadata": {
    "vscode": {
     "languageId": "ruby"
    }
   },
   "outputs": [
    {
     "data": {
      "text/plain": [
       "63"
      ]
     },
     "execution_count": 24,
     "metadata": {},
     "output_type": "execute_result"
    }
   ],
   "source": [
    "# Topic Modelling 3 models * 7 topics * 3 datasets\n",
    "len(results_topic_modeling) "
   ]
  },
  {
   "cell_type": "code",
   "execution_count": null,
   "id": "2936c760",
   "metadata": {
    "vscode": {
     "languageId": "ruby"
    }
   },
   "outputs": [],
   "source": []
  }
 ],
 "metadata": {
  "kernelspec": {
   "display_name": "base",
   "language": "python",
   "name": "python3"
  },
  "language_info": {
   "codemirror_mode": {
    "name": "ipython",
    "version": 3
   },
   "file_extension": ".py",
   "mimetype": "text/x-python",
   "name": "python",
   "nbconvert_exporter": "python",
   "pygments_lexer": "ipython3",
   "version": "3.11.7"
  }
 },
 "nbformat": 4,
 "nbformat_minor": 5
}
