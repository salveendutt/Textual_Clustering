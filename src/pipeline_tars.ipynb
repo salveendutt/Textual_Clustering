{
 "cells": [
  {
   "cell_type": "code",
   "execution_count": 7,
   "metadata": {},
   "outputs": [],
   "source": [
    "import pandas as pd\n",
    "from flair.models import TARSClassifier\n",
    "from flair.data import Sentence\n",
    "from tqdm import tqdm\n",
    "from flair.trainers import ModelTrainer"
   ]
  },
  {
   "cell_type": "code",
   "execution_count": 8,
   "metadata": {},
   "outputs": [
    {
     "name": "stdout",
     "output_type": "stream",
     "text": [
      "2025-05-21 22:35:09,812 TARS initialized without a task. You need to call .add_and_switch_to_new_task() before training this model\n"
     ]
    }
   ],
   "source": [
    "\n",
    "# Load dataset\n",
    "ag_test = pd.read_csv('../data/AG News/test.csv')\n",
    "ag_train = pd.read_csv('../data/AG News/train.csv')\n",
    "\n",
    "# Define class mapping\n",
    "class_mapping = {1: \"World\", 2: \"Sports\", 3: \"Business\", 4: \"Science\"}\n",
    "\n",
    "# Apply the mapping\n",
    "ag_test['Class'] = ag_test['Class Index'].replace(class_mapping)\n",
    "ag_train['Class'] = ag_train['Class Index'].replace(class_mapping)\n",
    "\n",
    "# Load pre-trained TARS model\n",
    "tars = TARSClassifier.load('tars-base')\n",
    "\n",
    "# Define possible topic labels\n",
    "topic_labels = list(class_mapping.values())\n",
    "tars.add_and_switch_to_new_task(\"ag_news_zero_shot\", label_dictionary=topic_labels, label_type=\"classification\")\n",
    "\n",
    "# Perform zero-shot classification\n",
    "predictions = []\n",
    "true_labels = ag_test['Class'].tolist()\n"
   ]
  },
  {
   "cell_type": "code",
   "execution_count": null,
   "metadata": {},
   "outputs": [],
   "source": []
  },
  {
   "cell_type": "code",
   "execution_count": 9,
   "metadata": {},
   "outputs": [
    {
     "name": "stderr",
     "output_type": "stream",
     "text": [
      "100%|██████████| 4/4 [00:00<00:00, 17.90it/s]\n"
     ]
    }
   ],
   "source": [
    "for text in tqdm(ag_test['Description'].head(4)):\n",
    "    sentence = Sentence(text)\n",
    "    tars.predict_zero_shot(sentence, topic_labels)  # Zero-shot prediction\n",
    "\n",
    "    # Ensure there's a predicted label before accessing it\n",
    "    if sentence.labels:\n",
    "        predictions.append(sentence.labels[0].value)\n",
    "    else:\n",
    "        predictions.append(\"Unknown\")  # Fallback for empty predictions\n"
   ]
  },
  {
   "cell_type": "code",
   "execution_count": 10,
   "metadata": {},
   "outputs": [
    {
     "data": {
      "text/plain": [
       "['Business', 'Science', 'Science', 'Sports']"
      ]
     },
     "execution_count": 10,
     "metadata": {},
     "output_type": "execute_result"
    }
   ],
   "source": [
    "predictions"
   ]
  },
  {
   "cell_type": "code",
   "execution_count": 10,
   "metadata": {},
   "outputs": [
    {
     "name": "stdout",
     "output_type": "stream",
     "text": [
      "TARS Zero-Shot Accuracy: 21.83%\n"
     ]
    }
   ],
   "source": [
    "\n",
    "# Compute accuracy\n",
    "accuracy = sum([1 for pred, true in zip(predictions, true_labels) if pred == true]) / len(true_labels)\n",
    "print(f\"TARS Zero-Shot Accuracy: {accuracy * 100:.2f}%\")\n"
   ]
  },
  {
   "cell_type": "code",
   "execution_count": 12,
   "metadata": {},
   "outputs": [
    {
     "data": {
      "text/plain": [
       "Business    2079\n",
       "Sports      1892\n",
       "World       1795\n",
       "Unknown     1445\n",
       "Science      394\n",
       "Name: count, dtype: int64"
      ]
     },
     "execution_count": 12,
     "metadata": {},
     "output_type": "execute_result"
    }
   ],
   "source": [
    "# Convert predictions to pandas Series and show distribution\n",
    "pd.Series(predictions).value_counts()"
   ]
  },
  {
   "cell_type": "code",
   "execution_count": 13,
   "metadata": {},
   "outputs": [
    {
     "data": {
      "text/plain": [
       "Business    1900\n",
       "Science     1900\n",
       "Sports      1900\n",
       "World       1900\n",
       "Name: count, dtype: int64"
      ]
     },
     "execution_count": 13,
     "metadata": {},
     "output_type": "execute_result"
    }
   ],
   "source": [
    "# Convert predictions to pandas Series and show distribution\n",
    "pd.Series(true_labels).value_counts()"
   ]
  },
  {
   "cell_type": "code",
   "execution_count": null,
   "metadata": {},
   "outputs": [],
   "source": []
  }
 ],
 "metadata": {
  "kernelspec": {
   "display_name": "base",
   "language": "python",
   "name": "python3"
  },
  "language_info": {
   "codemirror_mode": {
    "name": "ipython",
    "version": 3
   },
   "file_extension": ".py",
   "mimetype": "text/x-python",
   "name": "python",
   "nbconvert_exporter": "python",
   "pygments_lexer": "ipython3",
   "version": "3.11.7"
  }
 },
 "nbformat": 4,
 "nbformat_minor": 2
}
